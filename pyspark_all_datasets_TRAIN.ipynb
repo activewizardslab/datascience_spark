{
 "cells": [
  {
   "cell_type": "markdown",
   "metadata": {
    "deletable": true,
    "editable": true
   },
   "source": [
    "# Main class 1"
   ]
  },
  {
   "cell_type": "markdown",
   "metadata": {
    "deletable": true,
    "editable": true
   },
   "source": [
    "### (by default for Maven dataset)"
   ]
  },
  {
   "cell_type": "code",
   "execution_count": 81,
   "metadata": {
    "collapsed": false,
    "deletable": true,
    "editable": true
   },
   "outputs": [],
   "source": [
    "import os\n",
    "import json\n",
    "import time, datetime\n",
    "import itertools\n",
    "import re\n",
    "import numpy as np\n",
    "\n",
    "from pyspark.sql.functions import udf\n",
    "from pyspark.mllib.feature import HashingTF, IDF\n",
    "from pyspark.mllib.regression import LabeledPoint\n",
    "from pyspark.mllib.linalg import Vectors, SparseVector\n",
    "from pyspark.mllib.tree import RandomForest, RandomForestModel\n",
    "from pyspark.mllib.util import MLUtils\n",
    "\n",
    "from pyspark import SparkContext\n",
    "from pyspark.sql import SQLContext\n",
    "sqlContext = SQLContext(sc)\n",
    "\n",
    "\n",
    "alp = 'abcdefghijklmnopqrstuvwxyz'\n",
    "lib = {alp[i]: 10+i for i in range(len(alp))}\n",
    "\n",
    "\n",
    "def loop(key, val):\n",
    "    pass\n",
    "\n",
    "def unique(s):\n",
    "    n = len(s)\n",
    "    if n == 0: return []\n",
    "\n",
    "    u = {}\n",
    "    try:\n",
    "        for x in s: u[x] = 1\n",
    "    except TypeError:\n",
    "        del u  # move on to the next method\n",
    "    else:\n",
    "        return u.keys()\n",
    "\n",
    "    try:\n",
    "        t = list(s)\n",
    "        t.sort()\n",
    "    except TypeError:\n",
    "        del t  # move on to the next method\n",
    "    else:\n",
    "        assert n > 0\n",
    "        last = t[0]\n",
    "        lasti = i = 1\n",
    "        while i < n:\n",
    "            if t[i] != last:\n",
    "                t[lasti] = last = t[i]\n",
    "                lasti += 1\n",
    "            i += 1\n",
    "        return t[:lasti]\n",
    "        \n",
    "    u = []    # Brute force is all that's left\n",
    "    for x in s:\n",
    "        if x not in u:\n",
    "            u.append(x)\n",
    "    return u\n",
    "    \n",
    "def author_transform(a):\n",
    "    return '-'.join(a) if len(a)> 1 else a[0]\n",
    "\n",
    "def path_joining(p):\n",
    "    pos = maxLen = 0\n",
    "    for i in range(len(p)):\n",
    "        if len(p[i]) > maxLen: \n",
    "            maxLen = len(p[i])\n",
    "            pos = i\n",
    "    p = p[pos]\n",
    "    if len(p) > 1:\n",
    "        p = '/'.join(p).replace('...', '')\n",
    "        p = ' '.join(p.split(\"/\")).strip().replace('  ', '')\n",
    "    else:\n",
    "        if p == []: \n",
    "            p = ''\n",
    "        else:\n",
    "            p = p[0]\n",
    "            p = ' '.join(p.split(\"/\")).strip().replace('...', '')\n",
    "    return p\n",
    "\n",
    "def date_coding(d):\n",
    "    d.sort()\n",
    "    s = float(float(d[-1])-float(d[0]))/3600.0 if len(d) > 1 else 0.0\n",
    "    return (d[0],s)\n",
    "\n",
    "def only_nums(a):\n",
    "    s = 0\n",
    "    for item in a:\n",
    "        x = [int(i) if i.isdigit() else lib[i] for i in item]\n",
    "        s += sum(x)*len(item) if x != [] else 0\n",
    "    return s\n",
    "\n",
    "def revNo_coding(no):\n",
    "    if no == '':\n",
    "        return 0\n",
    "    else:\n",
    "        is_alpha = False\n",
    "        for i in no:\n",
    "            if i.isalpha():\n",
    "                is_alpha = True\n",
    "                break\n",
    "        if is_alpha:\n",
    "            return sum([int(i) if i.isdigit() else lib[i] for i in no])*len(no)\n",
    "        else:\n",
    "            return float(no)\n",
    "\n",
    "def extract_data(x):\n",
    "    a = list(x[0])\n",
    "    a.extend(x[1])\n",
    "    return tuple(a)\n",
    "\n",
    "def toCSVLine(data):\n",
    "    return ','.join([str(d) for d in data])\n",
    "\n",
    "def parsePoint(line):\n",
    "    values = [float(x) for x in line.split(',')]\n",
    "    return LabeledPoint(values[1], values[2:])\n",
    "\n",
    "def remove_dir_fully(path):\n",
    "    import shutil\n",
    "    shutil.rmtree(path)\n",
    "\n",
    "\n",
    "class PriorityLabelCoding(object):\n",
    "    \"\"\"  \"\"\"\n",
    "    def coding(self, b):\n",
    "        label_binary = 0\n",
    "        if b == 'Blocker':\n",
    "            label_multi = label_binary = 1\n",
    "        elif b == 'Critical':\n",
    "            label_multi = label_binary = 1\n",
    "        elif b == 'Major':\n",
    "            label_multi = 2\n",
    "        elif b == 'Minor':\n",
    "            label_multi = 3\n",
    "        elif b == 'Trivial':\n",
    "            label_multi = 4\n",
    "        elif b == 10:\n",
    "            label_multi = 10\n",
    "        return (label_multi, label_binary)\n",
    "    \n",
    "    \n",
    "class DateFormating(object):\n",
    "    \"\"\"  \"\"\"\n",
    "    def __init__(self, date_format):\n",
    "        self.date_format = date_format\n",
    "    \n",
    "    def date_to_datetime(self, date):\n",
    "        date = str(date).split('-')[0].strip().split('+')[0].strip()\n",
    "        if date != '' and date != 'nan':\n",
    "            return str(time.mktime(datetime.datetime.strptime(str(date), self.date_format).timetuple()))\n",
    "        else:\n",
    "            return '0'\n",
    "          \n",
    "\n",
    "class TrainDataTransformer(object):\n",
    "    \"\"\" All parameters are set for 'maven' dataset by default \"\"\"\n",
    "    def __init__(self, path_to_dataset_directory):\n",
    "        self.path = path_to_dataset_directory\n",
    "        self._dataset_name = 'maven'\n",
    "        self._commits_path = os.path.join(self.path, 'commits')\n",
    "        self._issues_path = os.path.join(self.path, 'issues')\n",
    "        self._commits_columns = ['bugNo', 'author', 'date', 'modifiedFiles', 'revNo']\n",
    "        self._issues_columns = [\"bugNo\", \"Priority\"]\n",
    "        self._priority_column = 'Priority'\n",
    "        self._date_format = \"%a %b  %d %H:%M:%S %Y\"\n",
    "        self._commits_for_rename = {}\n",
    "        self._issues_for_rename = {}\n",
    "    \n",
    "    def _create_commits_df(self):\n",
    "        obj = DateFormating(self._date_format)\n",
    "        self._commits_df = sqlContext.createDataFrame(self._read_json(self._commits_path))\n",
    "        if isinstance(self._commits_for_rename, dict) and self._commits_for_rename != {}:\n",
    "            self._rename_commits_df_columns(self._commits_for_rename)\n",
    "        self._commits_df = self._commits_df.select(self._commits_columns)\n",
    "        if self._date_format != '':\n",
    "            d2dt = udf(lambda date: obj.date_to_datetime(date))\n",
    "            self._commits_df = self._commits_df.withColumn(\"date2\", d2dt(self._commits_df.date))\\\n",
    "                                             .drop('date').withColumnRenamed('date2', 'date')\n",
    "            self._commits_df = self._commits_df.filter(self._commits_df.date != '0')\n",
    "        # for grouping it is necessary that the column 'bugNo' was the first positioned\n",
    "        if self._commits_df.columns[0] != 'bugNo':\n",
    "            col1 = self._commits_df.columns[0]\n",
    "            self._commits_df = self._commits_df.withColumn(col1+'_duplicate', self._commits_df[col1]) \\\n",
    "                                                .withColumn(\"bugNo_duplicate\", self._commits_df['bugNo']) \\\n",
    "                                                .drop('bugNo').withColumnRenamed('bugNo_duplicate', 'bugNo') \\\n",
    "                                                .drop(col1).withColumnRenamed(col1+'_duplicate', col1)\n",
    "   \n",
    "    def _create_commits_rdd(self):\n",
    "        self.commits_rdd = self._commits_df.rdd\n",
    "        self.commits_rdd = self.commits_rdd.map(lambda x: (x[0], x[1], x[2], x[3], x[4]))\n",
    "        self._no_bug_rdd = self.commits_rdd.filter(lambda x: x[0] == '').map(lambda x: (10, [x[1]], [x[2]], [x[3]], [x[4]]))\n",
    "        \n",
    "    def _create_issues_df(self):\n",
    "        data = self._read_json(self._issues_path)\n",
    "        \n",
    "        parsed_data = []\n",
    "        for row in data:\n",
    "            el = {}\n",
    "            els1 = []\n",
    "            els2 = []\n",
    "            for key,val in row.iteritems():\n",
    "                if isinstance(val, list):\n",
    "                    if val == []:\n",
    "                        el[key] = ''\n",
    "                    elif len(val) == 1:\n",
    "                        is_nested_list = False\n",
    "                        while isinstance(val, list):\n",
    "                            val = val[0]\n",
    "                            if len(val) > 1 and not isinstance(val, dict):\n",
    "                                is_nested_list = True\n",
    "                                break\n",
    "                        if is_nested_list:\n",
    "                            els1 = loop(key,val)\n",
    "                        else:\n",
    "                            for key1,val1 in val.iteritems():\n",
    "                                el[key1] = val1\n",
    "                    else:   # i.e. len(val) > 1\n",
    "                        els2 = loop(key,val)\n",
    "                elif isinstance(val, dict):\n",
    "                    for key1,val1 in val.iteritems():\n",
    "                        el[key1] = val1\n",
    "                else:\n",
    "                    el[key] = val\n",
    "            parsed_data.append(el)\n",
    "            \n",
    "        self._issues_df = sqlContext.createDataFrame(parsed_data)\n",
    "        if isinstance(self._issues_for_rename, dict) and self._issues_for_rename != {}:\n",
    "            self._rename_issues_df_columns(self._issues_for_rename)\n",
    "        self._issues_df = self._issues_df.filter(self._issues_df[self._priority_column] != '')\n",
    "        self._issues_df = self._issues_df.select(self._issues_columns)\n",
    "        \n",
    "    def _create_issues_rdd(self):\n",
    "        self.issues_rdd = self._issues_df.rdd\n",
    "        self.issues_rdd = self.issues_rdd.map(lambda x: (x[0], x[1]))\n",
    "\n",
    "    def _bug_grouping_and_joining(self):\n",
    "        rdd_bug_grouped = self.commits_rdd.map(lambda x: (x[0], x[1])).groupByKey().map(lambda x: (x[0], unique(list(x[1]))))\n",
    "        rdd_joined = self.issues_rdd.join(rdd_bug_grouped)\n",
    "        for i in range(2,5):\n",
    "            rdd_bug_grouped_i = self.commits_rdd.map(lambda x: (x[0], x[i])).groupByKey().map(lambda x: (x[0], unique(list(x[1]))))\n",
    "            rdd_joined = rdd_joined.join(rdd_bug_grouped_i)\n",
    "        \n",
    "        #print 'rdd_joined'\n",
    "        #print rdd_joined.take(3)\n",
    "        self.bug_grouped_rdd = rdd_joined.map(lambda x: (x[1][0][0][0][0], x[1][0][0][0][1], x[1][0][0][1], x[1][0][1], x[1][1]))\n",
    "        #self.bug_grouped_rdd = self.bug_grouped_rdd.union(self._no_bug_rdd)\n",
    "        \n",
    "    def _author_coding(self):\n",
    "        unique_authors = self.bug_grouped_rdd.map(lambda x: x[1]).map(author_transform).distinct().zipWithIndex() \n",
    "        self.bug_grouped_rdd = self.bug_grouped_rdd.map(lambda x: (author_transform(x[1]), (x[0], x[2], x[3], x[4])))\n",
    "        self.bug_grouped_rdd = self.bug_grouped_rdd.leftOuterJoin(unique_authors).\\\n",
    "                                                    map(lambda x: (x[1][0][0], x[1][1], x[1][0][1], x[1][0][2], x[1][0][3]))\n",
    "            \n",
    "    def _date_coding(self):\n",
    "        self.bug_grouped_rdd = self.bug_grouped_rdd.map(lambda x: (x[0], x[1], x[2], x[3], \\\n",
    "                                                                   float(date_coding(x[4])[0]), date_coding(x[4])[1]))\n",
    "            \n",
    "    def _revNo_coding(self):\n",
    "        self.bug_grouped_rdd = self.bug_grouped_rdd.map(lambda x: (x[0], x[1], x[2], revNo_coding(x[3][0]), x[4], x[5]))\n",
    "      \n",
    "    def _label_coding(self):        \n",
    "        obj = PriorityLabelCoding()\n",
    "        self.bug_grouped_rdd = self.bug_grouped_rdd.\\\n",
    "                                    map(lambda x: (obj.coding(x[0])[0], obj.coding(x[0])[1], x[1], x[2], x[3], x[4], x[5]))    \n",
    "    \n",
    "    def _path_coding(self):\n",
    "        self.coded_rdd = self.bug_grouped_rdd.map(lambda x: (x[0], x[1], x[2], x[4], x[5], x[6]))\n",
    "        path_rdd = self.bug_grouped_rdd.map(lambda x: x[3]).map(path_joining)\n",
    "        \n",
    "        hashingTF = HashingTF(4000)\n",
    "        tf = hashingTF.transform(path_rdd)\n",
    "        tf.cache()\n",
    "        idf = IDF().fit(tf)\n",
    "        tfidf = idf.transform(tf)\n",
    "        resData =  tfidf.map(lambda x: list(x.toArray()))\n",
    "               \n",
    "        self.coded_rdd = self.coded_rdd.zip(resData)\n",
    "        self.coded_rdd = self.coded_rdd.map(extract_data).coalesce(1)\n",
    "     \n",
    "    def run(self):\n",
    "        ''' Reads data, transforms and cleans it and saves processed and encoded data to the text file '''\n",
    "        start = time.time()\n",
    "        print '-'*20+'commits_rdd creation'.upper()+'-'*20+' '+str(round(time.time()-start,3))+' sec'\n",
    "        self._create_commits_df()\n",
    "        self._create_commits_rdd()\n",
    "        \n",
    "        print '-'*20+'issues_rdd creation'.upper()+'-'*21+' '+str(round(time.time()-start,3))+' sec'\n",
    "        self._create_issues_df()\n",
    "        self._create_issues_rdd()\n",
    "        \n",
    "        print '-'*20+'grouping and joining'.upper()+'-'*20+' '+str(round(time.time()-start,3))+' sec'\n",
    "        self._bug_grouping_and_joining()\n",
    "        \n",
    "        print '-'*23+'author coding'.upper()+'-'*24+' '+str(round(time.time()-start,3))+' sec'\n",
    "        self._author_coding()\n",
    "        \n",
    "        print '-'*24+'date coding'.upper()+'-'*25+' '+str(round(time.time()-start,3))+' sec'\n",
    "        self._date_coding()\n",
    "        \n",
    "        print '-'*24+'revNo coding'.upper()+'-'*24+' '+str(round(time.time()-start,3))+' sec'\n",
    "        self._revNo_coding()\n",
    "        \n",
    "        print '-'*24+'label coding'.upper()+'-'*24+' '+str(round(time.time()-start,3))+' sec'\n",
    "        self._label_coding()\n",
    "            \n",
    "        print '-'*24+'path coding'.upper()+'-'*25+' '+str(round(time.time()-start,3))+' sec'\n",
    "        self._path_coding()        \n",
    "        \n",
    "        print '-'*26+'saving'.upper()+'-'*28+' '+str(round(time.time()-start,3))+' sec'\n",
    "        lines = self.coded_rdd.map(toCSVLine)\n",
    "        lines.saveAsTextFile(os.path.join(self.path, self._dataset_name+'_encoded_train_dataset.csv'))\n",
    "        print '-'*26+'finish'.upper()+'-'*28+' '+str(round(time.time()-start,3))+' sec'\n",
    "        \n",
    "    def train(self):\n",
    "        # Load and parse the data file into an RDD of LabeledPoint.\n",
    "        start = time.time()\n",
    "        print '\\n' + '-'*23+'training start'.upper()+'-'*23\n",
    "        try:\n",
    "            parsedData = self.coded_rdd.map(lambda x: LabeledPoint(x[1], x[2:]))\n",
    "        except NameError:\n",
    "            try:\n",
    "                # open(self._dataset_name + '_encoded_dataset.csv', 'r')\n",
    "                data = sc.textFile(self._dataset_name + '_encoded_dataset.csv')\n",
    "                parsedData = data.map(parsePoint)\n",
    "            except IOError:\n",
    "                raise Exception('File with encoded data was not found')\n",
    "            else:\n",
    "                raise Exception('Encoded dataset was not created')\n",
    "        \n",
    "        # Split the data into training and test sets (30% held out for testing)\n",
    "        (trainingData, testData) = parsedData.randomSplit([0.7, 0.3])\n",
    "\n",
    "        # Train a RandomForest model.\n",
    "        #  Empty categoricalFeaturesInfo indicates all features are continuous.\n",
    "        #  Note: Use larger numTrees in practice.\n",
    "        #  Setting featureSubsetStrategy=\"auto\" lets the algorithm choose.\n",
    "        model = RandomForest.trainClassifier(trainingData, numClasses=2, categoricalFeaturesInfo={},\n",
    "                                             numTrees=300, featureSubsetStrategy=\"auto\",\n",
    "                                             impurity='gini', maxDepth=4, maxBins=32)\n",
    "\n",
    "        #model.save(sc, os.path.join(self.path, self._dataset_name+'_model.pkl'))\n",
    "        # Evaluate model on test instances and compute test error\n",
    "        predictions = model.predict(testData.map(lambda x: x.features))\n",
    "        labelsAndPredictions = testData.map(lambda lp: lp.label).zip(predictions)\n",
    "        testErr = labelsAndPredictions.filter(lambda (v, p): v == p).count() / float(testData.count())\n",
    "        print '-'*20+'training is finished'.upper()+'-'*20+' '+str(round(time.time()-start,3))+' sec'\n",
    "        print('Accuracy = ' + str(testErr))\n",
    "        \n",
    "    def _rename_commits_df_columns(self, col_names):\n",
    "        \"\"\" col_names = {'old_name1': 'new_name1', 'old_name2': 'new_name2', ... } \"\"\"\n",
    "        assert (isinstance(col_names, dict)), \"Argument 'col_names' should be a dict.\"\n",
    "        for old_name, new_name in col_names.iteritems():\n",
    "            self._commits_df = self._commits_df.withColumnRenamed(old_name, new_name)\n",
    "    \n",
    "    def _rename_issues_df_columns(self, col_names):\n",
    "        \"\"\" col_names = {'old_name1': 'new_name1', 'old_name2': 'new_name2', ... } \"\"\"\n",
    "        assert (isinstance(col_names, dict)), \"Argument 'col_names' should be a dict.\"\n",
    "        for old_name, new_name in col_names.iteritems():\n",
    "            self._issues_df = self._issues_df.withColumnRenamed(old_name, new_name)\n",
    "            \n",
    "    def _read_json(self, path, coding='utf8'):\n",
    "        files = [os.path.join(path, f) for f in os.listdir(path) if os.path.isfile(os.path.join(path, f)) \\\n",
    "                                                                 and f.split('.')[-1] == 'json']\n",
    "        return [json.loads(line, coding) for f in files for line in open(f, 'r')]\n",
    "    \n",
    "    \n",
    "class MavenTrainDataTransformer(TrainDataTransformer):\n",
    "    pass"
   ]
  },
  {
   "cell_type": "markdown",
   "metadata": {
    "deletable": true,
    "editable": true
   },
   "source": [
    "### 1. Maven dataset"
   ]
  },
  {
   "cell_type": "code",
   "execution_count": 2,
   "metadata": {
    "collapsed": false,
    "deletable": true,
    "editable": true
   },
   "outputs": [
    {
     "name": "stdout",
     "output_type": "stream",
     "text": [
      "--------------------COMMITS_RDD CREATION-------------------- 0.0 sec\n",
      "--------------------ISSUES_RDD CREATION--------------------- 8.1 sec\n",
      "--------------------GROUPING AND JOINING-------------------- 9.467 sec\n",
      "-----------------------AUTHOR CODING------------------------ 9.95 sec\n",
      "------------------------DATE CODING------------------------- 32.359 sec\n",
      "------------------------REVNO CODING------------------------ 32.36 sec\n",
      "------------------------LABEL CODING------------------------ 32.36 sec\n",
      "------------------------PATH CODING------------------------- 32.36 sec\n",
      "--------------------------SAVING---------------------------- 41.942 sec\n",
      "--------------------------FINISH---------------------------- 152.701 sec\n",
      "\n",
      "-----------------------TRAINING START------------------------\n",
      "--------------------TRAINING IS FINISHED--------------------- 458.192 sec\n",
      "Accuracy = 0.95145631068\n"
     ]
    },
    {
     "name": "stderr",
     "output_type": "stream",
     "text": [
      "/usr/local/bin/spark-1.3.1-bin-hadoop2.6/python/pyspark/sql/context.py:209: UserWarning: inferring schema from dict is deprecated,please use pyspark.sql.Row instead\n",
      "  warnings.warn(\"inferring schema from dict is deprecated,\"\n"
     ]
    }
   ],
   "source": [
    "maven = MavenTrainDataTransformer('./maven')\n",
    "maven.run()\n",
    "maven.train()"
   ]
  },
  {
   "cell_type": "markdown",
   "metadata": {
    "deletable": true,
    "editable": true
   },
   "source": [
    "### 2. Hadoop dataset "
   ]
  },
  {
   "cell_type": "code",
   "execution_count": 4,
   "metadata": {
    "collapsed": false,
    "deletable": true,
    "editable": true
   },
   "outputs": [],
   "source": [
    "class HadoopTrainDataTransformer(TrainDataTransformer):\n",
    "    \n",
    "    def __init__(self, path_to_dataset_directory):\n",
    "        TrainDataTransformer.__init__(self, path_to_dataset_directory)\n",
    "        self._dataset_name = 'hadoop'\n",
    "        self._date_format = \"%a %b %d %H:%M:%S %Y\"\n",
    "        self._commits_for_rename = {'authored': 'date'}"
   ]
  },
  {
   "cell_type": "code",
   "execution_count": 5,
   "metadata": {
    "collapsed": false,
    "deletable": true,
    "editable": true
   },
   "outputs": [
    {
     "name": "stdout",
     "output_type": "stream",
     "text": [
      "--------------------COMMITS_RDD CREATION-------------------- 0.0 sec\n",
      "--------------------ISSUES_RDD CREATION--------------------- 10.834 sec\n",
      "--------------------GROUPING AND JOINING-------------------- 11.717 sec\n",
      "-----------------------AUTHOR CODING------------------------ 13.072 sec\n",
      "------------------------DATE CODING------------------------- 33.008 sec\n",
      "------------------------REVNO CODING------------------------ 33.013 sec\n",
      "------------------------LABEL CODING------------------------ 33.013 sec\n",
      "------------------------PATH CODING------------------------- 33.013 sec\n",
      "--------------------------SAVING---------------------------- 41.892 sec\n",
      "--------------------------FINISH---------------------------- 75.07 sec\n",
      "\n",
      "-----------------------TRAINING START-----------------------\n",
      "--------------------TRAINING IS FINISHED-------------------- 156.24 sec\n",
      "Accuracy = 0.882352941176\n"
     ]
    },
    {
     "name": "stderr",
     "output_type": "stream",
     "text": [
      "/usr/local/bin/spark-1.3.1-bin-hadoop2.6/python/pyspark/sql/context.py:209: UserWarning: inferring schema from dict is deprecated,please use pyspark.sql.Row instead\n",
      "  warnings.warn(\"inferring schema from dict is deprecated,\"\n"
     ]
    }
   ],
   "source": [
    "hadoop = HadoopTrainDataTransformer('./hadoop')\n",
    "hadoop.run()\n",
    "hadoop.train()"
   ]
  },
  {
   "cell_type": "markdown",
   "metadata": {
    "collapsed": true,
    "deletable": true,
    "editable": true
   },
   "source": [
    "### 3. Hbase dataset"
   ]
  },
  {
   "cell_type": "code",
   "execution_count": 7,
   "metadata": {
    "collapsed": true,
    "deletable": true,
    "editable": true
   },
   "outputs": [],
   "source": [
    "class HbaseTrainDataTransformer(TrainDataTransformer):\n",
    "    \n",
    "    def __init__(self, path_to_dataset_directory):\n",
    "        TrainDataTransformer.__init__(self, path_to_dataset_directory)\n",
    "        self._dataset_name = 'hbase'"
   ]
  },
  {
   "cell_type": "code",
   "execution_count": 8,
   "metadata": {
    "collapsed": false,
    "deletable": true,
    "editable": true
   },
   "outputs": [
    {
     "name": "stdout",
     "output_type": "stream",
     "text": [
      "--------------------COMMITS_RDD CREATION-------------------- 0.0 sec\n",
      "--------------------ISSUES_RDD CREATION--------------------- 2.195 sec\n",
      "--------------------GROUPING AND JOINING-------------------- 5.285 sec\n",
      "-----------------------AUTHOR CODING------------------------ 5.577 sec\n",
      "------------------------DATE CODING------------------------- 17.547 sec\n",
      "------------------------REVNO CODING------------------------ 17.551 sec\n",
      "------------------------LABEL CODING------------------------ 17.551 sec\n",
      "------------------------PATH CODING------------------------- 17.551 sec\n",
      "--------------------------SAVING---------------------------- 25.353 sec\n",
      "--------------------------FINISH---------------------------- 284.258 sec\n",
      "\n",
      "-----------------------TRAINING START-----------------------\n",
      "--------------------TRAINING IS FINISHED-------------------- 739.635 sec\n",
      "Accuracy = 0.837554045707\n"
     ]
    }
   ],
   "source": [
    "hbase = HbaseTrainDataTransformer('./hbase')\n",
    "hbase.run()\n",
    "hbase.train()"
   ]
  },
  {
   "cell_type": "markdown",
   "metadata": {
    "deletable": true,
    "editable": true
   },
   "source": [
    "### 4. Ignite dataset"
   ]
  },
  {
   "cell_type": "code",
   "execution_count": 88,
   "metadata": {
    "collapsed": true,
    "deletable": true,
    "editable": true
   },
   "outputs": [],
   "source": [
    "class IgniteTrainDataTransformer(TrainDataTransformer):\n",
    "    \n",
    "    def __init__(self, path_to_dataset_directory):\n",
    "        TrainDataTransformer.__init__(self, path_to_dataset_directory)\n",
    "        self._dataset_name = 'ignite'\n",
    "        self._date_format = \"%a %b %d %H:%M:%S %Y\"\n",
    "        self._commits_for_rename = {'authored': 'date'}"
   ]
  },
  {
   "cell_type": "code",
   "execution_count": 89,
   "metadata": {
    "collapsed": false,
    "deletable": true,
    "editable": true
   },
   "outputs": [
    {
     "name": "stdout",
     "output_type": "stream",
     "text": [
      "--------------------COMMITS_RDD CREATION-------------------- 0.0 sec\n",
      "--------------------ISSUES_RDD CREATION--------------------- 8.131 sec\n",
      "--------------------GROUPING AND JOINING-------------------- 8.439 sec\n",
      "-----------------------AUTHOR CODING------------------------ 8.653 sec\n",
      "------------------------DATE CODING------------------------- 48.154 sec\n",
      "------------------------REVNO CODING------------------------ 48.169 sec\n",
      "------------------------LABEL CODING------------------------ 48.169 sec\n",
      "------------------------PATH CODING------------------------- 48.17 sec\n",
      "--------------------------SAVING---------------------------- 51.583 sec\n",
      "--------------------------FINISH---------------------------- 81.898 sec\n",
      "\n",
      "-----------------------TRAINING START-----------------------\n",
      "--------------------TRAINING IS FINISHED-------------------- 122.888 sec\n",
      "Accuracy = 0.647058823529\n"
     ]
    }
   ],
   "source": [
    "ignite = IgniteTrainDataTransformer('./ignite')\n",
    "ignite.run()\n",
    "ignite.train()"
   ]
  },
  {
   "cell_type": "markdown",
   "metadata": {
    "deletable": true,
    "editable": true
   },
   "source": [
    "### 5. Jmeter dataset"
   ]
  },
  {
   "cell_type": "code",
   "execution_count": 77,
   "metadata": {
    "collapsed": false,
    "deletable": true,
    "editable": true
   },
   "outputs": [],
   "source": [
    "def getBugNoByURL(item):\n",
    "    x = re.findall('\\d+', str(item))\n",
    "    return x[0] if x != [] else ''\n",
    "\n",
    "\n",
    "class ImportanceLabelCoding(PriorityLabelCoding):\n",
    "    \"\"\"  \"\"\"\n",
    "    def coding(self, b):\n",
    "        try:\n",
    "            label_multi = int(b[1])\n",
    "        except:\n",
    "            label_multi = 10\n",
    "        label_binary = 1 if label_multi == 1 else 0\n",
    "        return (label_multi, label_binary)\n",
    "\n",
    "\n",
    "class JmeterTrainDataTransformer(TrainDataTransformer):\n",
    "    \n",
    "    def __init__(self, path_to_dataset_directory):\n",
    "        TrainDataTransformer.__init__(self, path_to_dataset_directory)\n",
    "        self._dataset_name = 'jmeter'\n",
    "        self._issues_columns = [\"bugNo\", \"Importance:\"]\n",
    "        self._priority_column = 'Importance:'\n",
    "        \n",
    "    def _create_issues_df(self):\n",
    "        data = self._read_json(self._issues_path)\n",
    "        \n",
    "        parsed_data = []\n",
    "        for row in data:\n",
    "            el = {}\n",
    "            for key,val in row.iteritems():\n",
    "                if isinstance(val, list):\n",
    "                    if val == []:\n",
    "                        el[key] = ''\n",
    "                    elif len(val) == 1:\n",
    "                        while isinstance(val, list):\n",
    "                            val = val[0]\n",
    "                        for key1,val1 in val.iteritems():\n",
    "                            el[key1] = val1\n",
    "                    else:\n",
    "                        for i in val:\n",
    "                            for key1,val1 in i.iteritems():\n",
    "                                el[key1] = val1\n",
    "                elif isinstance(val, dict):\n",
    "                    for key1,val1 in val.iteritems():\n",
    "                        el[key1] = val1\n",
    "                else:\n",
    "                    el[key] = val\n",
    "            url = ''\n",
    "            if 'titleURL' in el.keys():\n",
    "                url = el['titleURL']\n",
    "            elif 'detailsURL' in el.keys():\n",
    "                url = el['detailsURL']\n",
    "            el['bugNo'] = getBugNoByURL(url)\n",
    "            parsed_data.append(el)\n",
    "        \n",
    "        self._issues_df = sqlContext.createDataFrame(parsed_data)\n",
    "        if isinstance(self._issues_for_rename, dict) and self._issues_for_rename != {}:\n",
    "            self._rename_issues_df_columns(self._issues_for_rename)\n",
    "        self._issues_df = self._issues_df.filter(self._issues_df[self._priority_column] != '')\n",
    "        self._issues_df = self._issues_df.select(self._issues_columns)\n",
    "        \n",
    "    def _label_coding(self):        \n",
    "        obj = ImportanceLabelCoding()\n",
    "        self.bug_grouped_rdd = self.bug_grouped_rdd.\\\n",
    "                                    map(lambda x: (obj.coding(x[0])[0], obj.coding(x[0])[1], x[1], x[2], x[3], x[4], x[5]))  "
   ]
  },
  {
   "cell_type": "code",
   "execution_count": 78,
   "metadata": {
    "collapsed": false,
    "deletable": true,
    "editable": true
   },
   "outputs": [
    {
     "name": "stdout",
     "output_type": "stream",
     "text": [
      "--------------------COMMITS_RDD CREATION-------------------- 0.0 sec\n",
      "--------------------ISSUES_RDD CREATION--------------------- 0.604 sec\n",
      "--------------------GROUPING AND JOINING-------------------- 1.341 sec\n",
      "-----------------------AUTHOR CODING------------------------ 1.61 sec\n",
      "------------------------DATE CODING------------------------- 6.508 sec\n",
      "------------------------REVNO CODING------------------------ 6.512 sec\n",
      "------------------------LABEL CODING------------------------ 6.512 sec\n",
      "------------------------PATH CODING------------------------- 6.512 sec\n",
      "--------------------------SAVING---------------------------- 9.358 sec\n",
      "--------------------------FINISH---------------------------- 46.059 sec\n",
      "\n",
      "-----------------------TRAINING START-----------------------\n",
      "--------------------TRAINING IS FINISHED-------------------- 98.208 sec\n",
      "Accuracy = 0.977099236641\n"
     ]
    }
   ],
   "source": [
    "jmeter = JmeterTrainDataTransformer('./jmeter')\n",
    "jmeter.run()\n",
    "jmeter.train()"
   ]
  },
  {
   "cell_type": "markdown",
   "metadata": {
    "deletable": true,
    "editable": true
   },
   "source": [
    "### 6. Spark dataset"
   ]
  },
  {
   "cell_type": "code",
   "execution_count": 82,
   "metadata": {
    "collapsed": true,
    "deletable": true,
    "editable": true
   },
   "outputs": [],
   "source": [
    "class SparkTrainDataTransformer(TrainDataTransformer):\n",
    "    \n",
    "    def __init__(self, path_to_dataset_directory):\n",
    "        TrainDataTransformer.__init__(self, path_to_dataset_directory)\n",
    "        self._dataset_name = 'spark'\n",
    "        self._date_format = \"%a %b %d %H:%M:%S %Y\"\n",
    "        self._commits_for_rename = {'authored': 'date'}"
   ]
  },
  {
   "cell_type": "code",
   "execution_count": 83,
   "metadata": {
    "collapsed": false,
    "deletable": true,
    "editable": true
   },
   "outputs": [
    {
     "name": "stdout",
     "output_type": "stream",
     "text": [
      "--------------------COMMITS_RDD CREATION-------------------- 0.0 sec\n",
      "--------------------ISSUES_RDD CREATION--------------------- 1.615 sec\n",
      "--------------------GROUPING AND JOINING-------------------- 2.909 sec\n",
      "-----------------------AUTHOR CODING------------------------ 3.098 sec\n",
      "------------------------DATE CODING------------------------- 10.455 sec\n",
      "------------------------REVNO CODING------------------------ 10.458 sec\n",
      "------------------------LABEL CODING------------------------ 10.459 sec\n",
      "------------------------PATH CODING------------------------- 10.459 sec\n",
      "--------------------------SAVING---------------------------- 17.813 sec\n",
      "--------------------------FINISH---------------------------- 366.342 sec\n",
      "\n",
      "-----------------------TRAINING START-----------------------\n",
      "--------------------TRAINING IS FINISHED-------------------- 743.062 sec\n",
      "Accuracy = 0.765087605451\n"
     ]
    }
   ],
   "source": [
    "spark = SparkTrainDataTransformer('./spark')\n",
    "spark.run()\n",
    "spark.train()"
   ]
  },
  {
   "cell_type": "markdown",
   "metadata": {
    "collapsed": true,
    "deletable": true,
    "editable": true
   },
   "source": [
    "# Main class 2"
   ]
  },
  {
   "cell_type": "markdown",
   "metadata": {
    "deletable": true,
    "editable": true
   },
   "source": [
    "### (by default for Depot dataset)"
   ]
  },
  {
   "cell_type": "code",
   "execution_count": 28,
   "metadata": {
    "collapsed": false,
    "deletable": true,
    "editable": true
   },
   "outputs": [],
   "source": [
    "def get_all_keys(dataset):\n",
    "    keys = []\n",
    "    for i in dataset:\n",
    "        if isinstance(i, list): i = i[0]\n",
    "        for k in i.keys():\n",
    "            if k not in keys:\n",
    "                keys.append(k)\n",
    "    return keys\n",
    "\n",
    "def size_coding(l):\n",
    "    try:\n",
    "        try: \n",
    "            l[0]\n",
    "            l = list(itertools.chain.from_iterable(l))\n",
    "        except: pass\n",
    "        l = filter(lambda x: isinstance(x, str) or isinstance(x, unicode), l)\n",
    "        l = filter(lambda x: x != '' and float(x) != 0.0, l)\n",
    "        l = map(lambda x: float(x), l)\n",
    "        x = np.mean(l)\n",
    "        return 0.0 if np.isnan(x) else x\n",
    "    except:\n",
    "        return 0.0\n",
    "\n",
    "\n",
    "class SeverityLabelCoding(PriorityLabelCoding):\n",
    "    \"\"\"  \"\"\"\n",
    "    def coding(self, b):\n",
    "        label_binary = 0\n",
    "        if b == 'A':\n",
    "            labe_multi = label_binary = 1\n",
    "        elif b == 'B':\n",
    "            labe_multi = 2\n",
    "        elif b == 'C':\n",
    "            labe_multi = 3\n",
    "        elif b == 10:\n",
    "            labe_multi = 10\n",
    "        return (labe_multi, label_binary)\n",
    "\n",
    "\n",
    "class JobTrainDataTransformer(TrainDataTransformer):\n",
    "    \n",
    "    def __init__(self, path_to_dataset_directory):\n",
    "        TrainDataTransformer.__init__(self, path_to_dataset_directory)\n",
    "        self._dataset_name = 'depot'\n",
    "        self._commits_for_rename = {'authored': 'date'}\n",
    "        self._commits_columns = ['bugNo', 'change', 'depotFile', 'time', 'user', 'rev', 'action', 'fileSize']\n",
    "        self._issues_columns = [\"bugNo\", \"Severity\"]\n",
    "        self._priority_column = 'Severity'\n",
    "        self._date_format = ''\n",
    "        self._commits_for_rename = {'job': 'bugNo'}\n",
    "        self._issues_for_rename = {'Job': 'bugNo'}\n",
    "    \n",
    "    def _create_commits_rdd(self):\n",
    "        self.commits_rdd = self._commits_df.rdd\n",
    "        self.commits_rdd = self.commits_rdd.map(lambda x: (x[0], x[1], x[2], x[3], x[4], x[5], x[6], x[7]))\n",
    "        self._no_bug_rdd = self.commits_rdd.filter(lambda x: x[0] == ''). \\\n",
    "                                            map(lambda x: (10, [x[1]], [x[2]], [x[3]], [x[4]], x[5], x[6], x[7]))\n",
    "        \n",
    "    def _bug_grouping_and_joining(self):\n",
    "        rdd_bug_grouped = self.commits_rdd.map(lambda x: (x[0], x[1])).groupByKey().map(lambda x: (x[0], unique(list(x[1]))))\n",
    "        rdd_joined = self.issues_rdd.join(rdd_bug_grouped)\n",
    "        for i in range(2,8):\n",
    "            rdd_bug_grouped_i = self.commits_rdd.map(lambda x: (x[0], x[i])).groupByKey().map(lambda x: (x[0], unique(list(x[1]))))\n",
    "            rdd_joined = rdd_joined.join(rdd_bug_grouped_i)\n",
    "        \n",
    "        #print 'rdd_joined'\n",
    "        #print rdd_joined.take(3)\n",
    "        self.bug_grouped_rdd = rdd_joined.map(lambda x: (x[1][0][0][0][0][0][0][0], x[1][0][0][0][0][0][0][1], \n",
    "                                                         x[1][0][0][0][0][0][1],  x[1][0][0][0][0][1], \n",
    "                                                         x[1][0][0][0][1], x[1][0][0][1], x[1][0][1], x[1][1]))\n",
    "        \n",
    "    def _author_coding(self):\n",
    "        unique_authors = self.bug_grouped_rdd.map(lambda x: x[4]).map(author_transform).distinct().zipWithIndex() \n",
    "        self.bug_grouped_rdd = self.bug_grouped_rdd.map(lambda x: (author_transform(x[4]), (x[0], x[1], x[2], \n",
    "                                                                                            x[3], x[5], x[6], x[7])))\n",
    "        self.bug_grouped_rdd = self.bug_grouped_rdd.leftOuterJoin(unique_authors).\\\n",
    "                                                    map(lambda x: (x[1][0][0], x[1][1], x[1][0][1], x[1][0][2], \n",
    "                                                                   x[1][0][3], x[1][0][4], x[1][0][5], x[1][0][6]))\n",
    "        \n",
    "    def _date_coding(self):\n",
    "        self.bug_grouped_rdd = self.bug_grouped_rdd.map(lambda x: (x[0], x[1], x[2], x[3], float(date_coding(x[4])[0]), \n",
    "                                                                   date_coding(x[4])[1], x[5], x[6], x[7]))\n",
    "            \n",
    "    def _revNo_coding(self):\n",
    "        self.bug_grouped_rdd = self.bug_grouped_rdd.map(lambda x: (x[0], x[1], x[2], x[3], x[4], x[5], \n",
    "                                                                   revNo_coding(x[6][0][0]), x[7], x[8]))\n",
    "        \n",
    "    def _change_coding(self):\n",
    "        self.bug_grouped_rdd = self.bug_grouped_rdd.map(lambda x: (x[0], x[1], revNo_coding(x[2][0]), x[3], \n",
    "                                                                   x[4], x[5], x[6], x[7], x[8]))\n",
    "        \n",
    "    def _action_coding(self):\n",
    "        unique_actions = self.bug_grouped_rdd.map(lambda x: unique(x[7][0])).map(author_transform).distinct().zipWithIndex() \n",
    "        self.bug_grouped_rdd = self.bug_grouped_rdd.map(lambda x: (author_transform(unique(x[7][0])), (x[0], x[1], x[2], x[3], \n",
    "                                                                                                       x[4], x[5], x[6], x[8])))\n",
    "        self.bug_grouped_rdd = self.bug_grouped_rdd.leftOuterJoin(unique_actions).\\\n",
    "                                                    map(lambda x: (x[1][0][0], x[1][1], x[1][0][1], x[1][0][2], x[1][0][3], \n",
    "                                                                   x[1][0][4], x[1][0][5], x[1][0][6], x[1][0][7]))\n",
    "      \n",
    "    def _size_coding(self):\n",
    "        self.bug_grouped_rdd = self.bug_grouped_rdd.map(lambda x: (x[0], x[1], x[2], x[3], x[4], x[5], \n",
    "                                                                   x[6], x[7], size_coding(x[8][0])))  \n",
    "        \n",
    "    def _label_coding(self):        \n",
    "        obj = SeverityLabelCoding()\n",
    "        self.bug_grouped_rdd = self.bug_grouped_rdd.map(lambda x: (obj.coding(x[0])[0], obj.coding(x[0])[1], \n",
    "                                                                   x[1], x[2], x[3], x[4], x[5], x[6], x[7], x[8]))    \n",
    "    \n",
    "    def _path_coding(self):\n",
    "        self.coded_rdd = self.bug_grouped_rdd.map(lambda x: (x[0], x[1], x[2], x[3], x[4], x[6], x[7], x[8], x[9]))\n",
    "        path_rdd = self.bug_grouped_rdd.map(lambda x: x[5]).map(path_joining)\n",
    "        \n",
    "        hashingTF = HashingTF(4000)\n",
    "        tf = hashingTF.transform(path_rdd)\n",
    "        tf.cache()\n",
    "        idf = IDF().fit(tf)\n",
    "        tfidf = idf.transform(tf)\n",
    "        resData =  tfidf.map(lambda x: list(x.toArray()))\n",
    "               \n",
    "        self.coded_rdd = self.coded_rdd.zip(resData)\n",
    "        self.coded_rdd = self.coded_rdd.map(extract_data).coalesce(1)\n",
    "     \n",
    "    def run(self):\n",
    "        ''' Reads data, transforms and cleans it and saves processed and encoded data to the text file '''\n",
    "        start = time.time()\n",
    "        print '-'*20+'commits_rdd creation'.upper()+'-'*20+' '+str(round(time.time()-start,3))+' sec'\n",
    "        self._create_commits_df()\n",
    "        self._create_commits_rdd()\n",
    "        \n",
    "        print '-'*20+'issues_rdd creation'.upper()+'-'*21+' '+str(round(time.time()-start,3))+' sec'\n",
    "        self._create_issues_df()\n",
    "        self._create_issues_rdd()\n",
    "        \n",
    "        print '-'*20+'grouping and joining'.upper()+'-'*20+' '+str(round(time.time()-start,3))+' sec'\n",
    "        self._bug_grouping_and_joining()\n",
    "        \n",
    "        print '-'*23+'author coding'.upper()+'-'*24+' '+str(round(time.time()-start,3))+' sec'\n",
    "        self._author_coding()\n",
    "        \n",
    "        print '-'*24+'date coding'.upper()+'-'*25+' '+str(round(time.time()-start,3))+' sec'\n",
    "        self._date_coding()\n",
    "        \n",
    "        print '-'*24+'revNo coding'.upper()+'-'*24+' '+str(round(time.time()-start,3))+' sec'\n",
    "        self._revNo_coding()\n",
    "        \n",
    "        print '-'*23+'change coding'.upper()+'-'*24+' '+str(round(time.time()-start,3))+' sec'\n",
    "        self._change_coding()\n",
    "        \n",
    "        print '-'*23+'action coding'.upper()+'-'*24+' '+str(round(time.time()-start,3))+' sec'\n",
    "        self._action_coding()\n",
    "        \n",
    "        print '-'*24+'size coding'.upper()+'-'*25+' '+str(round(time.time()-start,3))+' sec'\n",
    "        self._size_coding()\n",
    "        \n",
    "        print '-'*24+'label coding'.upper()+'-'*24+' '+str(round(time.time()-start,3))+' sec'\n",
    "        self._label_coding()\n",
    "            \n",
    "        print '-'*24+'path coding'.upper()+'-'*25+' '+str(round(time.time()-start,3))+' sec'\n",
    "        self._path_coding()        \n",
    "        \n",
    "        print '-'*26+'saving'.upper()+'-'*28+' '+str(round(time.time()-start,3))+' sec'\n",
    "        lines = self.coded_rdd.map(toCSVLine)\n",
    "        lines.saveAsTextFile(os.path.join(self.path, self._dataset_name+'_encoded_train_dataset.csv'))\n",
    "        print '-'*26+'finish'.upper()+'-'*28+' '+str(round(time.time()-start,3))+' sec'\n",
    "        \n",
    "        \n",
    "    def _read_json(self, path, coding=\"ISO-8859-1\"):\n",
    "        files = [os.path.join(path, f) for f in os.listdir(path) if os.path.isfile(os.path.join(path, f)) \\\n",
    "                                                                 and f.split('.')[-1] == 'json']\n",
    "        x = [json.loads(line, coding) for f in files for line in open(f, 'r')]\n",
    "        x = x = [i[0] if isinstance(i, list) else i for i in x[0]]\n",
    "        if 'job' in get_all_keys(x):\n",
    "            new_x = []\n",
    "            counter = 0\n",
    "            for i in x:\n",
    "                if 'job' not in i.keys():\n",
    "                    new_x.append(i)\n",
    "                    new_x[counter].update({'job': ''})\n",
    "                    counter += 1\n",
    "                    continue\n",
    "                if isinstance(i['job'], list) and len(i['job']) > 1:\n",
    "                    for j in i['job']:\n",
    "                        new_x.append(i)\n",
    "                        new_x[counter].update({'job': j})\n",
    "                        counter += 1\n",
    "                else:\n",
    "                    new_x.append(i)\n",
    "                    if isinstance(i['job'], list):\n",
    "                        new_x[counter].update({'job': i['job'][0]})\n",
    "                    counter += 1\n",
    "            return new_x\n",
    "        else:\n",
    "            return x\n",
    "        \n",
    "        \n",
    "class DepotTrainDataTransformer(JobTrainDataTransformer):\n",
    "    pass"
   ]
  },
  {
   "cell_type": "markdown",
   "metadata": {
    "collapsed": true,
    "deletable": true,
    "editable": true
   },
   "source": [
    "### 7. Depot dataset"
   ]
  },
  {
   "cell_type": "code",
   "execution_count": 105,
   "metadata": {
    "collapsed": false,
    "deletable": true,
    "editable": true
   },
   "outputs": [
    {
     "name": "stdout",
     "output_type": "stream",
     "text": [
      "--------------------COMMITS_RDD CREATION-------------------- 0.0 sec\n",
      "--------------------ISSUES_RDD CREATION--------------------- 3.864 sec\n",
      "--------------------GROUPING AND JOINING-------------------- 4.683 sec\n",
      "-----------------------AUTHOR CODING------------------------ 4.938 sec\n",
      "------------------------DATE CODING------------------------- 57.558 sec\n",
      "------------------------REVNO CODING------------------------ 57.563 sec\n",
      "-----------------------CHANGE CODING------------------------ 57.564 sec\n",
      "-----------------------ACTION CODING------------------------ 57.564 sec\n",
      "------------------------SIZE CODING------------------------- 62.72 sec\n",
      "------------------------LABEL CODING------------------------ 62.724 sec\n",
      "------------------------PATH CODING------------------------- 62.724 sec\n",
      "--------------------------SAVING---------------------------- 76.703 sec\n",
      "--------------------------FINISH---------------------------- 260.742 sec\n",
      "\n",
      "-----------------------TRAINING START-----------------------\n",
      "--------------------TRAINING IS FINISHED-------------------- 553.432 sec\n",
      "Accuracy = 0.866167023555\n"
     ]
    }
   ],
   "source": [
    "depot = DepotTrainDataTransformer('./depot')\n",
    "depot.run()\n",
    "depot.train()"
   ]
  },
  {
   "cell_type": "markdown",
   "metadata": {
    "deletable": true,
    "editable": true
   },
   "source": [
    "### 8. P4_Java dataset"
   ]
  },
  {
   "cell_type": "code",
   "execution_count": 45,
   "metadata": {
    "collapsed": false,
    "deletable": true,
    "editable": true
   },
   "outputs": [],
   "source": [
    "class P4JavaTrainDataTransformer(JobTrainDataTransformer):\n",
    "    \n",
    "    def __init__(self, path_to_dataset_directory):\n",
    "        JobTrainDataTransformer.__init__(self, path_to_dataset_directory)\n",
    "        self._dataset_name = 'p4_java'        "
   ]
  },
  {
   "cell_type": "code",
   "execution_count": 46,
   "metadata": {
    "collapsed": false,
    "deletable": true,
    "editable": true
   },
   "outputs": [
    {
     "name": "stdout",
     "output_type": "stream",
     "text": [
      "--------------------COMMITS_RDD CREATION-------------------- 0.0 sec\n",
      "--------------------ISSUES_RDD CREATION--------------------- 0.521 sec\n",
      "--------------------GROUPING AND JOINING-------------------- 0.759 sec\n",
      "-----------------------AUTHOR CODING------------------------ 1.178 sec\n",
      "------------------------DATE CODING------------------------- 10.393 sec\n",
      "------------------------REVNO CODING------------------------ 10.396 sec\n",
      "-----------------------CHANGE CODING------------------------ 10.396 sec\n",
      "-----------------------ACTION CODING------------------------ 10.397 sec\n",
      "------------------------SIZE CODING------------------------- 14.539 sec\n",
      "------------------------LABEL CODING------------------------ 14.543 sec\n",
      "------------------------PATH CODING------------------------- 14.543 sec\n",
      "--------------------------SAVING---------------------------- 23.536 sec\n",
      "--------------------------FINISH---------------------------- 60.86 sec\n",
      "\n",
      "-----------------------TRAINING START-----------------------\n",
      "--------------------TRAINING IS FINISHED-------------------- 128.185 sec\n",
      "Accuracy = 0.79347826087\n"
     ]
    }
   ],
   "source": [
    "p4_java = P4JavaTrainDataTransformer('./p4_java')\n",
    "p4_java.run()\n",
    "p4_java.train()"
   ]
  },
  {
   "cell_type": "markdown",
   "metadata": {
    "collapsed": true,
    "deletable": true,
    "editable": true
   },
   "source": [
    "### 9. P4_all dataset"
   ]
  },
  {
   "cell_type": "code",
   "execution_count": 29,
   "metadata": {
    "collapsed": true,
    "deletable": true,
    "editable": true
   },
   "outputs": [],
   "source": [
    "class P4AllTrainDataTransformer(JobTrainDataTransformer):\n",
    "    \n",
    "    def __init__(self, path_to_dataset_directory):\n",
    "        JobTrainDataTransformer.__init__(self, path_to_dataset_directory)\n",
    "        self._dataset_name = 'p4_all'     "
   ]
  },
  {
   "cell_type": "code",
   "execution_count": 30,
   "metadata": {
    "collapsed": false,
    "deletable": true,
    "editable": true
   },
   "outputs": [
    {
     "name": "stdout",
     "output_type": "stream",
     "text": [
      "--------------------COMMITS_RDD CREATION-------------------- 0.0 sec\n",
      "--------------------ISSUES_RDD CREATION--------------------- 5.791 sec\n",
      "--------------------GROUPING AND JOINING-------------------- 7.479 sec\n",
      "-----------------------AUTHOR CODING------------------------ 7.767 sec\n",
      "------------------------DATE CODING------------------------- 88.719 sec\n",
      "------------------------REVNO CODING------------------------ 88.722 sec\n",
      "-----------------------CHANGE CODING------------------------ 88.722 sec\n",
      "-----------------------ACTION CODING------------------------ 88.722 sec\n",
      "------------------------SIZE CODING------------------------- 94.01 sec\n",
      "------------------------LABEL CODING------------------------ 94.014 sec\n",
      "------------------------PATH CODING------------------------- 94.014 sec\n",
      "--------------------------SAVING---------------------------- 113.558 sec\n",
      "--------------------------FINISH---------------------------- 305.348 sec\n",
      "\n",
      "-----------------------TRAINING START-----------------------\n",
      "--------------------TRAINING IS FINISHED-------------------- 802.579 sec\n",
      "Accuracy = 0.739495798319\n"
     ]
    }
   ],
   "source": [
    "p4_all = P4AllTrainDataTransformer('./p4_all')\n",
    "p4_all.run()\n",
    "p4_all.train()"
   ]
  },
  {
   "cell_type": "code",
   "execution_count": null,
   "metadata": {
    "collapsed": true,
    "deletable": true,
    "editable": true
   },
   "outputs": [],
   "source": []
  },
  {
   "cell_type": "code",
   "execution_count": null,
   "metadata": {
    "collapsed": true,
    "deletable": true,
    "editable": true
   },
   "outputs": [],
   "source": []
  },
  {
   "cell_type": "markdown",
   "metadata": {
    "deletable": true,
    "editable": true
   },
   "source": [
    "## Block for checking"
   ]
  },
  {
   "cell_type": "code",
   "execution_count": 12,
   "metadata": {
    "collapsed": false,
    "deletable": true,
    "editable": true
   },
   "outputs": [
    {
     "name": "stdout",
     "output_type": "stream",
     "text": [
      "DataFrame[bugNo: string, change: string, depotFile: array<string>, time: string, user: string, rev: array<string>, action: array<string>, fileSize: array<string>]\n",
      "+---------+------+--------------------+----------+---------+--------------------+--------------------+--------------------+\n",
      "|    bugNo|change|           depotFile|      time|     user|                 rev|              action|            fileSize|\n",
      "+---------+------+--------------------+----------+---------+--------------------+--------------------+--------------------+\n",
      "|         |587196|[//depot/main/p4-...|1360099434|    smoon|                 [9]|              [edit]|              [2809]|\n",
      "|         |525938|[//depot/main/p4-...|1348016310|   cgrant|[14, 10, 14, 10, ...|[integrate, integ...|[20240, 4877, 202...|\n",
      "|job057782|512149|[//depot/main/p4-...|1345245031|nlemonier|                 [1]|               [add]|              [2997]|\n",
      "+---------+------+--------------------+----------+---------+--------------------+--------------------+--------------------+\n",
      "only showing top 3 rows\n",
      "\n",
      "None\n",
      "DataFrame[bugNo: string, Severity: string]\n",
      "+---------+--------+\n",
      "|    bugNo|Severity|\n",
      "+---------+--------+\n",
      "|job000688|       A|\n",
      "|job000728|       C|\n",
      "|job002517|       C|\n",
      "+---------+--------+\n",
      "only showing top 3 rows\n",
      "\n",
      "None\n",
      "PythonRDD[296] at RDD at PythonRDD.scala:43\n",
      "[(u'', u'587196', [u'//depot/main/p4-qt/qa/automated_testing/jsapi/util/util.js'], u'1360099434', u'smoon', [u'9'], [u'edit'], [u'2809']), (u'', u'525938', [u'//depot/main/p4-qt/qa/automated_testing/squish/test_suites/suite_bookmark_operations/shared/scripts/p4v_tools.pl', u'//depot/main/p4-qt/qa/automated_testing/squish/test_suites/suite_bookmark_operations/tst_173/test.pl', u'//depot/main/p4-qt/qa/automated_testing/squish/test_suites/suite_change_password_dialog/shared/scripts/p4v_tools.pl', u'//depot/main/p4-qt/qa/automated_testing/squish/test_suites/suite_change_password_dialog/tst_882/test.pl', u'//depot/main/p4-qt/qa/automated_testing/squish/test_suites/suite_change_password_dialog/tst_884/test.pl', u'//depot/main/p4-qt/qa/automated_testing/squish/test_suites/suite_change_password_dialog/tst_885/test.pl', u'//depot/main/p4-qt/qa/automated_testing/squish/test_suites/suite_connection_wizard_operations/shared/scripts/p4v_tools.pl', u'//depot/main/p4-qt/qa/automated_testing/squish/test_suites/suite_connection_wizard_operations/tst_connection_wizard_dialog/test.pl', u'//depot/main/p4-qt/qa/automated_testing/squish/test_suites/suite_favorite_connection_operations/objects.map', u'//depot/main/p4-qt/qa/automated_testing/squish/test_suites/suite_favorite_connection_operations/shared/scripts/p4v_tools.pl', u'//depot/main/p4-qt/qa/automated_testing/squish/test_suites/suite_favorite_connection_operations/tst_262/test.pl', u'//depot/main/p4-qt/qa/automated_testing/squish/test_suites/suite_filter_operations/shared/scripts/p4v_tools.pl', u'//depot/main/p4-qt/qa/automated_testing/squish/test_suites/suite_filter_operations/tst_977/test.pl', u'//depot/main/p4-qt/qa/automated_testing/squish/test_suites/suite_help_operations/shared/scripts/p4v_tools.pl', u'//depot/main/p4-qt/qa/automated_testing/squish/test_suites/suite_help_operations/tst_985/test.pl', u'//depot/main/p4-qt/qa/automated_testing/squish/test_suites/suite_main_menu_operations/shared/scripts/p4v_tools.pl', u'//depot/main/p4-qt/qa/automated_testing/squish/test_suites/suite_main_menu_operations/tst_984/test.pl', u'//depot/main/p4-qt/qa/automated_testing/squish/test_suites/suite_merge_operations/objects.map', u'//depot/main/p4-qt/qa/automated_testing/squish/test_suites/suite_merge_operations/shared/scripts/p4v_tools.pl', u'//depot/main/p4-qt/qa/automated_testing/squish/test_suites/suite_merge_operations/tst_1118/test.pl', u'//depot/main/p4-qt/qa/automated_testing/squish/test_suites/suite_pending_changelist_operations/shared/scripts/p4v_tools.pl', u'//depot/main/p4-qt/qa/automated_testing/squish/test_suites/suite_pending_changelist_operations/tst_375/test.pl', u'//depot/main/p4-qt/qa/automated_testing/squish/test_suites/suite_pending_changelist_operations/tst_376/test.pl', u'//depot/main/p4-qt/qa/automated_testing/squish/test_suites/suite_rename_move_operations/shared/scripts/p4v_tools.pl', u'//depot/main/p4-qt/qa/automated_testing/squish/test_suites/suite_rename_move_operations/tst_1087/test.pl', u'//depot/main/p4-qt/qa/automated_testing/squish/test_suites/suite_rename_move_operations/tst_1088/test.pl', u'//depot/main/p4-qt/qa/automated_testing/squish/test_suites/suite_resolve_operations/shared/scripts/p4v_tools.pl', u'//depot/main/p4-qt/qa/automated_testing/squish/test_suites/suite_resolve_operations/tst_1092/test.pl', u'//depot/main/p4-qt/qa/automated_testing/squish/test_suites/suite_resolve_operations/tst_1093/test.pl', u'//depot/main/p4-qt/qa/automated_testing/squish/test_suites/suite_sanity/shared/scripts/p4v_tools.pl', u'//depot/main/p4-qt/qa/automated_testing/squish/test_suites/suite_stream_operations/shared/scripts/p4v_tools.pl', u'//depot/main/p4-qt/qa/automated_testing/squish/test_suites/suite_stream_operations/tst_1085/test.pl', u'//depot/main/p4-qt/qa/automated_testing/squish/test_suites/suite_switching_workspaces/shared/scripts/p4v_tools.pl', u'//depot/main/p4-qt/qa/automated_testing/squish/test_suites/suite_switching_workspaces/tst_Scenarios/test.pl', u'//depot/main/p4-qt/qa/automated_testing/squish/test_suites/suite_template/shared/scripts/p4v_tools.pl', u'//depot/main/p4-qt/qa/automated_testing/squish/test_suites/suite_workspace_operations/shared/scripts/p4v_tools.pl', u'//depot/main/p4-qt/qa/automated_testing/squish/test_suites/suite_workspace_operations/tst_1016/test.pl'], u'1348016310', u'cgrant', [u'14', u'10', u'14', u'10', u'8', u'8', u'13', u'9', u'8', u'14', u'14', u'14', u'8', u'13', u'8', u'13', u'10', u'10', u'13', u'20', u'13', u'11', u'11', u'13', u'11', u'12', u'12', u'8', u'17', u'16', u'12', u'8', u'12', u'10', u'19', u'12', u'4'], [u'integrate', u'integrate', u'integrate', u'integrate', u'integrate', u'integrate', u'integrate', u'integrate', u'integrate', u'integrate', u'integrate', u'integrate', u'integrate', u'integrate', u'integrate', u'integrate', u'integrate', u'integrate', u'integrate', u'integrate', u'integrate', u'integrate', u'integrate', u'integrate', u'integrate', u'integrate', u'integrate', u'integrate', u'integrate', u'integrate', u'integrate', u'integrate', u'integrate', u'integrate', u'integrate', u'integrate', u'integrate'], [u'20240', u'4877', u'20243', u'1272', u'2183', u'1598', u'20249', u'29037', u'18040', u'20251', u'4444', u'20238', u'2694', u'20236', u'1241', u'20241', u'1835', u'33349', u'20237', u'30800', u'20249', u'5862', u'3729', u'20243', u'3806', u'4337', u'20239', u'31625', u'78517', u'20227', u'20238', u'20679', u'20324', u'18812', u'20229', u'20241', u'4468']), (u'job057782', u'512149', [u'//depot/main/p4-qt/resources/images/shared/unload_depot_badge.png'], u'1345245031', u'nlemonier', [u'1'], [u'add'], [u'2997'])]\n",
      "after grouping and joining\n",
      "[(u'B', [u'192915'], [[u'//depot/main/p4-qt/p4api/obj/ObjTypes.h', u'//depot/main/p4-qt/windows/diff/DiffAgent.cpp', u'//depot/main/p4-qt/windows/diff/DiffContext.cpp', u'//depot/main/p4-qt/windows/diff/DiffContext.h', u'//depot/main/p4-qt/windows/diff/FolderDiff.cpp']], [u'1237509592'], [u'zig'], [[u'7', u'121', u'38', u'18', u'112']], [[u'integrate', u'integrate', u'integrate', u'integrate', u'integrate']], [[u'4538', u'156384', u'56253', u'8476', u'45450']]), (u'C', [u'103350'], [[u'//depot/main/p4-qt/apps/p4scc/SccContext.cpp']], [u'1153014640'], [u'matt'], [[u'68']], [[u'edit']], [[u'71653']]), (u'C', [u'90649'], [[u'//depot/main/p4-qt/widgets/UIListWidget.cpp']], [u'1134543745'], [u'sandman'], [[u'19']], [[u'edit']], [[u'21193']])]\n",
      "author coding\n",
      "[(u'B', 4, [u'104354'], [[u'//depot/main/p4-qt/windows/preferences/UIPreferencesDialog.cpp']], [u'1154466095'], [[u'59']], [[u'edit']], [[u'34040']]), (u'B', 4, [u'262939'], [[u'//depot/main/p4-qt/apps/p4v/P4VPrefsUpgrader.cpp', u'//depot/main/p4-qt/resources/preferences/upgrade/CommonPrefsUpgrader.cpp', u'//depot/main/p4-qt/shell/ShellFonts.cpp']], [u'1283910638'], [[u'2', u'2', u'3']], [[u'edit', u'edit', u'edit']], [[u'37375', u'13215', u'1512']]), (u'C', 4, [u'273481', u'273486'], [[u'//depot/main/p4-qt/p4api/op/OpConnectionChecker.cpp', u'//depot/main/p4-qt/p4api/op/OpTypes.cpp', u'//depot/main/p4-qt/p4api/op/OpTypes.h', u'//depot/main/p4-qt/windows/config/UIConfigurationDialog.cpp', u'//depot/main/p4-qt/windows/offline/OfflineSetupAgent.cpp'], [u'//depot/main/p4-qt/windows/offline/OfflineSetupAgent.cpp']], [u'1289858621', u'1289859745'], [[u'28', u'9', u'54', u'189', u'38'], [u'39']], [[u'edit'], [u'edit', u'edit', u'edit', u'edit', u'edit']], [[u'10550', u'4097', u'4954', u'36598', u'52742'], [u'52788']])]\n",
      "date coding\n",
      "[(u'B', 4, [u'104354'], [[u'//depot/main/p4-qt/windows/preferences/UIPreferencesDialog.cpp']], 1154466095.0, 0.0, [[u'59']], [[u'edit']], [[u'34040']]), (u'B', 4, [u'262939'], [[u'//depot/main/p4-qt/apps/p4v/P4VPrefsUpgrader.cpp', u'//depot/main/p4-qt/resources/preferences/upgrade/CommonPrefsUpgrader.cpp', u'//depot/main/p4-qt/shell/ShellFonts.cpp']], 1283910638.0, 0.0, [[u'2', u'2', u'3']], [[u'edit', u'edit', u'edit']], [[u'37375', u'13215', u'1512']]), (u'C', 4, [u'273481', u'273486'], [[u'//depot/main/p4-qt/p4api/op/OpConnectionChecker.cpp', u'//depot/main/p4-qt/p4api/op/OpTypes.cpp', u'//depot/main/p4-qt/p4api/op/OpTypes.h', u'//depot/main/p4-qt/windows/config/UIConfigurationDialog.cpp', u'//depot/main/p4-qt/windows/offline/OfflineSetupAgent.cpp'], [u'//depot/main/p4-qt/windows/offline/OfflineSetupAgent.cpp']], 1289858621.0, 0.31222222222222223, [[u'28', u'9', u'54', u'189', u'38'], [u'39']], [[u'edit'], [u'edit', u'edit', u'edit', u'edit', u'edit']], [[u'10550', u'4097', u'4954', u'36598', u'52742'], [u'52788']])]\n",
      "revNo coding\n",
      "[(u'B', 4, [u'104354'], [[u'//depot/main/p4-qt/windows/preferences/UIPreferencesDialog.cpp']], 1154466095.0, 0.0, 59.0, [[u'edit']], [[u'34040']]), (u'B', 4, [u'262939'], [[u'//depot/main/p4-qt/apps/p4v/P4VPrefsUpgrader.cpp', u'//depot/main/p4-qt/resources/preferences/upgrade/CommonPrefsUpgrader.cpp', u'//depot/main/p4-qt/shell/ShellFonts.cpp']], 1283910638.0, 0.0, 2.0, [[u'edit', u'edit', u'edit']], [[u'37375', u'13215', u'1512']]), (u'C', 4, [u'273481', u'273486'], [[u'//depot/main/p4-qt/p4api/op/OpConnectionChecker.cpp', u'//depot/main/p4-qt/p4api/op/OpTypes.cpp', u'//depot/main/p4-qt/p4api/op/OpTypes.h', u'//depot/main/p4-qt/windows/config/UIConfigurationDialog.cpp', u'//depot/main/p4-qt/windows/offline/OfflineSetupAgent.cpp'], [u'//depot/main/p4-qt/windows/offline/OfflineSetupAgent.cpp']], 1289858621.0, 0.31222222222222223, 28.0, [[u'edit'], [u'edit', u'edit', u'edit', u'edit', u'edit']], [[u'10550', u'4097', u'4954', u'36598', u'52742'], [u'52788']])]\n",
      "change_coding\n",
      "[(u'B', 4, 104354.0, [[u'//depot/main/p4-qt/windows/preferences/UIPreferencesDialog.cpp']], 1154466095.0, 0.0, 59.0, [[u'edit']], [[u'34040']]), (u'B', 4, 262939.0, [[u'//depot/main/p4-qt/apps/p4v/P4VPrefsUpgrader.cpp', u'//depot/main/p4-qt/resources/preferences/upgrade/CommonPrefsUpgrader.cpp', u'//depot/main/p4-qt/shell/ShellFonts.cpp']], 1283910638.0, 0.0, 2.0, [[u'edit', u'edit', u'edit']], [[u'37375', u'13215', u'1512']]), (u'C', 4, 273481.0, [[u'//depot/main/p4-qt/p4api/op/OpConnectionChecker.cpp', u'//depot/main/p4-qt/p4api/op/OpTypes.cpp', u'//depot/main/p4-qt/p4api/op/OpTypes.h', u'//depot/main/p4-qt/windows/config/UIConfigurationDialog.cpp', u'//depot/main/p4-qt/windows/offline/OfflineSetupAgent.cpp'], [u'//depot/main/p4-qt/windows/offline/OfflineSetupAgent.cpp']], 1289858621.0, 0.31222222222222223, 28.0, [[u'edit'], [u'edit', u'edit', u'edit', u'edit', u'edit']], [[u'10550', u'4097', u'4954', u'36598', u'52742'], [u'52788']])]\n",
      "action_coding\n",
      "[(u'C', 2, 13, 269310.0, [[u'//depot/main/p4-qt/apps/p4v/P4VCommandHandler.cpp', u'//depot/main/p4-qt/gui/ContextMenuHandler.cpp', u'//depot/main/p4-qt/gui/ObjectCommandGlobals.cpp', u'//depot/main/p4-qt/gui/ObjectCommandGlobals.h', u'//depot/main/p4-qt/shell/Jamfile', u'//depot/main/p4-qt/shell/SaveDepotFileHandler.cpp', u'//depot/main/p4-qt/shell/SaveDepotFileHandler.h', u'//depot/main/p4-qt/shell/ShellTypes.h', u'//depot/main/p4-qt/windows/workspace/MainWindowMenubar.cpp']], 1287531979.0, 0.0, 33.0, [[u'7490', u'39418', u'39298', u'6783', u'2409', u'4323', u'801', u'1060', u'16478']]), (u'B', 6, 4, 59141.0, [[u'//depot/main/p4-qt/guiapp/windows/preferences/UIPreferencesDialog.cpp', u'//depot/main/p4-qt/guiapp/windows/preferences/UIPreferencesDialog.h', u'//depot/main/p4-qt/p4scc/Jamfile', u'//depot/main/p4-qt/p4scc/SccContext.cpp', u'//depot/main/p4-qt/p4scc/SettingsDialog.cpp', u'//depot/main/p4-qt/p4scc/SettingsDialog.h']], 1083966296.0, 0.0, 21.0, [[u'26145', u'1187', u'1263', u'47059', u'0', u'0']]), (u'C', 6, 29, 69571.0, [[u'//depot/main/p4-qt/windows/tree/TMainWindow.cpp', u'//depot/main/p4-qt/windows/tree/gltest.vcproj', u'//depot/main/p4-qt/windows/tree/gltest.vcproj.vspscc', u'//depot/main/p4-qt/windows/tree/src/Jamfile', u'//depot/main/p4-qt/windows/tree/src/P4TreeMainWindow.cpp', u'//depot/main/p4-qt/windows/tree/src/TMouseOpts.cpp', u'//depot/main/p4-qt/windows/tree/src/TMouseOpts.h']], 1096407742.0, 0.0, 9.0, [[u'16373', u'41188', u'246', u'533', u'4408', u'0', u'0']])]\n"
     ]
    },
    {
     "data": {
      "text/plain": [
       "\"\\nprint 'size_coding'\\ndt._size_coding()\\nprint dt.bug_grouped_rdd.take(3)\\n\\nprint 'labels coding'\\ndt._label_coding()\\nprint dt.bug_grouped_rdd.take(3)\\n\\ny = dt.bug_grouped_rdd  \\n#print 'path coding'\\n#dt._path_coding()\\n#print dt.coded_rdd.take(3)\""
      ]
     },
     "execution_count": 12,
     "metadata": {},
     "output_type": "execute_result"
    }
   ],
   "source": [
    "dt = P4AllTrainDataTransformer('./p4_all')\n",
    "dt._create_commits_df()\n",
    "dt._create_issues_df()\n",
    "c_df = dt._commits_df\n",
    "print c_df\n",
    "print c_df.show(3)\n",
    "i_df = dt._issues_df\n",
    "print i_df\n",
    "print i_df.show(3)\n",
    "dt._create_commits_rdd()\n",
    "dt._create_issues_rdd()\n",
    "c_rdd = dt.commits_rdd\n",
    "i_rdd = dt.issues_rdd\n",
    "print c_rdd\n",
    "print c_rdd.take(3)\n",
    "\n",
    "dt._bug_grouping_and_joining()\n",
    "print 'after grouping and joining'\n",
    "print dt.bug_grouped_rdd.take(3)\n",
    "\n",
    "print 'author coding'\n",
    "dt._author_coding()\n",
    "print dt.bug_grouped_rdd.take(3)\n",
    "\n",
    "print 'date coding'\n",
    "dt._date_coding()\n",
    "print dt.bug_grouped_rdd.take(3)\n",
    "\n",
    "print 'revNo coding'\n",
    "dt._revNo_coding()\n",
    "print dt.bug_grouped_rdd.take(3)\n",
    "\n",
    "print 'change_coding'\n",
    "dt._change_coding()\n",
    "print dt.bug_grouped_rdd.take(3)\n",
    "\n",
    "print 'action_coding'\n",
    "dt._action_coding()\n",
    "print dt.bug_grouped_rdd.take(3)\n",
    "\n",
    "print 'size_coding'\n",
    "dt._size_coding()\n",
    "print dt.bug_grouped_rdd.take(3)\n",
    "\n",
    "print 'labels coding'\n",
    "dt._label_coding()\n",
    "print dt.bug_grouped_rdd.take(3)\n",
    " \n",
    "print 'path coding'\n",
    "dt._path_coding()\n",
    "print dt.coded_rdd.take(3)"
   ]
  },
  {
   "cell_type": "code",
   "execution_count": 84,
   "metadata": {
    "collapsed": false,
    "deletable": true,
    "editable": true
   },
   "outputs": [
    {
     "name": "stdout",
     "output_type": "stream",
     "text": [
      "DataFrame[bugNo: string, author: string, modifiedFiles: array<string>, revNo: string, date: string]\n",
      "+----------+--------------------+--------------------+--------------------+------------+\n",
      "|     bugNo|              author|       modifiedFiles|               revNo|        date|\n",
      "+----------+--------------------+--------------------+--------------------+------------+\n",
      "|SPARK-5035|Josh Rosen <joshr...|[http://git-wip-u...|61eb9be4b1a659766...|1420041767.0|\n",
      "|SPARK-5035|Josh Rosen <joshr...|[http://git-wip-u...|5cf94775e3a722475...|1420041767.0|\n",
      "|SPARK-2757|Sean Owen <sowen@...|[http://git-wip-u...|4bb12488d56ea651c...|1420045157.0|\n",
      "+----------+--------------------+--------------------+--------------------+------------+\n",
      "only showing top 3 rows\n",
      "\n",
      "None\n",
      "DataFrame[bugNo: string, Priority: string]\n",
      "+----------+--------+\n",
      "|     bugNo|Priority|\n",
      "+----------+--------+\n",
      "|SPARK-5042|   Major|\n",
      "|SPARK-5043|   Major|\n",
      "|SPARK-5044|   Major|\n",
      "+----------+--------+\n",
      "only showing top 3 rows\n",
      "\n",
      "None\n",
      "after grouping and joining\n",
      "[(u'Major', [u'Xiangrui Meng <meng@databricks.com>'], [[u'http://git-wip-us.apache.org/repos/asf/spark/blob/64762444/mllib/src/main/scala/org/apache/spark/mllib/stat/Statistics.scala', u'http://git-wip-us.apache.org/repos/asf/spark/blob/64762444/mllib/src/main/scala/org/apache/spark/mllib/stat/KernelDensity.scala', u'http://git-wip-us.apache.org/repos/asf/spark/blob/64762444/mllib/src/test/scala/org/apache/spark/mllib/stat/KernelDensitySuite.scala'], [u'http://git-wip-us.apache.org/repos/asf/spark/blob/947ea1cf/mllib/src/main/scala/org/apache/spark/mllib/stat/Statistics.scala', u'http://git-wip-us.apache.org/repos/asf/spark/blob/947ea1cf/mllib/src/main/scala/org/apache/spark/mllib/stat/KernelDensity.scala', u'http://git-wip-us.apache.org/repos/asf/spark/blob/947ea1cf/mllib/src/test/scala/org/apache/spark/mllib/stat/KernelDensitySuite.scala']], [u'64762444e712189701663da272cab6c657368883', u'947ea1cf5f6986aa687631d6cf9f0fb974ee7caf'], [u'1432165138.0']), (u'Critical', [u'Xiangrui Meng <meng@databricks.com>'], [[]], [u'b2cb357d7d5bdbdaa00db2b56d7a2651caece93f'], [u'1415659149.0']), (u'Major', [u'jerryshao <saisai.shao@intel.com>'], [[u'http://git-wip-us.apache.org/repos/asf/spark/blob/3f80bc84/core/src/test/scala/org/apache/spark/ExecutorAllocationManagerSuite.scala', u'http://git-wip-us.apache.org/repos/asf/spark/blob/3f80bc84/core/src/main/scala/org/apache/spark/ExecutorAllocationManager.scala']], [u'3f80bc841ab155925fb0530eef5927990f4a5793'], [u'1433507317.0'])]\n",
      "author coding\n",
      "[(u'Minor', 2, [[u'http://git-wip-us.apache.org/repos/asf/spark/blob/a6e53a9c/mllib/src/test/scala/org/apache/spark/mllib/clustering/LDASuite.scala']], [u'a6e53a9c8b24326d1b6dca7a0e36ce6c643daa77'], [u'1438246321.0']), (u'Major', 2, [[u'http://git-wip-us.apache.org/repos/asf/spark/blob/331f0b10/mllib/src/main/scala/org/apache/spark/ml/regression/LinearRegression.scala', u'http://git-wip-us.apache.org/repos/asf/spark/blob/331f0b10/project/MimaExcludes.scala', u'http://git-wip-us.apache.org/repos/asf/spark/blob/331f0b10/mllib/src/test/scala/org/apache/spark/ml/regression/LinearRegressionSuite.scala']], [u'331f0b10f78a37d96d3e573d211d74a0935265db'], [u'1442837340.0']), (u'Major', 2, [[u'http://git-wip-us.apache.org/repos/asf/spark/blob/3c0d2e55/mllib/src/main/scala/org/apache/spark/mllib/clustering/LDAModel.scala', u'http://git-wip-us.apache.org/repos/asf/spark/blob/3c0d2e55/mllib/src/test/scala/org/apache/spark/mllib/clustering/LDASuite.scala']], [u'3c0d2e55210735e0df2f8febb5f63c224af230e3'], [u'1438347670.0'])]\n",
      "date coding\n",
      "[(u'Minor', 2, [[u'http://git-wip-us.apache.org/repos/asf/spark/blob/a6e53a9c/mllib/src/test/scala/org/apache/spark/mllib/clustering/LDASuite.scala']], [u'a6e53a9c8b24326d1b6dca7a0e36ce6c643daa77'], 1438246321.0, 0.0), (u'Major', 2, [[u'http://git-wip-us.apache.org/repos/asf/spark/blob/331f0b10/mllib/src/main/scala/org/apache/spark/ml/regression/LinearRegression.scala', u'http://git-wip-us.apache.org/repos/asf/spark/blob/331f0b10/project/MimaExcludes.scala', u'http://git-wip-us.apache.org/repos/asf/spark/blob/331f0b10/mllib/src/test/scala/org/apache/spark/ml/regression/LinearRegressionSuite.scala']], [u'331f0b10f78a37d96d3e573d211d74a0935265db'], 1442837340.0, 0.0), (u'Major', 2, [[u'http://git-wip-us.apache.org/repos/asf/spark/blob/3c0d2e55/mllib/src/main/scala/org/apache/spark/mllib/clustering/LDAModel.scala', u'http://git-wip-us.apache.org/repos/asf/spark/blob/3c0d2e55/mllib/src/test/scala/org/apache/spark/mllib/clustering/LDASuite.scala']], [u'3c0d2e55210735e0df2f8febb5f63c224af230e3'], 1438347670.0, 0.0)]\n",
      "revNo coding\n",
      "[(u'Minor', 2, [[u'http://git-wip-us.apache.org/repos/asf/spark/blob/a6e53a9c/mllib/src/test/scala/org/apache/spark/mllib/clustering/LDASuite.scala']], 12600, 1438246321.0, 0.0), (u'Major', 2, [[u'http://git-wip-us.apache.org/repos/asf/spark/blob/331f0b10/mllib/src/main/scala/org/apache/spark/ml/regression/LinearRegression.scala', u'http://git-wip-us.apache.org/repos/asf/spark/blob/331f0b10/project/MimaExcludes.scala', u'http://git-wip-us.apache.org/repos/asf/spark/blob/331f0b10/mllib/src/test/scala/org/apache/spark/ml/regression/LinearRegressionSuite.scala']], 10480, 1442837340.0, 0.0), (u'Major', 2, [[u'http://git-wip-us.apache.org/repos/asf/spark/blob/3c0d2e55/mllib/src/main/scala/org/apache/spark/mllib/clustering/LDAModel.scala', u'http://git-wip-us.apache.org/repos/asf/spark/blob/3c0d2e55/mllib/src/test/scala/org/apache/spark/mllib/clustering/LDASuite.scala']], 11440, 1438347670.0, 0.0)]\n",
      "labels coding\n",
      "[(3, 0, 2, [[u'http://git-wip-us.apache.org/repos/asf/spark/blob/a6e53a9c/mllib/src/test/scala/org/apache/spark/mllib/clustering/LDASuite.scala']], 12600, 1438246321.0, 0.0), (2, 0, 2, [[u'http://git-wip-us.apache.org/repos/asf/spark/blob/331f0b10/mllib/src/main/scala/org/apache/spark/ml/regression/LinearRegression.scala', u'http://git-wip-us.apache.org/repos/asf/spark/blob/331f0b10/project/MimaExcludes.scala', u'http://git-wip-us.apache.org/repos/asf/spark/blob/331f0b10/mllib/src/test/scala/org/apache/spark/ml/regression/LinearRegressionSuite.scala']], 10480, 1442837340.0, 0.0), (2, 0, 2, [[u'http://git-wip-us.apache.org/repos/asf/spark/blob/3c0d2e55/mllib/src/main/scala/org/apache/spark/mllib/clustering/LDAModel.scala', u'http://git-wip-us.apache.org/repos/asf/spark/blob/3c0d2e55/mllib/src/test/scala/org/apache/spark/mllib/clustering/LDASuite.scala']], 11440, 1438347670.0, 0.0)]\n",
      "path coding\n",
      "[(3, 0, 2, 12600, 1438246321.0, 0.0, 0.0, 0.0, 0.0, 0.0, 0.0, 0.0, 0.0, 0.0, 0.0, 0.0, 0.0, 0.0, 0.0, 0.0, 0.0, 0.0, 0.0, 0.0, 0.0, 0.0, 0.0, 0.0, 0.0, 0.0, 0.0, 0.0, 0.0, 0.0, 0.0, 0.0, 0.0, 0.0, 0.0, 0.0, 0.0, 0.0, 0.0, 0.0, 0.0, 0.0, 0.0, 0.0, 0.0, 0.0, 0.0, 0.0, 0.0, 0.0, 0.0, 0.0, 0.0, 0.0, 0.0, 0.0, 0.0, 0.0, 0.0, 0.0, 0.0, 0.0, 0.0, 0.0, 0.0, 0.0, 0.0, 0.0, 0.0, 0.0, 0.0, 0.0, 0.0, 0.0, 0.0, 0.0, 0.0, 0.0, 0.54192285132940521, 0.0, 0.0, 0.0, 0.0, 0.0, 0.0, 0.0, 0.0, 0.0, 0.0, 0.0, 0.0, 0.0, 0.0, 0.0, 0.0, 0.0, 0.0, 0.0, 0.0, 0.0, 0.0, 0.0, 0.0, 0.0, 0.0, 0.0, 0.0, 0.0, 0.0, 0.0, 0.0, 0.0, 0.0, 0.0, 0.0, 0.0, 0.0, 0.0, 0.0, 0.0, 0.0, 0.0, 0.0, 0.0, 0.0, 0.0, 0.0, 0.0, 0.0, 0.0, 0.0, 0.0, 0.0, 0.0, 0.0, 0.0, 0.0, 0.0, 0.0, 0.0, 0.0, 0.0, 0.0, 0.0, 0.0, 0.0, 0.0, 0.0, 0.0, 0.0, 0.0, 0.0, 0.0, 0.0, 0.0, 0.0, 0.0, 0.0, 0.0, 0.0, 0.0, 0.0, 0.0, 0.0, 0.0, 0.0, 0.0, 0.0, 0.0, 0.0, 0.0, 0.0, 0.0, 0.0, 0.0, 0.0, 0.0, 0.0, 0.0, 0.0, 0.0, 0.0, 0.0, 0.0, 0.0, 0.0, 0.0, 0.0, 0.0, 0.0, 0.0, 0.0, 0.0, 0.0, 0.0, 0.0, 0.0, 0.0, 0.0, 0.0, 0.0, 0.0, 0.0, 0.0, 0.0, 0.0, 0.0, 0.0, 0.0, 0.0, 0.0, 0.0, 0.0, 0.0, 0.0, 0.0, 0.0, 0.0, 0.0, 0.0, 0.0, 0.0, 0.0, 0.0, 0.0, 0.0, 0.0, 0.0, 1.656265066699345, 0.0, 0.0, 0.0, 0.0, 0.0, 0.0, 0.0, 0.0, 0.0, 0.0, 0.0, 0.0, 0.0, 0.0, 0.0, 0.0, 0.0, 0.0, 0.0, 0.0, 0.0, 0.0, 0.0, 0.0, 0.0, 0.0, 0.0, 0.0, 0.0, 0.0, 0.0, 0.0, 0.0, 0.0, 0.0, 0.0, 0.0, 0.0, 0.0, 0.0, 0.0, 0.0, 0.0, 0.0, 0.0, 0.0, 0.0, 0.0, 0.0, 0.0, 0.0, 0.0, 0.0, 0.0, 0.0, 0.0, 0.0, 0.0, 0.0, 0.0, 0.0, 0.0, 0.0, 0.0, 0.0, 0.0, 0.0, 0.0, 0.0, 0.0, 0.0, 0.0, 0.0, 0.0, 0.0, 0.0, 0.0, 0.0, 0.0, 0.0, 0.0, 0.0, 0.0, 0.0, 0.0, 0.0, 0.0, 0.0, 0.0, 0.0, 0.0, 0.0, 0.0, 0.0, 0.0, 0.0, 0.0, 0.0, 0.0, 0.0, 0.0, 0.0, 0.0, 0.0, 0.0, 0.0, 0.0, 0.0, 0.0, 0.0, 0.0, 0.0, 0.0, 0.0, 0.0, 0.0, 0.0, 0.0, 0.0, 0.0, 0.0, 0.0, 0.0, 0.0, 0.0, 0.0, 0.0, 0.0, 0.0, 0.0, 0.0, 0.0, 0.0, 0.0, 0.0, 0.0, 0.0, 0.0, 0.0, 0.0, 0.0, 0.0, 0.0, 0.0, 0.0, 0.0, 0.0, 0.0, 0.0, 0.0, 0.0, 0.0, 0.0, 0.0, 0.0, 0.0, 0.0, 0.0, 0.0, 0.0, 0.0, 0.0, 0.0, 0.0, 0.0, 0.0, 0.0, 0.0, 0.0, 0.0, 0.0, 0.0, 0.0, 0.0, 0.0, 0.0, 0.0, 0.0, 0.0, 0.0, 0.0, 0.0, 0.0, 0.0, 0.0, 0.0, 0.0, 0.0, 0.0, 0.0, 0.0, 0.0, 0.0, 0.0, 0.0, 0.0, 0.0, 0.0, 0.0, 0.0, 0.0, 0.0, 0.0, 0.0, 0.0, 0.0, 0.0, 0.0, 0.0, 0.0, 0.0, 0.0, 0.0, 0.0, 0.0, 0.0, 0.0, 0.0, 0.0, 0.0, 0.0, 0.0, 0.0, 0.0, 0.0, 0.0, 0.0, 0.0, 0.0, 0.0, 0.0, 0.0, 0.0, 0.0, 0.0, 0.0, 0.26181966570660803, 0.0, 0.0, 0.0, 0.0, 0.0, 0.0, 0.0, 0.0, 0.0, 0.0, 0.0, 0.0, 0.0, 0.0, 0.0, 0.0, 0.0, 0.0, 0.0, 0.0, 0.0, 0.0, 0.0, 0.0, 0.0, 0.0, 0.0, 0.0, 0.0, 0.0, 0.0, 0.0, 0.0, 0.0, 0.0, 0.0, 0.0, 0.0, 0.0, 0.0, 0.0, 0.0, 0.0, 0.0, 0.0, 0.0, 0.0, 0.0, 0.0, 0.0, 0.0, 0.0, 0.0, 0.0, 0.0, 0.0, 0.0, 0.0, 0.0, 0.0, 0.0, 0.0, 0.0, 0.0, 0.0, 0.0, 0.0, 0.0, 0.0, 0.0, 0.0, 0.0, 0.0, 0.0, 0.0, 0.0, 0.0, 0.0, 0.0, 0.0, 0.0, 0.0, 0.0, 0.0, 0.0, 0.0, 0.0, 0.0, 0.0, 0.0, 0.0, 0.0, 0.0, 0.0, 0.0, 0.0, 0.0, 0.0, 0.0, 0.0, 0.0, 0.0, 0.0, 0.0, 0.0, 0.0, 0.0, 0.0, 0.0, 0.0, 0.0, 0.0, 0.0, 0.0, 0.0, 0.0, 0.0, 0.0, 0.0, 0.0, 0.0, 0.0, 0.0, 0.0, 0.0, 0.0, 0.0, 0.0, 0.0, 0.0, 0.0, 0.0, 0.0, 0.0, 0.0, 0.0, 0.0, 0.0, 0.0, 0.0, 0.0, 0.0, 0.0, 0.0, 0.0, 0.0, 0.0, 0.0, 0.0, 0.0, 0.0, 0.0, 0.0, 0.0, 0.0, 0.0, 0.0, 0.0, 0.0, 0.0, 0.0, 0.0, 0.0, 0.0, 0.0, 0.0, 0.23685581317819163, 0.0, 0.0, 0.0, 0.0, 0.0, 0.0, 0.0, 0.0, 0.0, 0.0, 0.0, 0.0, 0.0, 0.0, 0.0, 0.0, 0.0, 0.0, 0.0, 0.0, 0.0, 0.0, 0.0, 0.0, 0.0, 0.0, 0.0, 0.0, 0.0, 0.0, 0.0, 0.0, 0.0, 0.0, 0.0, 0.0, 0.0, 0.0, 0.0, 0.0, 0.0, 0.0, 0.0, 0.0, 0.0, 0.0, 0.0, 0.0, 0.0, 0.0, 0.0, 0.0, 0.0, 0.0, 0.0, 0.0, 0.0, 0.0, 0.0, 0.0, 0.0, 0.0, 0.0, 0.0, 0.0, 0.0, 0.0, 0.0, 0.0, 0.0, 0.0, 0.0, 0.0, 0.0, 0.0, 0.0, 0.0, 0.0, 0.0, 0.0, 0.0, 0.0, 0.0, 0.0, 0.0, 0.0, 0.0, 0.0, 0.0, 0.0, 0.0, 0.0, 0.0, 0.0, 0.0, 0.0, 0.0, 0.0, 0.0, 0.0, 0.0, 0.0, 0.0, 0.0, 0.0, 0.0, 0.0, 0.0, 0.0, 0.0, 0.0, 0.0, 0.0, 0.0, 0.0, 0.0, 0.0, 0.0, 0.0, 0.0, 0.0, 0.0, 0.0, 0.0, 0.0, 0.0, 0.0, 0.0, 0.0, 0.0, 0.0, 0.0, 0.0, 0.0, 0.0, 0.0, 0.0, 0.0, 0.0, 0.0, 0.0, 0.0, 0.0, 0.0, 0.0, 0.0, 0.0, 0.0, 0.0, 0.0, 0.0, 0.0, 0.0, 0.0, 0.0, 0.0, 0.0, 0.0, 0.0, 0.0, 0.0, 0.0, 0.0, 0.0, 0.0, 0.0, 0.0, 0.0, 0.0, 0.0, 0.0, 0.0, 0.0, 0.0, 0.0, 0.0, 0.0, 0.0, 0.0, 0.0, 0.0, 0.0, 0.0, 0.0, 0.0, 0.0, 0.0, 0.0, 0.0, 0.0, 0.0, 0.0, 0.0, 0.0, 0.0, 0.0, 0.0, 0.0, 0.0, 0.0, 0.0, 0.0, 0.0, 0.0, 0.0, 0.0, 0.0, 0.0, 0.0, 0.0, 0.0, 0.0, 0.0, 0.0, 0.0, 0.94643718097105434, 0.0, 0.0, 0.0, 0.0, 0.0, 0.0, 0.0, 0.0, 0.0, 0.0, 0.0, 0.0, 0.0, 0.0, 0.0, 0.0, 0.0, 0.0, 0.0, 0.0, 0.0, 0.0, 0.0, 0.0, 0.0, 0.0, 0.0, 0.0, 0.0, 0.0, 0.0, 0.0, 0.0, 0.0, 0.0, 0.0, 0.0, 0.0, 0.0, 0.0, 0.0, 0.0, 0.0, 0.0, 0.0, 0.0, 0.0, 0.0, 0.0, 0.0, 0.0, 0.0, 0.0, 0.0, 0.0, 0.0, 0.0, 0.0, 0.0, 0.0, 0.0, 0.0, 0.0, 0.0, 0.0, 0.0, 0.0, 0.0, 0.0, 0.0, 0.0, 0.0, 0.0, 0.0, 0.0, 0.0, 0.0, 0.0, 0.0, 0.0, 0.0, 0.0, 0.0, 0.0, 0.0, 0.0, 0.0, 0.0, 0.0, 0.0, 0.0, 0.0, 0.0, 0.0, 0.0, 0.0, 0.0, 0.0, 0.0, 0.0, 0.0, 0.0, 0.0, 0.0, 0.0, 0.0, 0.0, 0.0, 0.0, 0.0, 0.0, 0.0, 0.0, 0.0, 0.0, 0.0, 0.0, 0.0, 0.0, 0.0, 0.0, 0.0, 0.0, 0.0, 0.0, 0.0, 0.0, 0.0, 0.0, 0.0, 0.0, 0.0, 0.0, 0.0, 0.0, 0.0, 0.0, 0.0, 0.0, 0.0, 0.0, 0.0, 0.0, 0.0, 0.0, 0.0, 0.0, 0.0, 0.0, 1.656265066699345, 0.0, 0.0, 0.0, 0.0, 0.0, 0.0, 0.0, 0.0, 0.0, 0.0, 0.0, 0.0, 0.0, 0.0, 0.0, 0.0, 0.0, 0.0, 0.0, 0.0, 0.0, 0.0, 0.0, 0.0, 0.0, 0.0, 0.0, 0.0, 4.0223580191269805, 0.0, 0.0, 0.0, 0.0, 0.0, 0.0, 0.0, 0.0, 0.0, 0.0, 0.0, 0.0, 0.0, 0.0, 0.0, 0.0, 1.0825934186810218, 0.0, 0.0, 0.0, 0.0, 0.0, 0.0, 0.0, 0.0, 0.0, 0.0, 0.0, 0.0, 0.0, 0.0, 0.0, 0.0, 0.0, 0.0, 0.0, 0.0, 0.0, 0.0, 0.0, 0.0, 0.0, 0.0, 0.0, 0.0, 0.0, 0.0, 0.0, 0.0, 0.0, 0.0, 0.0, 0.0, 0.0, 0.0, 0.0, 0.0, 0.0, 0.0, 0.0, 0.0, 0.0, 0.0, 0.0, 0.0, 0.0, 0.0, 0.0, 0.0, 0.0, 0.0, 0.0, 0.0, 0.0, 0.0, 0.0, 0.0, 0.0, 0.0, 0.0, 0.0, 0.0, 0.0, 0.0, 0.0, 0.0, 0.0, 0.0, 0.0, 0.0, 0.0, 0.0, 0.0, 0.0, 0.0, 0.0, 0.0, 0.0, 0.0, 0.0, 0.0, 0.0, 0.0, 0.0, 0.0, 0.0, 0.0, 0.0, 0.0, 0.0, 0.0, 0.0, 0.0, 0.0, 0.0, 0.0, 0.0, 0.0, 0.0, 0.0, 0.0, 0.0, 0.0, 0.0, 0.0, 0.0, 0.0, 0.0, 0.0, 0.0, 0.0, 0.0, 0.0, 0.0, 0.0, 0.0, 0.0, 0.0, 0.0, 0.0, 0.0, 0.0, 0.0, 0.0, 0.0, 0.0, 0.0, 0.0, 0.0, 0.0, 0.0, 0.0, 0.0, 0.0, 0.0, 0.0, 0.0, 0.0, 0.0, 0.0, 0.0, 0.0, 0.0, 0.0, 0.0, 0.0, 0.0, 0.0, 0.0, 0.0, 0.0, 0.0, 0.0, 0.0, 0.0, 0.0, 0.0, 0.0, 0.0, 0.0, 0.0, 0.0, 0.0, 0.0, 0.0, 0.0, 0.0, 0.0, 0.0, 0.0, 0.0, 0.0, 0.0, 0.0, 0.0, 0.0, 0.0, 0.0, 0.0, 0.0, 0.0, 0.0, 0.0, 0.0, 0.0, 0.0, 0.0, 1.656265066699345, 0.0, 0.0, 0.0, 0.0, 0.0, 0.0, 0.0, 0.0, 0.0, 0.0, 0.0, 0.0, 0.0, 0.0, 0.0, 0.0, 0.0, 0.0, 0.0, 0.0, 0.0, 0.0, 0.0, 0.0, 0.0, 0.0, 0.0, 0.0, 0.0, 0.0, 0.0, 0.0, 0.0, 0.0, 0.0, 0.0, 0.0, 0.0, 0.0, 0.0, 0.0, 0.0, 0.0, 0.0, 0.0, 0.0, 0.0, 0.0, 0.0, 0.0, 0.0, 0.0, 0.0, 0.0, 0.0, 0.0, 0.0, 0.0, 0.0, 0.0, 0.0, 0.0, 0.0, 0.0, 0.0, 0.0, 0.0, 0.0, 0.0, 0.0, 0.0, 0.0, 0.0, 0.0, 0.0, 0.0, 0.0, 0.0, 0.0, 0.0, 0.0, 0.0, 0.0, 0.0, 0.0, 0.0, 0.0, 0.0, 0.0, 0.0, 0.0, 0.0, 0.0, 0.0, 0.0, 0.0, 0.0, 0.0, 0.0, 0.0, 0.0, 0.0, 0.0, 0.0, 0.0, 0.0, 0.0, 0.0, 0.0, 0.0, 0.0, 0.0, 0.0, 0.0, 0.0, 0.0, 0.0, 0.0, 0.0, 0.0, 0.0, 0.0, 0.0, 0.0, 0.0, 0.0, 0.0, 0.0, 0.51733182758872887, 0.0, 0.0, 0.0, 0.0, 0.0, 0.0, 0.0, 0.0, 0.0, 0.0, 0.0, 0.0, 0.0, 0.0, 0.0, 0.0, 0.0, 0.0, 0.0, 0.0, 0.23685581317819163, 0.0, 0.0, 0.0, 0.0, 0.0, 0.0, 0.0, 0.0, 0.0, 0.0, 0.0, 0.0, 0.0, 0.0, 0.0, 0.0, 0.0, 0.0, 0.0, 0.0, 0.0, 0.0, 0.0, 0.0, 0.0, 0.0, 0.0, 0.0, 0.0, 0.0, 0.0, 0.0, 0.0, 0.0, 0.0, 0.0, 0.0, 0.0, 0.0, 0.0, 0.0, 0.0, 0.0, 0.0, 0.0, 0.0, 0.0, 0.0, 0.0, 0.0, 0.0, 0.0, 0.0, 0.0, 0.0, 0.0, 0.0, 0.0, 0.0, 0.0, 0.0, 0.0, 0.0, 0.0, 0.0, 0.0, 0.0, 0.0, 0.0, 0.0, 0.0, 0.0, 0.0, 0.0, 0.0, 0.0, 0.0, 0.0, 0.0, 0.0, 0.0, 0.0, 0.0, 0.0, 0.0, 0.0, 0.0, 0.0, 0.0, 0.0, 0.0, 0.0, 0.0, 0.0, 0.0, 0.0, 0.0, 0.0, 0.0, 0.0, 0.0, 0.0, 0.0, 0.0, 0.0, 0.0, 0.0, 0.0, 0.0, 0.0, 0.0, 0.0, 0.0, 0.0, 0.0, 0.0, 0.0, 0.0, 0.0, 0.0, 0.0, 0.0, 0.0, 0.0, 0.0, 0.0, 0.0, 0.0, 0.0, 0.0, 0.0, 0.0, 0.0, 0.0, 0.0, 0.0, 0.0, 0.0, 0.0, 0.0, 0.0, 0.0, 0.0, 0.0, 0.0, 0.0, 0.0, 0.0, 0.0, 0.0, 0.0, 0.0, 0.0, 0.0, 0.0, 0.0, 0.0, 0.0, 0.0, 0.0, 0.0, 0.0, 0.0, 0.0, 0.0, 0.0, 0.0, 0.0, 0.0, 0.0, 0.0, 0.0, 0.0, 0.0, 0.0, 0.0, 0.0, 0.0, 0.0, 0.0, 0.0, 0.0, 0.0, 0.0, 0.0, 0.0, 0.0, 0.0, 0.0, 0.0, 0.0, 0.0, 0.0, 0.0, 0.0, 0.0, 0.0, 0.0, 0.0, 0.0, 0.0, 0.0, 0.0, 0.0, 0.0, 0.0, 0.0, 0.0, 0.0, 0.0, 0.0, 0.0, 0.0, 0.0, 0.0, 0.0, 0.0, 0.0, 0.0, 0.0, 0.0, 0.0, 0.0, 0.0, 0.0, 0.0, 0.0, 0.0, 0.0, 0.0, 0.0, 0.0, 0.0, 0.0, 0.0, 0.0, 0.0, 0.0, 0.0, 0.0, 0.0, 0.0, 0.0, 0.0, 0.0, 0.0, 0.0, 0.0, 0.0, 0.0, 0.0, 0.0, 0.0, 0.0, 0.0, 0.0, 0.0, 0.0, 0.0, 0.0, 0.0, 0.0, 0.0, 0.0, 0.0, 0.0, 0.0, 0.0, 0.0, 0.0, 0.0, 0.0, 0.0, 0.0, 0.0, 0.0, 0.0, 0.0, 0.0, 0.0, 0.0, 0.0, 0.0, 0.0, 0.0, 0.0, 0.0, 0.0, 0.0, 0.0, 0.0, 0.0, 0.0, 0.0, 0.0, 0.0, 0.0, 0.0, 0.0, 0.0, 0.0, 0.0, 0.0, 0.0, 0.0, 0.0, 0.0, 0.0, 0.0, 0.0, 0.0, 0.0, 0.0, 0.0, 0.0, 0.0, 0.0, 0.0, 0.0, 0.0, 0.0, 0.0, 0.0, 0.0, 0.0, 0.0, 0.0, 0.0, 0.0, 0.0, 0.0, 0.0, 0.0, 0.0, 0.0, 0.0, 0.0, 0.0, 0.0, 0.0, 0.0, 0.0, 0.0, 0.0, 0.0, 0.0, 0.0, 0.0, 0.0, 0.0, 0.0, 0.0, 0.0, 0.0, 0.0, 0.0, 0.0, 0.0, 0.0, 0.0, 0.0, 0.0, 0.0, 0.0, 0.0, 0.0, 0.0, 0.0, 0.0, 0.0, 0.0, 0.0, 0.0, 0.0, 0.0, 0.0, 0.0, 0.0, 0.0, 0.0, 0.0, 0.0, 0.94643718097105434, 0.0, 0.0, 0.0, 0.0, 0.0, 0.0, 0.0, 0.0, 0.0, 0.0, 0.0, 0.0, 0.0, 0.0, 0.0, 0.0, 0.0, 0.0, 0.0, 0.0, 0.0, 0.0, 0.0, 0.0, 0.0, 0.0, 0.0, 0.0, 0.0, 0.0, 0.0, 0.0, 0.0, 0.0, 0.0, 0.0, 0.0, 0.0, 0.0, 0.0, 0.0, 0.0, 0.0, 0.0, 0.0, 1.1046616777865224, 0.0, 0.0, 0.0, 0.0, 0.0, 0.0, 0.0, 0.0, 0.0, 0.0, 0.0, 0.0, 0.0, 0.0, 0.0, 0.0, 0.0, 0.0, 0.0, 0.0, 0.0, 0.0, 0.0, 0.0, 0.0, 0.0, 0.0, 0.0, 0.0, 0.0, 0.0, 0.0, 0.0, 0.0, 0.0, 0.0, 0.0, 0.0, 0.0, 0.0, 0.0, 0.0, 0.0, 0.0, 0.0, 0.0, 0.0, 0.0, 0.0, 0.0, 0.0, 0.0, 0.0, 0.0, 0.0, 0.0, 0.0, 0.0, 0.0, 0.0, 0.0, 0.0, 0.0, 0.0, 0.0, 0.0, 0.0, 0.0, 0.0, 0.0, 0.0, 0.0, 0.0, 0.0, 0.0, 0.0, 0.0, 0.0, 0.0, 0.0, 0.0, 0.0, 0.0, 0.0, 0.0, 0.0, 0.0, 0.0, 0.0, 0.0, 0.0, 0.0, 0.0, 0.0, 0.0, 0.0, 0.0, 0.0, 0.0, 0.0, 0.0, 0.0, 0.0, 0.0, 0.0, 0.0, 0.0, 0.0, 0.0, 0.0, 0.0, 0.0, 0.0, 0.0, 0.0, 0.0, 0.0, 0.0, 0.0, 0.0, 0.0, 0.0, 0.0, 0.0, 0.0, 0.0, 0.0, 0.0, 0.0, 0.0, 0.0, 0.0, 0.0, 0.0, 0.0, 0.0, 0.0, 0.0, 0.0, 0.0, 0.0, 0.0, 0.0, 0.0, 0.0, 0.0, 0.0, 0.0, 0.0, 0.0, 0.0, 0.0, 0.0, 0.0, 0.0, 0.0, 0.0, 0.0, 0.0, 0.0, 0.0, 0.0, 0.0, 0.0, 0.0, 0.0, 0.0, 0.0, 0.0, 0.0, 0.0, 0.0, 0.0, 0.0, 0.0, 0.0, 0.0, 0.0, 0.0, 0.0, 0.0, 0.0, 0.0, 0.0, 0.0, 0.0, 0.0, 0.0, 0.0, 0.0, 1.656265066699345, 0.0, 0.0, 0.0, 0.0, 0.0, 0.0, 0.0, 0.0, 0.0, 0.0, 0.0, 0.0, 0.0, 0.0, 0.0, 0.0, 0.0, 0.0, 0.0, 0.0, 0.0, 0.0, 0.0, 0.0, 0.47371162635638325, 0.0, 0.0, 0.0, 0.0, 0.0, 0.0, 0.0, 0.0, 0.0, 0.0, 0.0, 0.0, 0.0, 0.0, 0.0, 0.0, 0.0, 0.0, 0.0, 0.0, 0.0, 0.0, 0.0, 0.0, 0.0, 0.0, 0.0, 0.0, 0.0, 0.0, 0.0, 0.0, 0.0, 0.0, 0.0, 0.0, 0.0, 0.0, 0.0, 0.0, 0.0, 0.0, 0.0, 0.0, 0.0, 0.0, 0.0, 0.0, 0.0, 0.0, 0.0, 0.0, 0.0, 0.0, 0.0, 0.0, 0.0, 0.0, 0.0, 0.0, 0.0, 0.0, 0.0, 0.0, 0.0, 0.0, 0.0, 0.0, 0.0, 0.0, 0.0, 0.0, 0.0, 0.0, 0.0, 0.0, 0.0, 0.0, 0.0, 0.0, 0.0, 0.0, 0.0, 0.0, 0.0, 0.0, 0.0, 0.0, 0.0, 0.0, 0.0, 0.0, 0.0, 0.0, 0.0, 0.0, 0.0, 0.0, 0.0, 0.0, 0.0, 0.0, 0.0, 0.0, 0.0, 0.0, 0.0, 0.0, 0.0, 0.0, 0.0, 0.0, 0.0, 0.0, 0.0, 0.0, 0.0, 0.0, 0.0, 0.0, 0.0, 0.0, 0.0, 0.0, 0.7098278857282907, 0.0, 0.0, 0.0, 0.0, 0.0, 0.0, 0.0, 0.0, 0.0, 0.0, 0.0, 0.0, 0.0, 0.0, 0.0, 0.0, 0.0, 0.0, 0.0, 0.0, 0.0, 0.0, 0.0, 0.0, 0.0, 0.0, 0.0, 0.0, 0.0, 0.0, 0.0, 0.0, 0.0, 0.0, 0.0, 0.0, 0.0, 0.0, 0.0, 0.0, 0.0, 0.0, 0.0, 0.0, 0.0, 1.1135086832933083, 0.0, 0.0, 0.0, 0.0, 0.0, 0.0, 0.0, 0.0, 0.0, 0.0, 0.0, 0.0, 0.0, 0.0, 0.0, 0.0, 0.0, 0.0, 0.0, 0.0, 0.0, 0.0, 0.0, 0.0, 0.0, 0.0, 0.0, 0.0, 0.0, 0.0, 0.0, 0.0, 0.0, 0.0, 0.0, 0.0, 0.0, 0.0, 0.0, 0.0, 0.0, 0.0, 0.0, 0.0, 0.0, 0.0, 0.0, 0.0, 0.0, 0.0, 0.0, 0.0, 0.0, 0.0, 0.0, 0.0, 0.0, 0.0, 0.0, 0.0, 0.0, 0.0, 0.0, 0.0, 0.0, 0.0, 0.0, 0.0, 0.0, 0.0, 0.0, 0.0, 0.0, 0.0, 0.0, 0.0, 0.0, 0.0, 0.0, 0.0, 0.0, 0.0, 0.0, 0.0, 0.0, 0.0, 0.0, 0.0, 0.0, 0.0, 0.0, 0.0, 0.0, 0.0, 0.0, 0.0, 0.0, 0.0, 0.0, 0.0, 0.0, 0.0, 0.0, 0.0, 0.0, 0.0, 0.0, 0.0, 0.0, 0.0, 0.0, 0.0, 0.0, 0.0, 0.0, 0.0, 0.0, 0.0, 0.0, 0.0, 0.0, 0.0, 0.0, 0.0, 0.0, 0.0, 0.0, 0.0, 0.0, 0.0, 0.0, 0.0, 0.0, 0.0, 0.0, 0.0, 0.0, 0.0, 0.0, 0.0, 0.0, 0.0, 0.0, 0.0, 0.0, 0.0, 0.0, 0.0, 0.0, 0.0, 0.0, 0.0, 0.0, 0.0, 0.0, 0.0, 0.0, 0.0, 0.0, 0.0, 0.0, 0.0, 0.0, 0.0, 0.0, 0.0, 0.0, 0.0, 0.0, 0.0, 0.0, 0.0, 0.0, 0.0, 0.0, 0.0, 0.0, 0.0, 0.0, 0.0, 0.0, 0.0, 0.0, 0.0, 0.0, 0.0, 2.366092952427636, 0.0, 0.0, 0.0, 0.0, 0.0, 0.0, 0.0, 0.0, 0.0, 0.0, 0.0, 0.0, 0.0, 0.0, 0.0, 0.0, 0.0, 0.0, 0.0, 0.0, 0.0, 0.0, 0.0, 0.0, 0.0, 0.0, 0.0, 0.0, 0.7098278857282907, 0.0, 0.0, 0.0, 0.0, 0.0, 0.0, 0.0, 0.0, 0.0, 0.0, 0.0, 0.0, 0.0, 0.0, 0.0, 0.0, 1.6251245086018, 0.0, 0.0, 0.0, 0.0, 0.0, 0.0, 0.0, 0.0, 0.0, 0.0, 0.0, 0.0, 0.0, 0.0, 0.0, 0.0, 0.0, 0.0, 0.0, 0.0, 0.0, 0.0, 0.0, 0.0, 0.0, 0.0, 0.0, 0.0, 0.0, 0.0, 0.0, 0.0, 0.0, 0.0, 0.0, 0.0, 0.0, 0.0, 0.0, 0.0, 0.0, 0.0, 0.0, 0.0, 0.0, 0.0, 0.0, 0.0, 0.0, 0.0, 0.0, 0.0, 0.0, 0.0, 0.0, 0.0, 0.0, 0.0, 0.0, 0.0, 0.0, 0.0, 0.0, 0.0, 0.0, 0.0, 0.0, 0.0, 0.0, 0.0, 0.0, 0.0, 0.0, 0.0, 0.0, 0.0, 0.0, 0.0, 0.0, 0.0, 0.0, 0.0, 0.0, 0.0, 0.0, 0.0, 0.0, 0.0, 0.0, 0.0, 0.0, 0.0, 0.0, 0.0, 0.0, 0.0, 0.0, 0.0, 0.0, 0.0, 0.0, 0.0, 0.0, 1.4196557714565814, 0.0, 0.0, 0.0, 0.0, 0.0, 0.0, 0.0, 0.0, 0.0, 0.0, 0.0, 0.0, 0.0, 0.0, 0.0, 0.0, 0.0, 0.0, 0.0, 0.0, 0.0, 0.0, 0.0, 0.0, 0.0, 0.0, 0.0, 0.0, 0.0, 0.0, 0.0, 0.0, 0.0, 0.0, 0.0, 0.0, 0.0, 0.0, 0.0, 0.0, 0.0, 0.0, 0.0, 0.0, 0.0, 0.0, 0.0, 0.0, 0.0, 0.0, 0.0, 0.0, 0.0, 0.0, 0.0, 0.0, 0.0, 0.0, 0.0, 0.0, 0.0, 0.0, 0.0, 0.0, 0.0, 0.0, 0.0, 0.0, 0.0, 0.0, 0.0, 0.0, 0.0, 0.0, 0.0, 0.0, 0.0, 0.0, 0.0, 0.0, 0.0, 0.0, 0.0, 0.0, 0.0, 0.0, 0.0, 0.0, 0.0, 0.0, 0.0, 0.0, 0.0, 0.0, 0.0, 0.0, 0.0, 0.0, 0.0, 0.0, 0.0, 0.0, 0.0, 0.0, 0.0, 0.0, 0.0, 0.0, 0.0, 0.0, 0.0, 0.0, 0.0, 0.0, 0.0, 0.0, 0.0, 0.0, 0.0, 0.0, 0.0, 0.0, 0.0, 0.0, 0.0, 0.0, 0.0, 0.0, 0.0, 0.0, 0.0, 0.0, 1.5619456069802682, 0.0, 0.0, 0.0, 0.0, 0.0, 0.0, 0.0, 0.0, 0.0, 0.0, 0.0, 0.0, 0.0, 0.0, 0.0, 0.0, 0.0, 0.0, 0.0, 0.0, 0.0, 0.0, 0.0, 0.0, 0.0, 0.0, 0.0, 0.0, 0.0, 0.0, 0.0, 0.0, 0.0, 0.0, 0.0, 0.0, 0.0, 0.0, 0.0, 0.0, 0.0, 0.0, 0.0, 0.0, 0.0, 0.0, 0.0, 0.0, 0.0, 0.0, 0.0, 0.0, 0.0, 0.0, 0.0, 0.0, 0.0, 0.0, 0.0, 0.0, 0.0, 0.0, 0.0, 0.0, 0.0, 0.0, 0.0, 0.0, 0.0, 0.0, 0.0, 0.0, 0.0, 0.0, 0.0, 0.0, 0.0, 0.0, 0.0, 0.0, 0.0, 0.0, 0.0, 0.0, 0.0, 0.0, 0.0, 0.0, 0.0, 0.0, 0.0, 0.0, 0.0, 0.0, 0.0, 0.0, 0.0, 0.0, 0.0, 0.0, 0.0, 0.0, 0.0, 1.656265066699345, 0.0, 0.0, 0.0, 0.0, 0.0, 0.0, 0.0, 0.0, 0.0, 0.0, 0.0, 0.0, 0.0, 0.0, 0.0, 0.0, 0.0, 0.0, 0.0, 0.0, 0.0, 0.0, 0.0, 0.0, 0.0, 0.0, 0.0, 0.0, 0.0, 0.0, 0.0, 0.0, 0.0, 0.0, 0.0, 0.0, 0.0, 0.0, 0.0, 0.0, 0.0, 0.0, 0.0, 0.0, 0.0, 0.0, 0.0, 0.0, 0.0, 0.0, 0.0, 0.0, 0.0, 0.0, 0.0, 0.0, 0.0, 0.0, 0.0, 0.0, 0.0, 0.0, 0.0, 0.0, 0.0, 0.0, 0.0, 0.0, 0.0, 0.0, 0.0, 0.0, 0.0, 0.0, 0.0, 0.0, 0.0, 0.0, 0.0, 0.0, 0.0, 0.0, 0.0, 0.0, 0.0, 0.0, 0.0, 0.0, 0.0, 0.0, 0.0, 0.0, 0.0, 0.0, 0.0, 0.0, 0.0, 0.0, 0.0, 0.0, 0.0, 0.0, 0.0, 0.0, 0.0, 0.0, 0.0, 0.0, 0.0, 0.0, 0.0, 0.0, 0.0, 0.0, 0.0, 0.0, 0.0, 0.0, 0.0, 0.0, 0.0, 0.0, 0.0, 0.0, 0.0, 0.0, 0.0, 0.0, 0.0, 0.0, 0.0, 0.0, 0.0, 0.0, 0.0, 0.0, 0.0, 0.0, 0.0, 0.0, 0.0, 0.0, 0.0, 0.0, 0.0, 0.0, 0.0, 0.0, 0.0, 0.0, 0.0, 0.0, 0.0, 0.0, 0.0, 0.0, 0.0, 0.0, 0.0, 0.0, 0.0, 0.0, 0.0, 0.0, 0.0, 0.0, 0.0, 0.0, 0.0, 0.0, 0.0, 0.0, 0.0, 0.0, 0.0, 0.0, 0.0, 0.0, 0.0, 0.0, 0.0, 0.0, 0.0, 0.0, 0.0, 0.0, 0.0, 0.0, 0.0, 0.0, 0.0, 0.0, 0.0, 0.0, 0.0, 0.0, 0.0, 0.0, 0.0, 0.0, 0.0, 0.0, 0.0, 0.0, 0.0, 0.0, 0.0, 0.0, 0.0, 0.0, 0.0, 0.0, 0.0, 0.0, 0.0, 0.0, 0.0, 0.0, 0.0, 0.0, 0.0, 0.0, 0.0, 0.0, 0.0, 0.0, 0.0, 0.0, 0.0, 0.0, 0.0, 0.0, 0.0, 0.0, 0.0, 0.0, 0.0, 0.0, 0.0, 0.0, 0.0, 0.0, 0.0, 0.0, 0.0, 0.0, 0.0, 0.0, 0.0, 0.0, 0.0, 0.0, 0.0, 0.0, 0.0, 0.0, 0.0, 0.0, 0.0, 0.0, 0.0, 0.0, 0.0, 0.0, 0.0, 0.0, 0.0, 0.0, 0.0, 0.0, 0.0, 0.0, 0.0, 0.0, 0.0, 0.0, 0.0, 0.0, 0.0, 0.0, 0.0, 0.0, 0.0, 0.0, 0.0, 0.0, 0.0, 0.0, 0.0, 0.0, 0.0, 0.0, 0.0, 0.0, 0.0, 0.0, 0.0, 0.0, 0.0, 0.0, 0.0, 0.0, 0.0, 0.0, 0.0, 0.0, 0.0, 0.0, 0.0, 0.0, 0.0, 0.0, 0.0, 0.0, 0.0, 0.0, 0.0, 0.0, 0.0, 0.0, 0.0, 0.0, 0.0, 0.0, 0.0, 0.0, 0.0, 0.0, 0.0, 0.0, 0.0, 0.0, 0.0, 0.0, 0.0, 0.0, 0.0, 0.0, 0.0, 0.0, 0.0, 0.0, 0.0, 0.0, 0.0, 0.0, 0.0, 0.0, 0.0, 0.0, 0.0, 0.0, 0.0, 0.0, 0.0, 0.0, 0.0, 0.0, 0.0, 0.0, 0.0, 0.0, 0.0, 0.0, 0.0, 0.0, 0.0, 0.0, 0.0, 0.0, 0.0, 0.0, 0.0, 0.0, 0.0, 0.0, 0.0, 0.0, 0.0, 0.0, 0.0, 0.0, 0.7098278857282907, 0.0, 0.0, 0.0, 0.0, 0.0, 0.0, 0.0, 0.0, 0.0, 0.0, 0.0, 0.0, 0.0, 0.0, 0.0, 0.0, 0.0, 0.0, 0.0, 0.0, 0.0, 0.0, 0.0, 0.0, 0.0, 0.0, 0.0, 0.0, 0.0, 0.0, 0.0, 0.0, 0.0, 0.0, 0.0, 0.0, 0.0, 0.0, 0.0, 0.0, 0.0, 0.0, 0.0, 0.0, 0.0, 0.0, 0.0, 0.0, 0.0, 0.0, 0.0, 0.0, 0.0, 0.0, 0.0, 0.0, 0.0, 0.0, 0.0, 0.0, 0.0, 0.0, 0.0, 0.0, 0.0, 0.0, 0.0, 0.0, 0.0, 0.0, 0.0, 0.0, 0.0, 0.0, 0.0, 0.0, 0.0, 0.0, 0.0, 0.0, 0.0, 0.0, 0.0, 0.0, 0.0, 0.0, 0.0, 0.0, 0.0, 0.0, 0.0, 0.0, 0.0, 0.0, 0.0, 0.0, 0.0, 0.0, 0.0, 0.0, 0.0, 0.0, 0.0, 0.0, 0.0, 0.0, 0.0, 0.0, 0.0, 0.0, 0.0, 0.0, 0.0, 0.0, 0.0, 0.0, 0.0, 0.0, 0.0, 0.0, 0.0, 0.0, 0.0, 0.0, 0.0, 0.0, 0.0, 0.0, 0.0, 0.0, 0.0, 0.0, 0.0, 0.0, 0.0, 0.0, 0.0, 0.0, 0.0, 0.0, 0.0, 0.0, 0.0, 0.0, 0.0, 0.0, 0.0, 0.0, 0.0, 0.47321859048552717, 0.0, 0.0, 0.0, 0.0, 0.0, 0.0, 0.0, 0.0, 0.0, 0.0, 0.0, 0.0, 0.0, 0.0, 0.0, 0.0, 0.0, 0.0, 0.0, 0.0, 0.0, 0.0, 0.0, 0.0, 0.0, 0.0, 0.0, 0.0, 0.0, 0.0, 0.0, 0.0, 0.0, 0.0, 0.0, 0.0, 0.0, 0.0, 0.0, 0.0, 0.0, 0.0, 0.0, 0.0, 0.0, 1.162061908710299, 0.0, 0.0, 0.0, 0.0, 0.0, 0.0, 0.0, 0.0, 0.0, 0.0, 0.0, 0.0, 0.0, 0.0, 0.0, 0.0, 0.0, 0.0, 0.0, 0.0, 0.0, 0.0, 0.0, 0.0, 0.0, 0.0, 0.0, 0.0, 0.0, 0.0, 0.0, 0.0, 0.0, 0.0, 0.0, 0.0, 0.0, 0.0, 0.0, 0.0, 0.0, 0.0, 0.0, 0.0, 0.0, 0.0, 0.0, 0.0, 0.0, 0.0, 0.0, 0.0, 0.0, 0.0, 0.0, 0.0, 0.0, 0.0, 0.0, 0.0, 0.0, 0.0, 0.0, 0.0, 0.0, 0.0, 0.0, 0.0, 0.0, 0.0, 0.0, 0.0, 0.0, 0.0, 0.0, 0.0, 0.0, 0.0, 0.0, 0.0, 0.0, 0.0, 0.0, 0.0, 0.0, 0.0, 0.0, 0.0, 0.0, 0.0, 0.0, 0.0, 0.0, 0.0, 0.0, 0.0, 0.0, 0.0, 0.0, 0.0, 0.0, 0.0, 0.0, 3.0759208381559264, 0.0, 0.0, 0.0, 0.0, 0.0, 0.0, 0.0, 0.0, 0.0, 0.0, 0.0, 0.0, 0.0, 0.0, 0.0, 0.0, 0.0, 0.0, 0.0, 0.0, 0.0, 0.0, 0.0, 0.0, 0.0, 0.0, 0.0, 0.0, 0.0, 0.0, 0.0, 0.0, 0.0, 0.0, 0.0, 0.0, 0.0, 0.0, 0.0, 0.0, 0.0, 0.0, 0.0, 0.0, 0.0, 0.0, 0.0, 0.0, 0.0, 0.0, 0.0, 0.0, 0.0, 0.0, 0.0, 0.0, 0.0, 0.0, 0.0, 0.0, 0.0, 0.0, 0.0, 0.0, 0.0, 0.0, 0.0, 0.0, 0.0, 0.0, 0.0, 0.0, 0.0, 0.0, 0.0, 0.0, 0.0, 0.0, 0.0, 0.0, 0.0, 0.0, 0.0, 0.0, 0.0, 0.0, 0.0, 0.0, 0.0, 0.0, 0.0, 0.0, 0.0, 0.0, 0.0, 0.0, 0.0, 0.0, 0.0, 0.0, 0.0, 0.0, 0.0, 0.0, 0.0, 0.0, 0.0, 0.0, 0.0, 0.0, 0.0, 0.0, 0.0, 0.0, 0.0, 0.0, 0.0, 0.0, 0.0, 0.0, 0.0, 0.0, 0.0, 0.0, 0.0, 0.0, 0.0, 0.0, 0.0, 0.0, 0.0, 0.0, 1.3207835501633802, 0.0, 0.0, 0.0, 0.0, 0.0, 0.0, 0.0, 0.0, 0.0, 0.0, 0.0, 0.0, 0.0, 0.0, 0.0, 0.0, 0.0, 0.0, 0.0, 0.0, 0.0, 0.0, 0.0, 0.0, 0.0, 0.0, 0.0, 0.0, 0.0, 0.0, 0.0, 0.0, 0.0, 0.0, 0.0, 0.0, 0.0, 0.0, 0.0, 0.0, 0.0, 0.0, 0.0, 0.0, 0.0, 0.0, 0.0, 0.0, 0.0, 0.0, 0.0, 0.0, 0.0, 0.0, 0.0, 0.0, 0.0, 0.0, 0.0, 0.0, 0.0, 0.0, 0.0, 0.0, 0.0, 0.0, 0.0, 0.0, 0.0, 0.0, 0.0, 0.0, 0.0, 0.0, 0.0, 0.0, 0.0, 0.0, 0.0, 0.0, 0.0, 0.0, 0.0, 0.0, 0.0, 0.0, 0.0, 0.0, 0.0, 0.0, 0.0, 0.0, 0.0, 0.0, 0.0, 0.0, 0.0, 0.0, 0.0, 0.0, 0.0, 0.0, 0.0, 1.8928743619421087, 0.0, 0.0, 0.0, 0.0, 0.0, 0.0, 0.0, 0.0, 0.0, 0.0, 0.0, 0.0, 0.0, 0.0, 0.0, 0.0, 0.0, 0.0, 0.0, 0.0, 0.0, 0.0, 0.0, 0.0, 0.0, 0.0, 0.0, 0.0, 0.0, 0.0, 0.0, 0.0, 0.0, 0.0, 0.0, 0.0, 0.0, 0.0, 0.0, 0.0, 0.0, 0.0, 0.0, 0.0, 0.0, 0.23660929524276358, 0.0, 0.0, 0.0, 0.0, 0.0, 0.0, 0.0, 0.0, 0.0, 0.0, 0.0, 0.0, 0.0, 0.0, 0.0, 0.0, 0.0, 0.0, 0.0, 0.0, 0.0, 0.0, 0.0, 0.0, 0.0, 0.0, 0.0, 0.0, 0.0, 0.0, 0.0, 0.0, 0.0, 0.0, 0.0, 0.0, 0.0, 0.0, 0.0, 0.0, 0.0, 0.0, 0.0, 0.0, 0.0, 0.0, 0.0, 0.0, 0.0, 0.0, 0.0, 0.0, 0.0, 0.0, 0.0, 0.0, 0.0, 0.0, 0.0, 0.0, 0.0, 0.0, 0.0, 0.0, 0.0, 0.0, 0.0, 0.0, 0.0, 0.0, 0.0, 0.0, 0.0, 0.0, 0.0, 0.0, 0.0, 0.0, 0.0, 0.0, 0.0, 0.0, 0.0, 0.0, 0.0, 0.0, 0.0, 0.0, 0.0, 0.0, 0.0, 0.0, 0.0, 0.0, 0.0, 0.0, 0.0, 0.0, 0.0, 0.0, 0.0, 0.0, 0.0, 0.94643718097105434, 0.0, 0.0, 0.0, 0.0, 0.0, 0.0, 0.0, 0.0, 0.0, 0.0, 0.0, 0.0, 0.0, 0.0, 0.0, 0.0, 0.0, 0.0, 0.0, 0.0, 0.0, 0.0, 0.0, 0.0, 0.0, 0.0, 0.0, 0.0, 0.0, 0.0, 0.0, 0.0, 0.0, 0.0, 0.0, 0.0, 0.0, 0.0, 0.0, 0.0, 0.0, 0.0, 0.0, 0.0, 0.0, 0.0, 0.0, 0.0, 0.0, 0.0, 0.0, 0.0, 0.0, 0.0, 0.0, 0.0, 0.0, 0.0, 0.0, 0.0, 0.0, 0.0, 0.0, 0.0, 0.0, 0.0, 0.0, 0.0, 0.0, 0.0, 0.0, 0.0, 0.0, 0.0, 0.0, 0.0, 0.0, 0.0, 0.0, 0.0, 0.0, 0.0, 0.0, 0.0, 0.0, 0.0, 0.0, 0.0, 0.0, 0.0, 0.0, 0.0, 0.0, 0.0, 0.0, 0.0, 0.0, 0.0, 0.0, 0.0, 0.0, 0.0, 0.0, 0.0, 0.0, 0.0, 0.0, 0.0, 0.0, 0.0, 0.0, 0.0, 0.0, 0.0, 0.0, 0.0, 0.0, 0.0, 0.0, 0.0, 0.0, 0.0, 0.0, 0.0, 0.0, 0.0, 0.0, 0.0, 0.0, 0.0, 0.0, 0.0, 0.0, 0.0, 0.0, 0.0, 0.0, 0.0, 0.0, 0.0, 0.0, 0.0, 0.0, 0.0, 0.0, 0.0, 0.0, 0.0, 0.0, 0.0, 0.0, 0.0, 0.0, 0.0, 0.0, 0.0), (2, 0, 2, 10480, 1442837340.0, 0.0, 0.0, 0.0, 0.0, 0.0, 0.0, 0.0, 0.0, 0.0, 0.0, 0.0, 0.0, 0.0, 0.0, 0.0, 0.0, 0.0, 0.0, 0.0, 0.0, 0.0, 0.0, 0.0, 0.0, 0.0, 0.0, 0.0, 0.0, 0.0, 0.0, 0.0, 0.0, 0.0, 0.0, 0.0, 0.0, 0.0, 0.0, 0.0, 0.0, 0.0, 0.0, 0.0, 0.0, 0.0, 0.0, 0.0, 0.0, 0.0, 0.0, 0.0, 0.0, 0.0, 0.0, 0.0, 0.0, 0.0, 0.0, 0.0, 0.0, 0.0, 0.0, 0.0, 0.0, 0.0, 0.0, 0.0, 0.0, 0.0, 0.0, 0.0, 0.0, 0.0, 0.0, 0.0, 0.0, 0.0, 1.6257685539882156, 0.0, 0.0, 0.0, 0.0, 0.0, 0.0, 0.0, 0.0, 0.0, 0.0, 0.0, 0.0, 0.0, 0.0, 0.0, 0.0, 0.0, 0.0, 0.0, 0.0, 0.0, 0.0, 0.0, 0.0, 0.0, 0.0, 0.0, 0.0, 0.0, 0.0, 0.0, 0.0, 0.0, 0.0, 0.0, 0.0, 0.0, 0.0, 0.0, 0.0, 0.0, 0.0, 0.0, 0.0, 0.0, 0.0, 0.0, 0.0, 0.0, 0.0, 0.0, 0.0, 0.0, 0.0, 0.0, 0.0, 0.0, 0.0, 0.0, 0.0, 0.0, 0.0, 0.0, 0.0, 0.0, 0.0, 0.0, 0.0, 0.0, 0.0, 0.0, 0.0, 0.0, 0.0, 0.0, 0.0, 0.0, 0.0, 0.0, 0.0, 0.0, 0.0, 0.0, 0.0, 0.0, 0.0, 0.0, 0.0, 0.0, 0.0, 0.0, 0.0, 0.0, 0.0, 0.0, 0.0, 0.0, 0.0, 0.0, 0.0, 0.0, 0.0, 0.0, 0.0, 0.0, 0.0, 0.0, 0.0, 0.0, 0.0, 0.0, 0.0, 0.0, 0.0, 0.0, 0.0, 0.0, 0.0, 0.0, 0.0, 0.0, 0.0, 0.0, 0.0, 0.0, 0.0, 0.0, 0.0, 0.0, 0.0, 0.0, 0.0, 0.0, 0.0, 0.0, 0.0, 0.0, 0.0, 0.0, 0.0, 0.0, 0.0, 0.0, 0.0, 0.0, 0.0, 0.0, 0.0, 0.0, 3.3125301333986901, 0.0, 0.0, 0.0, 0.0, 0.0, 0.0, 0.0, 0.0, 0.0, 0.0, 0.0, 0.0, 0.0, 0.0, 0.0, 0.0, 0.0, 0.0, 0.0, 0.0, 0.0, 0.0, 0.0, 0.0, 0.0, 0.0, 0.0, 0.0, 0.0, 0.0, 0.0, 0.0, 0.0, 0.0, 0.0, 0.0, 0.0, 0.0, 0.0, 0.0, 0.0, 0.0, 0.0, 0.0, 0.0, 0.0, 0.0, 0.0, 0.0, 0.0, 0.0, 0.0, 0.0, 0.0, 0.0, 0.0, 0.0, 0.0, 0.0, 0.0, 0.0, 0.0, 0.0, 0.0, 0.0, 0.0, 0.0, 0.0, 0.0, 0.0, 0.0, 0.0, 0.0, 0.0, 0.0, 0.0, 0.0, 0.0, 0.0, 0.0, 0.0, 0.0, 0.0, 0.0, 0.0, 0.0, 0.0, 0.0, 0.0, 0.0, 0.0, 0.0, 0.0, 0.0, 0.0, 0.0, 0.0, 0.0, 0.0, 0.0, 0.0, 0.0, 0.0, 0.0, 0.0, 0.0, 0.0, 0.0, 0.0, 0.0, 0.0, 0.0, 0.0, 0.0, 0.0, 0.0, 0.0, 0.0, 0.0, 0.0, 0.0, 0.0, 0.0, 0.0, 0.0, 0.0, 0.0, 0.0, 0.0, 0.0, 0.0, 0.0, 0.0, 0.0, 0.0, 0.0, 0.0, 0.0, 0.0, 0.0, 0.0, 0.0, 0.0, 0.0, 0.0, 0.0, 0.0, 0.0, 0.0, 0.0, 0.0, 0.0, 0.0, 0.0, 0.0, 0.0, 0.0, 0.0, 0.0, 0.0, 0.0, 0.0, 0.0, 0.0, 0.0, 0.0, 0.0, 0.0, 0.0, 0.0, 0.0, 0.0, 0.0, 0.0, 0.0, 0.0, 0.0, 0.0, 0.0, 0.0, 0.0, 0.0, 0.0, 0.0, 0.0, 0.0, 0.0, 0.0, 0.0, 0.0, 0.0, 0.0, 0.0, 0.0, 0.0, 0.0, 0.0, 0.0, 0.0, 0.0, 0.0, 0.0, 0.0, 0.0, 0.0, 0.0, 0.0, 0.0, 0.0, 0.0, 0.0, 0.0, 0.0, 0.0, 0.0, 0.0, 0.0, 0.0, 0.0, 0.0, 0.0, 0.0, 0.0, 0.0, 0.0, 0.0, 0.0, 0.0, 0.0, 0.0, 0.0, 0.0, 0.0, 0.0, 0.0, 0.0, 1.8327376599462561, 0.0, 0.0, 0.0, 0.0, 0.0, 0.0, 0.0, 0.0, 0.0, 0.0, 0.0, 0.0, 0.0, 0.0, 0.0, 0.0, 0.0, 0.0, 0.0, 0.0, 0.0, 0.0, 0.0, 0.0, 0.0, 0.0, 0.0, 0.0, 0.0, 0.0, 0.0, 0.0, 0.0, 0.0, 0.0, 0.0, 0.0, 0.0, 0.0, 0.0, 0.0, 0.0, 0.0, 0.0, 0.0, 0.0, 0.0, 0.0, 0.0, 0.0, 0.0, 0.0, 0.0, 0.0, 0.0, 0.0, 0.0, 0.0, 0.0, 0.0, 0.0, 0.0, 0.0, 0.0, 0.0, 0.0, 0.0, 0.0, 0.0, 0.0, 0.0, 0.0, 0.0, 0.0, 0.0, 0.0, 0.0, 0.0, 0.0, 0.0, 0.0, 0.0, 0.0, 0.0, 0.0, 0.0, 0.0, 0.0, 0.0, 0.0, 0.0, 0.0, 0.0, 0.0, 0.0, 0.0, 0.0, 0.0, 0.0, 0.0, 0.0, 0.0, 0.0, 0.0, 0.0, 0.0, 0.0, 0.0, 0.0, 0.0, 0.0, 0.0, 0.0, 0.0, 0.0, 0.0, 0.0, 0.0, 0.0, 0.0, 0.0, 0.0, 0.0, 0.0, 0.0, 0.0, 0.0, 0.0, 0.0, 0.0, 0.0, 0.0, 0.0, 0.0, 0.0, 0.0, 0.0, 0.0, 0.0, 0.0, 0.0, 0.0, 0.0, 0.0, 0.0, 0.0, 0.0, 0.0, 0.0, 0.55186381113110472, 0.0, 0.0, 0.0, 0.0, 0.0, 0.0, 0.0, 0.0, 0.0, 0.0, 0.0, 0.0, 0.0, 0.0, 0.0, 0.0, 0.71056743953457491, 0.0, 0.0, 0.0, 0.0, 0.0, 0.0, 0.0, 0.0, 0.0, 0.0, 0.0, 0.0, 0.0, 0.0, 0.0, 0.0, 0.0, 0.0, 0.0, 0.0, 0.0, 0.0, 0.0, 0.0, 0.0, 0.0, 0.0, 0.0, 0.0, 0.0, 0.0, 0.0, 0.0, 0.0, 0.0, 0.0, 0.0, 0.0, 0.0, 0.0, 0.0, 0.0, 0.0, 0.0, 0.0, 0.0, 0.0, 0.0, 0.0, 0.0, 0.0, 0.0, 0.0, 0.0, 0.0, 0.0, 0.0, 0.0, 0.0, 0.0, 0.0, 0.0, 0.0, 0.0, 0.0, 0.0, 0.0, 0.0, 0.0, 0.0, 0.0, 0.0, 0.0, 0.0, 0.0, 0.0, 0.0, 0.0, 0.0, 0.0, 0.0, 0.0, 0.0, 0.0, 0.0, 0.0, 0.0, 0.0, 0.0, 0.0, 0.0, 0.0, 0.0, 0.0, 0.0, 0.0, 0.0, 0.0, 0.0, 0.0, 0.0, 0.0, 0.0, 0.0, 0.0, 0.0, 0.0, 0.0, 0.0, 0.0, 0.0, 0.0, 0.0, 0.0, 0.0, 0.0, 0.0, 0.0, 0.0, 0.0, 0.0, 0.0, 0.0, 0.0, 0.0, 0.0, 0.0, 0.0, 0.0, 0.0, 0.0, 0.0, 0.0, 0.0, 0.0, 0.0, 0.0, 0.0, 0.0, 0.0, 0.0, 0.0, 0.0, 0.0, 0.0, 0.0, 0.0, 0.0, 0.0, 0.0, 0.0, 0.0, 0.0, 0.0, 0.0, 0.0, 0.0, 0.0, 0.0, 0.0, 0.0, 0.0, 0.0, 0.0, 0.0, 0.0, 0.0, 0.0, 0.0, 0.0, 0.0, 0.0, 0.0, 0.0, 0.0, 0.0, 0.0, 0.0, 0.0, 0.0, 0.0, 0.0, 0.0, 0.0, 0.0, 0.0, 0.0, 0.0, 0.0, 0.0, 0.0, 0.0, 0.0, 0.0, 0.0, 0.0, 0.0, 0.0, 0.0, 0.0, 0.0, 0.0, 0.0, 0.0, 0.0, 0.0, 0.0, 0.0, 0.0, 0.0, 0.0, 0.0, 0.0, 0.0, 0.0, 3.7857487238842173, 0.0, 0.0, 0.0, 0.0, 0.0, 0.0, 0.0, 0.0, 0.0, 0.0, 0.0, 0.0, 0.0, 0.0, 0.0, 0.0, 0.0, 0.0, 0.0, 0.0, 0.0, 0.0, 0.0, 0.0, 0.0, 0.0, 0.0, 0.0, 0.0, 0.0, 0.0, 0.0, 0.0, 0.0, 0.0, 0.0, 0.0, 0.0, 0.0, 0.0, 0.0, 0.0, 0.0, 0.0, 0.0, 0.0, 0.0, 0.0, 0.0, 0.0, 0.0, 0.0, 0.0, 0.0, 0.0, 0.0, 0.0, 0.0, 0.0, 0.0, 0.0, 0.0, 0.0, 0.0, 0.0, 0.0, 0.0, 0.0, 0.0, 0.0, 0.0, 0.0, 0.0, 0.0, 0.0, 0.0, 0.0, 0.0, 0.0, 0.0, 0.0, 0.0, 0.0, 0.0, 0.0, 0.0, 0.0, 0.0, 0.0, 0.0, 0.0, 0.0, 0.0, 0.0, 0.0, 0.0, 0.0, 0.0, 0.0, 0.0, 0.0, 0.0, 0.0, 0.0, 0.0, 0.0, 0.0, 0.0, 0.0, 0.0, 0.0, 0.0, 0.0, 0.0, 0.0, 0.0, 0.0, 0.0, 0.0, 0.0, 0.0, 0.0, 0.0, 0.0, 0.0, 0.0, 0.0, 0.0, 0.0, 0.0, 0.0, 0.0, 2.7371076528641334, 0.0, 0.0, 0.0, 0.0, 0.0, 0.0, 0.0, 0.0, 0.0, 0.0, 0.0, 0.0, 0.0, 0.0, 0.0, 0.0, 5.2054044953407992, 0.0, 0.0, 0.0, 0.0, 0.0, 0.0, 0.0, 0.0, 0.0, 0.0, 0.0, 0.0, 0.0, 0.0, 0.0, 0.0, 0.0, 0.0, 0.0, 0.0, 1.0036559033129024, 0.0, 0.0, 0.0, 0.0, 0.0, 0.0, 0.0, 9.2277625144677806, 0.0, 0.0, 0.0, 0.0, 0.0, 0.0, 0.0, 0.0, 0.0, 0.0, 0.0, 0.0, 0.0, 0.0, 0.0, 0.0, 6.4955605120861311, 0.0, 0.0, 0.0, 0.0, 0.0, 0.0, 0.0, 0.0, 0.0, 0.0, 0.0, 0.0, 0.0, 0.0, 0.0, 0.0, 0.0, 0.0, 0.0, 0.0, 0.0, 0.0, 0.0, 0.0, 0.0, 0.0, 0.0, 0.0, 0.0, 0.0, 0.0, 0.0, 0.0, 0.0, 0.0, 0.0, 0.0, 0.0, 0.0, 0.0, 0.0, 0.0, 0.0, 0.0, 0.0, 0.0, 0.0, 0.0, 0.0, 0.0, 0.0, 0.0, 0.0, 0.0, 0.0, 0.0, 0.0, 0.0, 0.0, 0.0, 0.0, 0.0, 0.0, 0.0, 0.0, 0.0, 0.0, 0.0, 0.0, 0.0, 0.0, 0.0, 0.0, 0.0, 0.0, 0.0, 0.0, 0.0, 0.0, 0.0, 0.0, 0.0, 0.0, 0.0, 0.0, 0.0, 0.0, 0.0, 0.0, 0.0, 0.0, 0.0, 0.0, 0.0, 0.0, 0.0, 0.0, 0.0, 0.0, 0.0, 0.0, 0.0, 0.0, 0.0, 0.0, 0.0, 0.0, 0.0, 0.0, 0.0, 0.0, 0.0, 0.0, 0.0, 0.0, 0.0, 0.0, 0.0, 0.0, 0.0, 0.0, 0.0, 0.0, 0.0, 0.0, 0.0, 0.0, 0.0, 0.0, 0.0, 0.0, 0.0, 0.0, 0.0, 0.0, 0.0, 0.0, 0.0, 0.0, 0.0, 0.0, 0.0, 0.0, 0.0, 0.0, 0.0, 0.0, 0.0, 0.0, 0.0, 0.0, 0.0, 0.0, 0.0, 0.0, 0.0, 0.0, 0.0, 0.0, 0.0, 0.0, 0.0, 0.0, 0.0, 0.0, 0.0, 0.0, 0.0, 0.0, 0.0, 0.0, 0.0, 0.0, 0.0, 0.0, 0.0, 0.0, 0.0, 0.0, 0.0, 0.0, 0.0, 0.0, 0.0, 0.0, 0.0, 0.0, 0.0, 0.0, 0.0, 4.7321859048552719, 0.0, 0.0, 0.0, 0.0, 0.0, 0.0, 0.0, 0.0, 0.0, 0.0, 0.0, 0.0, 0.0, 0.0, 0.0, 0.0, 0.0, 0.0, 0.0, 0.0, 0.0, 0.0, 0.0, 0.0, 0.0, 0.0, 0.0, 0.0, 0.0, 0.0, 0.0, 0.0, 0.0, 0.0, 0.0, 0.0, 0.0, 0.0, 0.0, 0.0, 0.0, 0.0, 0.0, 0.0, 0.0, 0.0, 0.0, 0.0, 0.0, 0.0, 0.0, 0.0, 0.0, 0.0, 0.0, 0.0, 0.0, 0.0, 0.0, 0.0, 0.0, 0.0, 0.0, 0.0, 0.0, 0.0, 0.0, 0.0, 0.0, 0.0, 0.0, 0.0, 0.0, 0.0, 0.0, 0.0, 0.0, 0.0, 0.0, 0.0, 0.0, 0.0, 0.0, 0.0, 0.0, 0.0, 0.0, 0.0, 0.0, 0.0, 0.0, 0.0, 0.0, 0.0, 0.0, 0.0, 0.0, 0.0, 0.0, 0.0, 0.0, 0.0, 0.0, 0.0, 0.0, 0.0, 0.0, 0.0, 0.0, 0.0, 0.0, 0.0, 0.0, 0.0, 0.0, 0.0, 0.0, 0.0, 0.0, 0.0, 0.0, 0.0, 0.0, 0.0, 0.0, 0.0, 0.0, 0.0, 0.51733182758872887, 0.0, 0.0, 0.0, 0.0, 0.0, 0.0, 0.0, 0.0, 0.0, 0.0, 0.0, 0.0, 0.0, 0.0, 0.0, 0.0, 0.0, 0.0, 0.0, 0.0, 1.4211348790691498, 0.0, 0.0, 0.0, 0.0, 0.0, 0.0, 0.0, 0.0, 0.0, 0.0, 0.0, 0.0, 0.0, 0.0, 0.0, 0.0, 0.0, 0.0, 0.0, 0.0, 0.0, 0.0, 0.0, 0.0, 0.0, 0.0, 0.0, 0.0, 0.0, 0.0, 0.0, 0.0, 0.0, 0.0, 0.0, 0.0, 0.0, 0.0, 0.0, 0.0, 0.0, 0.0, 0.0, 0.0, 0.0, 0.0, 0.0, 0.0, 0.0, 0.0, 0.0, 0.0, 0.0, 0.0, 0.0, 0.0, 0.0, 0.0, 0.0, 0.0, 0.0, 0.0, 0.0, 0.0, 0.0, 0.0, 0.0, 0.0, 0.0, 0.0, 0.0, 0.0, 0.0, 0.0, 0.0, 0.0, 0.0, 0.0, 0.0, 0.0, 0.0, 0.0, 0.0, 0.0, 0.0, 0.0, 0.0, 0.0, 0.0, 0.0, 0.0, 0.0, 0.0, 0.0, 0.0, 0.0, 0.0, 0.0, 0.0, 0.0, 0.0, 0.0, 0.0, 0.0, 0.0, 0.0, 0.0, 0.0, 0.0, 0.0, 0.0, 0.0, 0.0, 0.0, 0.0, 0.0, 0.0, 0.0, 0.0, 0.0, 0.0, 0.0, 0.0, 0.0, 0.0, 0.0, 0.0, 0.0, 0.0, 0.0, 0.0, 0.0, 0.0, 0.0, 0.0, 0.0, 0.0, 0.0, 0.0, 0.0, 0.0, 0.0, 0.0, 0.0, 0.0, 0.0, 0.0, 0.0, 0.0, 0.0, 0.0, 0.0, 0.0, 0.0, 0.0, 0.0, 0.0, 0.0, 0.0, 0.0, 0.0, 0.0, 0.0, 0.0, 0.0, 0.0, 0.0, 0.0, 0.0, 0.0, 0.0, 0.0, 0.0, 0.0, 0.0, 0.0, 0.0, 0.0, 0.0, 0.0, 0.0, 0.0, 0.0, 0.0, 0.0, 0.0, 0.0, 0.0, 0.0, 0.0, 0.0, 0.0, 0.0, 0.0, 0.0, 0.0, 0.0, 0.0, 0.0, 0.0, 0.0, 0.0, 0.0, 0.0, 0.0, 0.0, 0.0, 0.0, 0.0, 0.0, 0.0, 0.0, 0.0, 0.0, 0.0, 0.0, 0.0, 0.0, 0.0, 0.0, 0.0, 0.0, 0.0, 0.0, 0.0, 0.0, 0.0, 0.0, 0.0, 0.0, 0.0, 0.0, 0.0, 0.0, 0.0, 0.0, 0.0, 0.0, 0.0, 0.0, 0.0, 0.0, 0.0, 0.0, 0.0, 0.0, 0.0, 0.0, 0.0, 0.0, 0.0, 0.0, 0.0, 0.0, 0.0, 0.0, 0.0, 0.0, 0.0, 0.0, 0.0, 0.0, 0.0, 0.0, 0.0, 0.0, 0.0, 0.0, 0.0, 0.0, 0.0, 0.0, 0.0, 0.0, 0.0, 0.0, 0.0, 0.0, 0.0, 0.0, 0.0, 0.0, 0.0, 0.0, 0.0, 0.0, 0.0, 0.0, 0.0, 0.0, 0.0, 0.0, 0.0, 0.0, 0.0, 0.0, 0.0, 0.0, 0.0, 0.0, 0.0, 0.0, 0.0, 0.0, 0.0, 0.0, 0.0, 0.0, 0.0, 0.0, 0.0, 0.0, 0.0, 0.0, 0.0, 0.0, 0.0, 0.0, 0.0, 0.0, 0.0, 0.0, 0.0, 0.0, 0.0, 0.0, 0.0, 0.0, 0.0, 0.0, 0.0, 0.0, 0.0, 0.0, 0.0, 0.0, 0.0, 0.0, 0.0, 0.0, 0.0, 0.0, 0.0, 0.0, 0.0, 0.0, 0.0, 0.0, 0.0, 0.0, 0.0, 0.0, 0.0, 0.0, 0.0, 0.0, 0.0, 0.0, 0.0, 0.0, 0.0, 0.0, 0.0, 0.0, 0.0, 0.0, 0.0, 0.0, 0.0, 0.0, 0.0, 0.0, 0.0, 0.0, 0.0, 0.0, 0.0, 0.0, 0.0, 0.0, 0.0, 0.0, 2.8393115429131628, 0.0, 0.0, 0.0, 0.0, 0.0, 0.0, 0.0, 0.0, 0.0, 0.0, 0.0, 0.0, 0.0, 0.0, 0.0, 0.0, 0.0, 0.0, 0.0, 0.0, 0.0, 0.0, 0.0, 0.0, 0.0, 0.0, 0.0, 0.0, 0.0, 0.0, 0.0, 0.0, 0.0, 0.0, 0.0, 0.0, 0.0, 0.0, 0.0, 0.0, 0.0, 0.0, 0.0, 0.0, 0.0, 0.0, 0.0, 0.0, 0.0, 0.0, 0.0, 0.0, 0.0, 0.0, 0.0, 0.0, 0.0, 0.0, 0.0, 0.0, 0.0, 0.0, 0.0, 0.0, 0.0, 0.0, 0.0, 0.0, 0.0, 0.0, 0.0, 0.0, 0.0, 0.0, 0.0, 0.0, 0.0, 0.0, 0.0, 0.0, 0.0, 0.0, 0.0, 0.0, 0.0, 0.0, 0.0, 0.0, 0.0, 0.0, 0.0, 0.0, 0.0, 0.0, 0.0, 0.0, 0.0, 0.0, 0.0, 0.0, 0.0, 0.0, 0.0, 0.0, 0.0, 0.0, 0.0, 0.0, 0.0, 0.0, 0.0, 0.0, 0.0, 0.0, 0.0, 0.0, 0.0, 0.0, 0.0, 0.0, 0.0, 0.0, 0.0, 0.0, 0.0, 0.0, 0.0, 0.0, 0.0, 0.0, 0.0, 0.0, 0.0, 0.0, 0.0, 0.0, 0.0, 0.0, 0.0, 0.0, 0.0, 0.0, 0.0, 0.0, 0.0, 0.0, 0.0, 0.0, 0.0, 0.0, 0.0, 0.0, 0.0, 0.0, 0.0, 0.0, 0.0, 0.0, 0.0, 0.0, 0.0, 0.0, 0.0, 0.0, 0.0, 0.0, 0.0, 0.0, 0.0, 0.0, 0.0, 0.0, 0.0, 0.0, 0.0, 0.0, 0.0, 0.0, 0.0, 0.0, 0.0, 0.0, 0.0, 0.0, 0.0, 0.0, 0.0, 0.0, 0.0, 0.0, 0.0, 0.0, 0.0, 0.0, 0.0, 0.0, 0.0, 0.0, 0.0, 0.0, 0.0, 0.0, 0.0, 0.0, 0.0, 0.0, 0.0, 0.0, 0.0, 0.0, 0.0, 0.0, 0.0, 0.0, 0.0, 0.0, 0.0, 0.0, 0.0, 0.0, 0.0, 0.0, 0.0, 0.0, 0.0, 0.0, 0.0, 0.0, 0.0, 0.0, 0.0, 0.0, 0.0, 0.0, 0.0, 0.0, 5.6786230858263256, 0.0, 0.0, 0.0, 0.0, 0.0, 0.0, 0.0, 0.0, 0.0, 0.0, 0.0, 0.0, 0.0, 0.0, 0.0, 0.0, 0.0, 0.0, 0.0, 0.0, 0.0, 0.0, 0.0, 0.0, 1.4211348790691498, 0.0, 0.0, 0.0, 0.0, 0.0, 0.0, 0.0, 0.0, 0.0, 0.0, 0.0, 0.0, 0.0, 0.0, 0.0, 0.0, 0.0, 0.0, 0.0, 0.0, 0.0, 0.0, 0.0, 0.0, 0.0, 0.0, 0.0, 0.0, 0.0, 0.0, 0.0, 0.0, 0.0, 0.0, 0.0, 0.0, 0.0, 0.0, 0.0, 0.0, 0.0, 0.0, 0.0, 0.0, 0.0, 0.0, 0.0, 0.0, 0.0, 0.0, 0.0, 0.0, 0.0, 0.0, 0.0, 0.0, 0.0, 0.0, 0.0, 0.0, 0.0, 0.0, 0.0, 0.0, 0.0, 0.0, 0.0, 0.0, 0.0, 0.0, 0.0, 0.0, 0.0, 0.0, 0.0, 0.0, 0.0, 0.0, 0.0, 0.0, 0.0, 0.0, 0.0, 0.0, 0.0, 0.0, 0.0, 0.0, 0.0, 0.0, 0.0, 0.0, 0.0, 0.0, 0.0, 0.0, 0.0, 0.0, 0.0, 0.0, 0.0, 0.0, 0.0, 0.0, 0.0, 0.0, 0.0, 0.0, 0.0, 0.0, 0.0, 0.0, 0.0, 0.0, 0.0, 0.0, 0.0, 0.0, 0.0, 0.0, 0.0, 0.0, 0.0, 0.0, 1.8928743619421087, 0.0, 0.0, 0.0, 0.0, 0.0, 0.0, 0.0, 0.0, 0.0, 0.0, 0.0, 0.0, 0.0, 0.0, 0.0, 0.0, 0.0, 0.0, 0.0, 0.0, 0.0, 0.0, 0.0, 0.0, 0.0, 0.0, 0.0, 0.0, 0.0, 0.0, 0.0, 0.0, 0.0, 0.0, 0.0, 0.0, 0.0, 0.0, 0.0, 0.0, 0.0, 0.0, 0.0, 0.0, 0.0, 0.0, 0.0, 0.0, 0.0, 0.0, 0.0, 0.0, 0.0, 0.0, 0.0, 0.0, 0.0, 0.0, 0.0, 0.0, 0.0, 0.0, 0.0, 0.0, 0.0, 0.0, 0.0, 0.0, 0.0, 0.0, 0.0, 0.0, 0.0, 0.0, 0.0, 0.0, 0.0, 0.0, 0.0, 0.0, 0.0, 0.0, 0.0, 0.0, 0.0, 0.0, 0.0, 0.0, 0.0, 0.0, 0.0, 0.0, 0.0, 0.0, 0.0, 0.0, 0.0, 0.0, 0.0, 0.0, 0.0, 0.0, 0.0, 0.0, 0.0, 0.0, 0.0, 0.0, 0.0, 0.0, 0.0, 0.0, 0.0, 0.0, 0.0, 0.0, 0.0, 0.0, 0.0, 0.0, 0.0, 0.0, 0.0, 0.0, 0.0, 0.0, 0.0, 0.0, 0.0, 0.0, 0.0, 0.0, 0.0, 0.0, 0.0, 0.0, 0.0, 0.0, 0.0, 0.0, 0.0, 0.0, 0.0, 0.0, 0.0, 0.0, 0.0, 0.0, 0.0, 0.0, 0.0, 0.0, 0.0, 0.0, 0.0, 0.0, 0.0, 0.0, 0.0, 0.0, 0.0, 0.0, 0.0, 0.0, 0.0, 0.0, 0.0, 0.0, 0.0, 0.0, 0.0, 0.0, 0.0, 0.0, 0.0, 0.0, 0.0, 0.0, 0.0, 0.0, 0.0, 0.0, 0.0, 0.0, 0.0, 0.0, 0.0, 0.0, 0.0, 0.0, 0.0, 0.0, 0.0, 0.0, 0.0, 0.0, 0.0, 0.0, 0.0, 0.0, 0.0, 0.0, 0.0, 0.0, 0.0, 0.0, 0.0, 0.0, 0.0, 0.0, 0.0, 0.0, 0.0, 0.0, 0.0, 0.0, 0.0, 0.0, 0.0, 0.0, 0.0, 0.0, 0.0, 0.0, 0.0, 0.0, 0.0, 0.0, 0.0, 0.0, 0.0, 0.0, 7.3348881525256715, 0.0, 0.0, 0.0, 0.0, 0.0, 0.0, 0.0, 0.0, 0.0, 0.0, 0.0, 0.0, 0.0, 0.0, 0.0, 0.0, 0.0, 0.0, 0.0, 0.0, 0.0, 0.0, 0.0, 0.0, 0.0, 0.0, 0.0, 0.0, 2.1294836571848723, 0.0, 0.0, 0.0, 0.0, 0.0, 0.0, 0.0, 0.0, 0.0, 0.0, 0.0, 0.0, 0.0, 0.0, 0.0, 0.0, 0.0, 0.0, 0.0, 0.0, 0.0, 0.0, 0.0, 0.0, 0.0, 0.0, 0.0, 0.0, 0.0, 0.0, 0.0, 0.0, 0.0, 0.0, 0.0, 0.0, 0.0, 0.0, 0.0, 0.0, 0.0, 0.0, 0.0, 0.0, 0.0, 0.0, 0.0, 0.0, 0.0, 0.0, 0.0, 0.0, 0.0, 0.0, 0.0, 0.0, 0.0, 0.0, 0.0, 0.0, 0.0, 0.0, 0.0, 0.0, 0.0, 0.0, 0.0, 0.0, 0.0, 0.0, 0.0, 0.0, 0.0, 0.0, 0.0, 0.0, 0.0, 0.0, 0.0, 0.0, 0.0, 0.0, 0.0, 0.0, 0.0, 0.0, 0.0, 0.0, 0.0, 0.0, 0.0, 0.0, 0.0, 0.0, 0.0, 0.0, 0.0, 0.0, 0.0, 0.0, 0.0, 0.0, 0.0, 0.0, 0.0, 0.0, 0.0, 0.0, 0.0, 0.0, 0.0, 0.0, 0.0, 0.0, 0.0, 0.0, 0.0, 0.0, 0.0, 0.0, 4.0223580191269805, 0.0, 0.0, 0.0, 0.0, 0.0, 0.0, 0.0, 0.0, 0.0, 0.0, 0.0, 0.0, 0.0, 0.0, 0.0, 0.0, 0.0, 0.0, 0.0, 0.0, 0.0, 0.0, 0.0, 0.0, 0.0, 0.0, 0.0, 0.0, 0.0, 0.0, 0.0, 0.0, 0.0, 0.0, 0.0, 0.0, 0.0, 0.0, 0.0, 0.0, 0.0, 0.0, 0.0, 0.0, 0.0, 0.0, 0.0, 0.0, 0.0, 0.0, 0.0, 0.0, 0.0, 0.0, 0.0, 0.0, 0.0, 0.0, 0.0, 0.0, 0.0, 0.0, 0.0, 0.0, 0.0, 0.0, 0.0, 0.0, 0.0, 0.0, 0.0, 0.0, 0.0, 0.0, 0.0, 0.0, 0.0, 0.0, 0.0, 0.0, 0.0, 0.0, 0.0, 0.0, 0.0, 0.0, 0.0, 0.0, 0.0, 0.0, 0.0, 0.0, 0.0, 0.0, 0.0, 0.0, 0.0, 0.0, 0.0, 0.0, 0.0, 0.0, 0.0, 0.0, 0.0, 0.0, 0.0, 0.0, 0.0, 0.0, 0.0, 0.0, 0.0, 0.0, 0.0, 0.0, 0.0, 0.0, 0.0, 0.0, 0.0, 0.0, 0.0, 0.0, 0.0, 0.0, 0.0, 0.0, 0.0, 0.0, 0.0, 0.0, 3.1238912139605364, 0.0, 0.0, 0.0, 0.0, 0.0, 0.0, 0.0, 0.0, 0.0, 0.0, 0.0, 0.0, 0.0, 0.0, 0.0, 0.0, 0.0, 0.0, 0.0, 0.0, 0.0, 0.0, 0.0, 0.0, 0.0, 0.0, 0.0, 0.0, 0.0, 0.0, 0.0, 0.0, 0.0, 0.0, 0.0, 0.0, 0.0, 0.0, 0.0, 0.0, 0.0, 0.0, 0.0, 0.0, 0.0, 0.0, 0.0, 0.0, 0.0, 0.0, 0.0, 0.0, 0.0, 0.0, 0.0, 0.0, 0.0, 0.0, 0.0, 0.0, 0.0, 0.0, 0.0, 0.0, 0.0, 0.0, 0.0, 0.0, 0.0, 0.0, 0.0, 0.0, 0.0, 0.0, 0.0, 0.0, 0.0, 0.0, 0.0, 0.0, 0.0, 0.0, 0.0, 0.0, 0.0, 0.0, 0.0, 0.0, 0.0, 0.0, 0.0, 0.0, 0.0, 0.0, 0.0, 0.0, 0.0, 0.0, 0.0, 0.0, 0.0, 0.0, 0.0, 3.0759208381559264, 0.0, 0.0, 0.0, 0.0, 0.0, 0.0, 0.0, 0.0, 0.0, 0.0, 0.0, 0.0, 0.0, 0.0, 0.0, 0.0, 0.0, 0.0, 0.0, 0.0, 0.0, 0.0, 0.0, 0.0, 0.0, 0.0, 0.0, 0.0, 0.0, 0.0, 0.0, 0.0, 0.0, 0.0, 0.0, 0.0, 0.0, 0.0, 0.0, 0.0, 0.0, 0.0, 0.0, 0.0, 0.0, 0.0, 0.0, 0.0, 0.0, 0.0, 0.0, 0.0, 0.0, 0.0, 0.0, 0.0, 0.0, 0.0, 0.0, 0.0, 0.0, 0.0, 0.0, 0.0, 0.0, 0.0, 0.0, 0.0, 0.0, 0.0, 0.0, 0.0, 0.0, 0.0, 0.0, 0.0, 0.0, 0.0, 0.0, 0.0, 0.0, 0.0, 0.0, 0.0, 0.0, 0.0, 0.0, 0.0, 0.0, 0.0, 0.0, 0.0, 0.0, 0.0, 0.0, 0.0, 0.0, 0.0, 0.0, 0.0, 0.0, 0.0, 0.0, 0.0, 0.0, 0.0, 0.0, 0.0, 0.0, 0.0, 0.0, 0.0, 0.0, 0.0, 0.0, 0.0, 0.0, 0.0, 0.0, 0.0, 0.0, 0.0, 0.0, 0.0, 0.0, 0.0, 0.0, 0.0, 0.0, 0.0, 0.0, 0.0, 0.0, 0.0, 0.0, 0.0, 0.0, 0.0, 0.0, 0.0, 0.0, 0.0, 0.0, 0.0, 0.0, 0.0, 0.0, 0.0, 0.0, 2.0959189643023532, 0.0, 0.0, 0.0, 0.0, 0.0, 0.0, 0.0, 0.0, 0.0, 0.0, 0.0, 0.0, 0.0, 0.0, 0.0, 0.0, 0.0, 0.0, 0.0, 0.0, 0.0, 0.0, 0.0, 0.0, 0.0, 0.0, 0.0, 0.0, 0.0, 0.0, 0.0, 0.0, 0.0, 0.0, 0.0, 0.0, 0.0, 0.0, 0.0, 0.0, 0.0, 0.0, 0.0, 0.0, 0.0, 0.0, 0.0, 0.0, 0.0, 0.0, 0.0, 0.0, 0.0, 0.0, 0.0, 0.0, 0.0, 0.0, 0.0, 0.0, 0.0, 0.0, 0.0, 0.0, 0.0, 0.0, 0.0, 0.0, 0.0, 0.0, 0.0, 0.0, 0.0, 0.0, 0.0, 0.0, 0.0, 0.0, 0.0, 0.0, 0.0, 0.0, 0.0, 0.0, 0.0, 0.0, 0.0, 0.0, 0.0, 0.0, 0.0, 0.0, 0.0, 0.0, 0.0, 0.0, 0.0, 0.0, 0.0, 0.0, 0.0, 0.0, 0.0, 0.0, 0.0, 0.0, 0.0, 0.0, 0.0, 0.0, 0.0, 0.0, 0.0, 0.0, 0.0, 0.0, 0.0, 0.0, 0.0, 0.0, 0.0, 0.0, 0.0, 0.0, 0.0, 0.0, 0.0, 0.0, 1.4614205108239158, 0.0, 0.0, 0.0, 0.0, 0.0, 0.0, 0.0, 0.0, 0.0, 0.0, 0.0, 0.0, 0.0, 0.0, 0.0, 0.0, 0.0, 0.0, 0.0, 0.0, 0.0, 0.0, 0.0, 0.0, 0.0, 0.0, 0.0, 0.0, 0.0, 0.0, 0.0, 0.0, 0.0, 0.0, 0.0, 0.0, 0.0, 0.0, 0.0, 0.0, 0.0, 0.0, 0.0, 0.0, 0.0, 0.0, 0.0, 0.0, 0.0, 0.0, 0.0, 0.0, 0.0, 0.0, 0.0, 0.0, 0.0, 0.0, 0.0, 0.0, 0.0, 0.0, 0.0, 0.0, 0.0, 0.0, 0.0, 0.0, 0.0, 0.0, 0.0, 0.0, 0.0, 0.0, 0.0, 0.0, 0.0, 0.0, 0.0, 0.0, 0.0, 0.0, 0.0, 0.0, 0.0, 0.0, 0.0, 0.0, 0.0, 0.0, 0.0, 0.0, 0.0, 0.0, 0.0, 0.0, 0.0, 0.0, 0.0, 0.0, 0.0, 0.0, 0.0, 1.183046476213818, 0.0, 0.0, 0.0, 0.0, 0.0, 0.0, 0.0, 0.0, 0.0, 0.0, 0.0, 0.0, 0.0, 0.0, 0.0, 0.0, 0.0, 0.0, 0.0, 0.0, 0.0, 0.0, 0.0, 0.0, 0.0, 0.0, 0.0, 0.0, 6.575353535430061, 0.0, 0.0, 0.0, 0.0, 0.0, 0.0, 0.0, 0.0, 0.0, 0.0, 0.0, 0.0, 0.0, 0.0, 0.0, 0.0, 0.0, 0.0, 0.0, 0.0, 0.0, 0.0, 0.0, 0.0, 0.0, 0.0, 0.0, 0.0, 0.0, 0.0, 0.0, 0.0, 0.0, 0.0, 0.0, 0.0, 0.0, 0.0, 0.0, 0.0, 0.0, 0.0, 0.0, 0.0, 0.0, 0.0, 0.0, 0.0, 0.0, 0.0, 0.0, 0.0, 0.0, 0.0, 0.0, 0.0, 0.0, 0.0, 0.0, 0.0, 0.0, 0.0, 0.0, 0.0, 0.0, 0.0, 0.0, 0.0, 0.0, 0.0, 0.0, 0.0, 0.0, 0.0, 0.0, 0.0, 0.0, 0.0, 0.0, 0.0, 0.0, 0.0, 0.0, 0.0, 0.0, 0.0, 0.0, 0.0, 0.0, 0.0, 0.0, 0.0, 0.0, 0.0, 0.0, 0.0, 0.0, 0.0, 0.0, 0.0, 0.0, 0.0, 0.0, 0.0, 0.0, 0.0, 0.0, 0.0, 0.0, 0.0, 0.0, 0.0, 0.0, 0.0, 0.0, 0.0, 0.0, 0.0, 0.0, 0.0, 1.183046476213818, 0.0, 0.0, 0.0, 0.0, 0.0, 0.0, 0.0, 0.0, 0.0, 0.0, 0.0, 0.0, 0.0, 0.0, 0.0, 0.0, 0.0, 0.0, 0.0, 0.0, 0.0, 0.0, 0.0, 0.0, 0.0, 0.0, 0.0, 0.0, 0.0, 0.0, 0.0, 0.0, 0.0, 0.0, 0.0, 0.0, 0.0, 0.0, 0.0, 0.0, 0.0, 0.0, 0.0, 0.0, 0.0, 0.0, 0.0, 0.0, 0.0, 0.0, 0.0, 0.0, 0.0, 0.0, 0.0, 0.0, 0.0, 0.0, 0.0, 0.0, 0.0, 0.0, 0.0, 0.0, 0.0, 0.0, 0.0, 0.0, 0.0, 0.0, 0.0, 0.0, 0.0, 0.0, 0.0, 0.0, 0.0, 0.0, 0.0, 0.0, 0.0, 0.0, 0.0, 0.0, 0.0, 0.0, 0.0, 0.0, 0.0, 0.0, 0.0, 0.0, 0.0, 0.0, 0.0, 0.0, 0.0, 0.0, 0.0, 0.0, 0.0, 0.0, 0.0, 0.0, 0.0, 0.0, 0.0, 0.0, 0.0, 0.0, 0.0, 0.0, 0.0, 0.0, 0.0, 0.0, 0.0, 0.0, 0.0, 0.0, 0.0, 0.0, 0.0, 0.0, 0.0, 0.0, 0.0, 0.0, 0.0, 0.0, 0.0, 0.0, 0.0, 0.0, 0.0, 0.0, 0.0, 0.0, 0.0, 0.0, 0.0, 0.0, 0.0, 0.0, 0.0, 0.0, 0.0, 0.0, 0.0, 7.5714974477684347, 0.0, 0.0, 0.0, 0.0, 0.0, 0.0, 0.0, 0.0, 0.0, 0.0, 0.0, 0.0, 0.0, 0.0, 0.0, 0.0, 0.0, 0.0, 0.0, 0.0, 0.0, 0.0, 0.0, 0.0, 0.0, 0.0, 0.0, 0.0, 0.0, 0.0, 0.0, 0.0, 0.0, 0.0, 0.0, 0.0, 0.0, 0.0, 0.0, 0.0, 0.0, 0.0, 0.0, 0.0, 0.0, 0.0, 0.0, 0.0, 0.0, 0.0, 0.0, 0.0, 0.0, 0.0, 0.0, 0.0, 0.0, 0.0, 0.0, 0.0, 0.0, 0.0, 0.0, 0.0, 0.0, 0.0, 0.0, 0.0, 0.0, 0.0, 0.0, 0.0, 0.0, 0.0, 0.0, 0.0, 0.0, 0.0, 0.0, 0.0, 0.0, 0.0, 0.0, 0.0, 0.0, 0.0, 0.0, 0.0, 0.0, 0.0, 0.0, 0.0, 0.0, 0.0, 0.0, 0.0, 0.0, 0.0, 0.0, 0.0, 0.0, 0.0, 0.0, 0.0, 0.0, 0.0, 0.0, 0.0, 0.0, 0.0, 0.0, 6.4680533005836525, 0.0, 0.0, 0.0, 0.0, 0.0, 0.0, 0.0, 0.0, 0.0, 0.0, 0.0, 0.0, 0.0, 0.0, 0.0, 0.0, 0.0, 0.0, 0.0, 0.0, 0.0, 0.0, 0.0, 0.0, 0.0, 0.0, 0.0, 0.0, 0.0, 0.0, 0.0, 0.0, 0.0, 0.0, 0.0, 0.0, 0.0, 0.0, 0.0, 0.0, 0.0, 0.0, 0.0, 0.0, 0.0, 0.0, 0.0, 0.0, 0.0, 0.0, 0.0, 0.0, 0.0, 0.0, 0.0, 0.0, 0.0, 0.0, 0.0, 0.0, 0.0, 0.0, 0.0, 0.0, 0.0, 0.0, 0.0, 0.0, 0.0, 0.0, 0.0, 0.0, 0.0, 0.0, 0.0, 0.0, 0.0, 0.0, 0.0, 0.0, 0.0, 0.0, 0.0, 0.0, 0.0, 0.0, 0.0, 0.0, 0.0, 0.0, 0.0, 0.0, 0.0, 0.0, 0.0, 0.0, 0.0, 0.0, 0.0, 0.0, 0.0, 0.0, 0.0, 0.0, 0.0, 0.0, 0.0, 0.0, 0.0, 0.0, 0.0, 0.0, 0.0, 0.0, 0.0, 0.0, 0.0, 0.0, 0.0, 0.0, 0.0, 0.0, 0.0, 0.0, 3.5491394286414537, 0.0, 0.0, 0.0, 0.0, 0.0, 0.0, 0.0, 0.0, 0.0, 0.0, 0.0, 0.0, 0.0, 0.0, 0.0, 0.0, 0.0, 0.0, 0.0, 0.0, 0.0, 0.0, 0.0, 0.0, 0.0, 0.0, 0.0, 0.0, 0.0, 0.0, 0.0, 0.0, 0.0, 0.0, 0.0, 0.0, 0.0, 0.0, 0.0, 0.0, 0.0, 0.0, 0.0, 0.0, 0.0, 0.7098278857282907, 0.0, 0.0, 0.0, 0.0, 0.0, 0.0, 0.0, 0.0, 0.0, 0.0, 0.0, 0.0, 0.0, 0.0, 0.0, 0.0, 0.0, 0.0, 0.0, 0.0, 0.0, 0.0, 0.0, 0.0, 0.0, 0.0, 0.0, 0.0, 0.0, 0.0, 0.0, 0.0, 0.0, 0.0, 0.0, 0.0, 0.0, 0.0, 0.0, 0.0, 0.0, 0.0, 0.0, 0.0, 0.0, 0.0, 0.0, 0.0, 0.0, 0.0, 0.0, 0.0, 0.0, 0.0, 0.0, 0.0, 0.0, 0.0, 0.0, 0.0, 0.0, 0.0, 0.0, 0.0, 0.0, 0.0, 0.0, 0.0, 0.0, 0.0, 0.0, 0.0, 0.0, 0.0, 0.0, 0.0, 0.0, 0.0, 0.0, 0.0, 0.0, 0.0, 0.0, 0.0, 0.0, 0.0, 0.0, 0.0, 0.0, 0.0, 0.0, 0.0, 0.0, 0.0, 0.0, 0.0, 0.0, 0.0, 0.0, 0.0, 0.0, 0.0, 0.0, 2.6027022476703996, 0.0, 0.0, 0.0, 0.0, 0.0, 0.0, 0.0, 0.0, 0.0, 0.0, 0.0, 0.0, 0.0, 0.0, 0.0, 0.0, 0.0, 0.0, 0.0, 0.0, 0.0, 0.0, 0.0, 0.0, 0.0, 0.0, 0.0, 0.0, 0.0, 0.0, 0.0, 0.0, 0.0, 0.0, 0.0, 0.0, 0.0, 0.0, 0.0, 0.0, 0.0, 0.0, 0.0, 0.0, 0.0, 0.0, 0.0, 0.0, 0.0, 0.0, 0.0, 0.0, 0.0, 0.0, 0.0, 0.0, 0.0, 0.0, 0.0, 0.0, 0.0, 0.0, 0.0, 0.0, 0.0, 0.0, 0.0, 0.0, 0.0, 0.0, 0.0, 0.0, 0.0, 0.0, 0.0, 0.0, 0.0, 0.0, 0.0, 0.0, 0.0, 0.0, 0.0, 0.0, 0.0, 0.0, 0.0, 0.0, 0.0, 0.0, 0.0, 0.0, 0.0, 0.0, 0.0, 0.0, 0.0, 0.0, 0.0, 0.0, 0.0, 0.0, 0.0, 0.0, 0.0, 0.0, 0.0, 0.0, 0.0, 0.0, 0.0, 0.0, 0.0, 0.0, 0.0, 0.0, 0.0, 0.0, 0.0, 0.0, 0.0, 0.0, 0.0, 0.0, 0.0, 0.0, 0.0, 0.0, 1.7491025832756966, 0.0, 0.0, 0.0, 0.0, 0.0, 0.0, 0.0, 0.0, 0.0, 0.0, 0.0, 0.0, 0.0, 0.0, 0.0, 0.0, 0.0, 0.0, 0.0, 0.0, 0.0, 0.0, 0.0, 0.0, 0.0, 0.0, 0.0), (2, 0, 2, 11440, 1438347670.0, 0.0, 0.0, 0.0, 0.0, 0.0, 0.0, 0.0, 0.0, 0.0, 0.0, 0.0, 0.0, 0.0, 0.0, 0.0, 0.0, 0.0, 0.0, 0.0, 0.0, 0.0, 0.0, 0.0, 0.0, 0.0, 0.0, 0.0, 0.0, 0.0, 0.0, 0.0, 0.0, 0.0, 0.0, 0.0, 0.0, 0.0, 0.0, 0.0, 0.0, 0.0, 0.0, 0.0, 0.0, 0.0, 0.0, 0.0, 0.0, 0.0, 0.0, 0.0, 0.0, 0.0, 0.0, 0.0, 0.0, 0.0, 0.0, 0.0, 0.0, 0.0, 0.0, 0.0, 0.0, 0.0, 0.0, 0.0, 0.0, 0.0, 0.0, 0.0, 0.0, 0.0, 0.0, 0.0, 0.0, 0.0, 1.354807128323513, 0.0, 0.0, 0.0, 0.0, 0.0, 0.0, 0.0, 0.0, 0.0, 0.0, 0.0, 0.0, 0.0, 0.0, 0.0, 0.0, 0.0, 0.0, 0.0, 0.0, 0.0, 0.0, 0.0, 0.0, 0.0, 0.0, 0.0, 0.0, 0.0, 0.0, 0.0, 0.0, 0.0, 0.0, 0.0, 0.0, 0.0, 0.0, 0.0, 0.0, 0.0, 0.0, 0.0, 0.0, 0.0, 0.0, 0.0, 0.0, 0.0, 0.0, 0.0, 0.0, 0.0, 0.0, 0.0, 0.0, 0.0, 0.0, 0.0, 0.0, 0.0, 0.0, 0.0, 0.0, 0.0, 0.0, 0.0, 0.0, 0.0, 0.0, 0.0, 0.0, 0.0, 0.0, 0.0, 0.0, 0.0, 0.0, 0.0, 0.0, 0.0, 0.0, 0.0, 0.0, 0.0, 0.0, 0.0, 0.0, 0.0, 0.0, 0.0, 0.0, 0.0, 0.0, 0.0, 0.0, 0.0, 0.0, 0.0, 0.0, 0.0, 0.0, 0.0, 0.0, 0.0, 0.0, 0.0, 0.0, 0.0, 0.0, 0.0, 0.0, 0.0, 0.0, 0.0, 0.0, 0.0, 0.0, 0.0, 0.0, 0.0, 0.0, 0.0, 0.0, 0.0, 0.0, 0.0, 0.0, 0.0, 0.0, 0.0, 0.0, 0.0, 0.0, 0.0, 0.0, 0.0, 0.0, 0.0, 0.0, 0.0, 0.0, 0.0, 0.0, 0.0, 0.0, 0.0, 0.0, 0.0, 3.3125301333986901, 0.0, 0.0, 0.0, 0.0, 0.0, 0.0, 0.0, 0.0, 0.0, 0.0, 0.0, 0.0, 0.0, 0.0, 0.0, 0.0, 0.0, 0.0, 0.0, 0.0, 0.0, 0.0, 0.0, 0.0, 0.0, 0.0, 0.0, 0.0, 0.0, 0.0, 0.0, 0.0, 0.0, 0.0, 0.0, 0.0, 0.0, 0.0, 0.0, 0.0, 0.0, 0.0, 0.0, 0.0, 0.0, 0.0, 0.0, 0.0, 0.0, 0.0, 0.0, 0.0, 0.0, 0.0, 0.0, 0.0, 0.0, 0.0, 0.0, 0.0, 0.0, 0.0, 0.0, 0.0, 0.0, 0.0, 0.0, 0.0, 0.0, 0.0, 0.0, 0.0, 0.0, 0.0, 0.0, 0.0, 0.0, 0.0, 0.0, 0.0, 0.0, 0.0, 0.0, 0.0, 0.0, 0.0, 0.0, 0.0, 0.0, 0.0, 0.0, 0.0, 0.0, 0.0, 0.0, 0.0, 0.0, 0.0, 0.0, 0.0, 0.0, 0.0, 0.0, 0.0, 0.0, 0.0, 0.0, 0.0, 0.0, 0.0, 0.0, 0.0, 0.0, 0.0, 0.0, 0.0, 0.0, 0.0, 0.0, 0.0, 0.0, 0.0, 0.0, 0.0, 0.0, 0.0, 0.0, 0.0, 0.0, 0.0, 0.0, 0.0, 0.0, 0.0, 0.0, 0.0, 0.0, 0.0, 0.0, 0.0, 0.0, 0.0, 0.0, 0.0, 0.0, 0.0, 0.0, 0.0, 0.0, 0.0, 0.0, 0.0, 0.0, 0.0, 0.0, 0.0, 0.0, 0.0, 0.0, 0.0, 0.0, 0.0, 0.0, 0.0, 0.0, 0.0, 0.0, 0.0, 0.0, 0.0, 0.0, 0.0, 0.0, 0.0, 0.0, 0.0, 0.0, 0.0, 0.0, 0.0, 0.0, 0.0, 0.0, 0.0, 0.0, 0.0, 0.0, 0.0, 0.0, 0.0, 0.0, 0.0, 0.0, 0.0, 0.0, 0.0, 0.0, 0.0, 0.0, 0.0, 0.0, 0.0, 0.0, 0.0, 0.0, 0.0, 0.0, 0.0, 0.0, 0.0, 0.0, 0.0, 0.0, 0.0, 0.0, 0.0, 0.0, 0.0, 0.0, 0.0, 0.0, 0.0, 0.0, 0.0, 0.0, 0.0, 0.0, 0.0, 0.0, 0.0, 0.0, 0.0, 0.0, 0.0, 0.0, 0.0, 0.78545899711982403, 0.0, 0.0, 0.0, 0.0, 0.0, 0.0, 0.0, 0.0, 0.0, 0.0, 0.0, 0.0, 0.0, 0.0, 0.0, 0.0, 0.0, 0.0, 0.0, 0.0, 0.0, 0.0, 0.0, 0.0, 0.0, 0.0, 0.0, 0.0, 0.0, 0.0, 0.0, 0.0, 0.0, 0.0, 0.0, 0.0, 0.0, 0.0, 0.0, 0.0, 0.0, 0.0, 0.0, 0.0, 0.0, 0.0, 0.0, 0.0, 0.0, 0.0, 0.0, 0.0, 0.0, 0.0, 0.0, 0.0, 0.0, 0.0, 0.0, 0.0, 0.0, 0.0, 0.0, 0.0, 0.0, 0.0, 0.0, 0.0, 0.0, 0.0, 0.0, 0.0, 0.0, 0.0, 0.0, 0.0, 0.0, 0.0, 0.0, 0.0, 0.0, 0.0, 0.0, 0.0, 0.0, 0.0, 0.0, 0.0, 0.0, 0.0, 0.0, 0.0, 0.0, 0.0, 0.0, 0.0, 0.0, 0.0, 0.0, 0.0, 0.0, 0.0, 0.0, 0.0, 0.0, 0.0, 0.0, 0.0, 0.0, 0.0, 0.0, 0.0, 0.0, 0.0, 0.0, 0.0, 0.0, 0.0, 0.0, 0.0, 0.0, 0.0, 0.0, 0.0, 0.0, 0.0, 0.0, 0.0, 0.0, 0.0, 0.0, 0.0, 0.0, 0.0, 0.0, 0.0, 0.0, 0.0, 0.0, 0.0, 0.0, 0.0, 0.0, 0.0, 0.0, 0.0, 0.0, 0.0, 0.0, 1.6555914333933142, 0.0, 0.0, 0.0, 0.0, 0.0, 0.0, 0.0, 0.0, 0.0, 0.0, 0.0, 0.0, 0.0, 0.0, 0.0, 0.0, 0.47371162635638325, 0.0, 0.0, 0.0, 0.0, 0.0, 0.0, 0.0, 0.0, 0.0, 0.0, 0.0, 0.0, 0.0, 0.0, 0.0, 0.0, 0.0, 0.0, 0.0, 0.0, 0.0, 0.0, 0.0, 0.0, 0.0, 0.0, 0.0, 0.0, 0.0, 0.0, 0.0, 0.0, 0.0, 0.0, 0.0, 0.0, 0.0, 0.0, 0.0, 0.0, 0.0, 0.0, 0.0, 0.0, 0.0, 0.0, 0.0, 0.0, 0.0, 0.0, 0.0, 0.0, 0.0, 0.0, 0.0, 0.0, 0.0, 0.0, 0.0, 0.0, 0.0, 0.0, 0.0, 0.0, 0.0, 0.0, 0.0, 0.0, 0.0, 0.0, 0.0, 0.0, 0.0, 0.0, 0.0, 0.0, 0.0, 0.0, 0.0, 0.0, 0.0, 0.0, 0.0, 0.0, 0.0, 0.0, 0.0, 0.0, 0.0, 0.0, 0.0, 0.0, 0.0, 0.0, 0.0, 0.0, 0.0, 0.0, 0.0, 0.0, 0.0, 0.0, 0.0, 0.0, 0.0, 0.0, 0.0, 0.0, 0.0, 0.0, 0.0, 0.0, 0.0, 0.0, 0.0, 0.0, 0.0, 0.0, 0.0, 0.0, 0.0, 0.0, 0.0, 0.0, 0.0, 0.0, 0.0, 0.0, 0.0, 0.0, 0.0, 0.0, 0.0, 0.0, 0.0, 0.0, 0.0, 0.0, 0.0, 0.0, 0.0, 0.0, 0.0, 0.0, 0.0, 0.0, 0.0, 0.0, 0.0, 0.0, 0.0, 0.0, 0.0, 0.0, 0.0, 0.0, 0.0, 0.0, 0.0, 0.0, 0.0, 0.0, 0.0, 0.0, 0.0, 0.0, 0.0, 0.0, 0.0, 0.0, 0.0, 0.0, 0.0, 0.0, 0.0, 0.0, 0.0, 0.0, 0.0, 0.0, 0.0, 0.0, 0.0, 0.0, 0.0, 0.0, 0.0, 0.0, 0.0, 0.0, 0.0, 0.0, 0.0, 0.0, 0.0, 0.0, 0.0, 0.0, 0.0, 0.0, 0.0, 0.0, 0.0, 0.0, 0.0, 0.0, 0.0, 0.0, 0.0, 0.0, 0.0, 0.0, 0.0, 0.0, 0.0, 2.1294836571848723, 0.0, 0.0, 0.0, 0.0, 0.0, 0.0, 0.0, 0.0, 0.0, 0.0, 0.0, 0.0, 0.0, 0.0, 0.0, 0.0, 0.0, 0.0, 0.0, 0.0, 0.0, 0.0, 0.0, 0.0, 0.0, 0.0, 0.0, 0.0, 0.0, 0.0, 0.0, 0.0, 0.0, 0.0, 0.0, 0.0, 0.0, 0.0, 0.0, 0.0, 0.0, 0.0, 0.0, 0.0, 0.0, 0.0, 0.0, 0.0, 0.0, 0.0, 0.0, 0.0, 0.0, 0.0, 0.0, 0.0, 0.0, 0.0, 0.0, 0.0, 0.0, 0.0, 0.0, 0.0, 0.0, 0.0, 0.0, 0.0, 0.0, 0.0, 0.0, 0.0, 0.0, 0.0, 0.0, 0.0, 0.0, 0.0, 0.0, 0.0, 0.0, 0.0, 0.0, 0.0, 0.0, 0.0, 0.0, 0.0, 0.0, 0.0, 0.0, 0.0, 0.0, 0.0, 0.0, 0.0, 0.0, 0.0, 0.0, 0.0, 0.0, 0.0, 0.0, 0.0, 0.0, 0.0, 0.0, 0.0, 0.0, 0.0, 0.0, 0.0, 0.0, 0.0, 0.0, 0.0, 0.0, 0.0, 0.0, 0.0, 0.0, 0.0, 0.0, 0.0, 0.0, 0.0, 0.0, 0.0, 0.0, 0.0, 0.0, 0.0, 0.0, 0.0, 0.0, 0.0, 0.0, 0.0, 0.0, 0.0, 0.0, 0.0, 0.0, 0.0, 0.0, 0.0, 0.0, 0.0, 0.0, 3.0759208381559264, 0.0, 0.0, 0.0, 0.0, 0.0, 0.0, 0.0, 0.0, 0.0, 0.0, 0.0, 0.0, 0.0, 0.0, 0.0, 0.0, 0.0, 0.0, 0.0, 0.0, 0.0, 0.0, 0.0, 0.0, 0.0, 0.0, 0.0, 0.0, 7.3348881525256715, 0.0, 0.0, 0.0, 0.0, 0.0, 0.0, 0.0, 0.0, 0.0, 0.0, 0.0, 0.0, 0.0, 0.0, 0.0, 0.0, 2.1651868373620435, 0.0, 0.0, 0.0, 0.0, 0.0, 0.0, 0.0, 0.0, 0.0, 0.0, 0.0, 0.0, 0.0, 0.0, 0.0, 0.0, 0.0, 0.0, 0.0, 0.0, 0.0, 0.0, 0.0, 0.0, 0.0, 0.0, 0.0, 0.0, 0.0, 0.0, 0.0, 0.0, 0.0, 0.0, 0.0, 0.0, 0.0, 0.0, 0.0, 0.0, 0.0, 0.0, 0.0, 0.0, 0.0, 0.0, 0.0, 0.0, 0.0, 0.0, 0.0, 0.0, 0.0, 0.0, 0.0, 0.0, 0.0, 0.0, 0.0, 0.0, 0.0, 0.0, 0.0, 0.0, 0.0, 0.0, 0.0, 0.0, 0.0, 0.0, 0.0, 0.0, 0.0, 0.0, 0.0, 0.0, 0.0, 0.0, 0.0, 0.0, 0.0, 0.0, 0.0, 0.0, 0.0, 0.0, 0.0, 0.0, 0.0, 0.0, 0.0, 0.0, 0.0, 0.0, 0.0, 0.0, 0.0, 0.0, 0.0, 0.0, 0.0, 0.0, 0.0, 0.0, 0.0, 0.0, 0.0, 0.0, 0.0, 0.0, 0.0, 0.0, 0.0, 0.0, 0.0, 0.0, 0.0, 0.0, 0.0, 0.0, 0.0, 0.0, 0.0, 0.0, 0.0, 0.0, 0.0, 0.0, 0.0, 0.0, 0.0, 0.0, 0.0, 0.0, 0.0, 0.0, 0.0, 0.0, 0.0, 0.0, 0.0, 0.0, 0.0, 0.0, 0.0, 0.0, 0.0, 0.0, 0.0, 0.0, 0.0, 0.0, 0.0, 0.0, 0.0, 0.0, 0.0, 0.0, 0.0, 0.0, 0.0, 0.0, 0.0, 0.0, 0.0, 0.0, 0.0, 0.0, 0.0, 0.0, 0.0, 0.0, 0.0, 0.0, 0.0, 0.0, 0.0, 0.0, 0.0, 0.0, 0.0, 0.0, 0.0, 0.0, 0.0, 0.0, 0.0, 0.0, 0.0, 0.0, 3.3125301333986901, 0.0, 0.0, 0.0, 0.0, 0.0, 0.0, 0.0, 0.0, 0.0, 0.0, 0.0, 0.0, 0.0, 0.0, 0.0, 0.0, 0.0, 0.0, 0.0, 0.0, 0.0, 0.0, 0.0, 0.0, 0.0, 0.0, 0.0, 0.0, 0.0, 0.0, 0.0, 0.0, 0.0, 0.0, 0.0, 0.0, 0.0, 0.0, 0.0, 0.0, 0.0, 0.0, 0.0, 0.0, 0.0, 0.0, 0.0, 0.0, 0.0, 0.0, 0.0, 0.0, 0.0, 0.0, 0.0, 0.0, 0.0, 0.0, 0.0, 0.0, 0.0, 0.0, 0.0, 0.0, 0.0, 0.0, 0.0, 0.0, 0.0, 0.0, 0.0, 0.0, 0.0, 0.0, 0.0, 0.0, 0.0, 0.0, 0.0, 0.0, 0.0, 0.0, 0.0, 0.0, 0.0, 0.0, 0.0, 0.0, 0.0, 0.0, 0.0, 0.0, 0.0, 0.0, 0.0, 0.0, 0.0, 0.0, 0.0, 0.0, 0.0, 0.0, 0.0, 0.0, 0.0, 0.0, 0.0, 0.0, 0.0, 0.0, 0.0, 0.0, 0.0, 0.0, 0.0, 0.0, 0.0, 0.0, 0.0, 0.0, 0.0, 0.0, 0.0, 0.0, 0.0, 0.0, 0.0, 0.0, 0.51733182758872887, 0.0, 0.0, 0.0, 0.0, 0.0, 0.0, 0.0, 0.0, 0.0, 0.0, 0.0, 0.0, 0.0, 0.0, 0.0, 0.0, 0.0, 0.0, 0.0, 0.0, 0.47371162635638325, 0.0, 0.0, 0.0, 0.0, 0.0, 0.0, 0.0, 0.0, 0.0, 0.0, 0.0, 0.0, 0.0, 0.0, 0.0, 0.0, 0.0, 0.0, 0.0, 0.0, 0.0, 0.0, 0.0, 0.0, 0.0, 0.0, 0.0, 0.0, 0.0, 0.0, 0.0, 0.0, 0.0, 0.0, 0.0, 0.0, 0.0, 0.0, 0.0, 0.0, 0.0, 0.0, 0.0, 0.0, 0.0, 0.0, 0.0, 0.0, 0.0, 0.0, 0.0, 0.0, 0.0, 0.0, 0.0, 0.0, 0.0, 0.0, 0.0, 0.0, 0.0, 0.0, 0.0, 0.0, 0.0, 0.0, 0.0, 0.0, 0.0, 0.0, 0.0, 0.0, 0.0, 0.0, 0.0, 0.0, 0.0, 0.0, 0.0, 0.0, 0.0, 0.0, 0.0, 0.0, 0.0, 0.0, 0.0, 0.0, 0.0, 0.0, 0.0, 0.0, 0.0, 0.0, 0.0, 0.0, 0.0, 0.0, 0.0, 0.0, 0.0, 0.0, 0.0, 0.0, 0.0, 0.0, 0.0, 0.0, 0.0, 0.0, 0.0, 0.0, 0.0, 0.0, 0.0, 0.0, 0.0, 0.0, 0.0, 0.0, 0.0, 0.0, 0.0, 0.0, 0.0, 0.0, 0.0, 0.0, 0.0, 0.0, 0.0, 0.0, 0.0, 0.0, 0.0, 0.0, 0.0, 0.0, 0.0, 0.0, 0.0, 0.0, 0.0, 0.0, 0.0, 0.0, 0.0, 0.0, 0.0, 0.0, 0.0, 0.0, 0.0, 0.0, 0.0, 0.0, 0.0, 0.0, 0.0, 0.0, 0.0, 0.0, 0.0, 0.0, 0.0, 0.0, 0.0, 0.0, 0.0, 0.0, 0.0, 0.0, 0.0, 0.0, 0.0, 0.0, 0.0, 0.0, 0.0, 0.0, 0.0, 0.0, 0.0, 0.0, 0.0, 0.0, 0.0, 0.0, 0.0, 0.0, 0.0, 0.0, 0.0, 0.0, 0.0, 0.0, 0.0, 0.0, 0.0, 0.0, 0.0, 0.0, 0.0, 0.0, 0.0, 0.0, 0.0, 0.0, 0.0, 0.0, 0.0, 0.0, 0.0, 0.0, 0.0, 0.0, 0.0, 0.0, 0.0, 0.0, 0.0, 0.0, 0.0, 0.0, 0.0, 0.0, 0.0, 0.0, 0.0, 0.0, 0.0, 0.0, 0.0, 0.0, 0.0, 0.0, 0.0, 0.0, 0.0, 0.0, 0.0, 0.0, 0.0, 0.0, 0.0, 0.0, 0.0, 0.0, 0.0, 0.0, 0.0, 0.0, 0.0, 0.0, 0.0, 0.0, 0.0, 0.0, 0.0, 0.0, 0.0, 0.0, 0.0, 0.0, 0.0, 0.0, 0.0, 0.0, 0.0, 0.0, 0.0, 0.0, 0.0, 0.0, 0.0, 0.0, 0.0, 0.0, 0.0, 0.0, 0.0, 0.0, 0.0, 0.0, 0.0, 0.0, 0.0, 0.0, 0.0, 0.0, 0.0, 0.0, 0.0, 0.0, 0.0, 0.0, 0.0, 0.0, 0.0, 0.0, 0.0, 0.0, 0.0, 0.0, 0.0, 0.0, 0.0, 0.0, 0.0, 0.0, 0.0, 0.0, 0.0, 0.0, 0.0, 0.0, 0.0, 0.0, 0.0, 0.0, 0.0, 0.0, 0.0, 0.0, 0.0, 0.0, 0.0, 0.0, 0.0, 0.0, 0.0, 0.0, 0.0, 0.0, 0.0, 0.0, 0.0, 0.0, 0.0, 0.0, 0.0, 0.0, 0.0, 0.0, 0.0, 0.0, 0.0, 0.0, 0.0, 0.0, 0.0, 0.0, 0.0, 0.0, 0.0, 0.0, 0.0, 0.0, 0.0, 0.0, 0.0, 0.0, 0.0, 0.0, 0.0, 0.0, 0.0, 0.0, 0.0, 0.0, 0.0, 0.0, 0.0, 0.0, 0.0, 0.0, 0.0, 0.0, 0.0, 0.0, 0.0, 0.0, 1.8928743619421087, 0.0, 0.0, 0.0, 0.0, 0.0, 0.0, 0.0, 0.0, 0.0, 0.0, 0.0, 0.0, 0.0, 0.0, 0.0, 0.0, 0.0, 0.0, 0.0, 0.0, 0.0, 0.0, 0.0, 0.0, 0.0, 0.0, 0.0, 0.0, 0.0, 0.0, 0.0, 0.0, 0.0, 0.0, 0.0, 0.0, 0.0, 0.0, 0.0, 0.0, 0.0, 0.0, 0.0, 0.0, 0.0, 4.4186467111460894, 0.0, 0.0, 0.0, 0.0, 0.0, 0.0, 0.0, 0.0, 0.0, 0.0, 0.0, 0.0, 0.0, 0.0, 0.0, 0.0, 0.0, 0.0, 0.0, 0.0, 0.0, 0.0, 0.0, 0.0, 0.0, 0.0, 0.0, 0.0, 0.0, 0.0, 0.0, 0.0, 0.0, 0.0, 0.0, 0.0, 0.0, 0.0, 0.0, 0.0, 0.0, 0.0, 0.0, 0.0, 0.0, 0.0, 0.0, 0.0, 0.0, 0.0, 0.0, 0.0, 0.0, 0.0, 0.0, 0.0, 0.0, 0.0, 0.0, 0.0, 0.0, 0.0, 0.0, 0.0, 0.0, 0.0, 0.0, 0.0, 0.0, 0.0, 0.0, 0.0, 0.0, 0.0, 0.0, 0.0, 0.0, 0.0, 0.0, 0.0, 0.0, 0.0, 0.0, 0.0, 0.0, 0.0, 0.0, 0.0, 0.0, 0.0, 0.0, 0.0, 0.0, 0.0, 0.0, 0.0, 0.0, 0.0, 0.0, 0.0, 0.0, 0.0, 0.0, 0.0, 0.0, 0.0, 0.0, 0.0, 0.0, 0.0, 0.0, 0.0, 0.0, 0.0, 0.0, 0.0, 0.0, 0.0, 0.0, 0.0, 0.0, 0.0, 0.0, 0.0, 0.0, 0.0, 0.0, 0.0, 0.0, 0.0, 0.0, 0.0, 0.0, 0.0, 0.0, 0.0, 0.0, 0.0, 0.0, 0.0, 0.0, 0.0, 0.0, 0.0, 0.0, 0.0, 0.0, 0.0, 0.0, 0.0, 0.0, 0.0, 0.0, 0.0, 0.0, 0.0, 0.0, 0.0, 0.0, 0.0, 0.0, 0.0, 0.0, 0.0, 0.0, 0.0, 0.0, 0.0, 0.0, 0.0, 0.0, 0.0, 0.0, 0.0, 0.0, 0.0, 0.0, 0.0, 0.0, 0.0, 0.0, 0.0, 0.0, 0.0, 0.0, 0.0, 0.0, 0.0, 0.0, 0.0, 3.3125301333986901, 0.0, 0.0, 0.0, 0.0, 0.0, 0.0, 0.0, 0.0, 0.0, 0.0, 0.0, 0.0, 0.0, 0.0, 0.0, 0.0, 0.0, 0.0, 0.0, 0.0, 0.0, 0.0, 0.0, 0.0, 0.94742325271276651, 0.0, 0.0, 0.0, 0.0, 0.0, 0.0, 0.0, 0.0, 0.0, 0.0, 0.0, 0.0, 0.0, 0.0, 0.0, 0.0, 0.0, 0.0, 0.0, 0.0, 0.0, 0.0, 0.0, 0.0, 0.0, 0.0, 0.0, 0.0, 0.0, 0.0, 0.0, 0.0, 0.0, 0.0, 0.0, 0.0, 0.0, 0.0, 0.0, 0.0, 0.0, 0.0, 0.0, 0.0, 0.0, 0.0, 0.0, 0.0, 0.0, 0.0, 0.0, 0.0, 0.0, 0.0, 0.0, 0.0, 0.0, 0.0, 0.0, 0.0, 0.0, 0.0, 0.0, 0.0, 0.0, 0.0, 0.0, 0.0, 0.0, 0.0, 0.0, 0.0, 0.0, 0.0, 0.0, 0.0, 0.0, 0.0, 0.0, 0.0, 0.0, 0.0, 0.0, 0.0, 0.0, 0.0, 0.0, 0.0, 0.0, 0.0, 0.0, 0.0, 0.0, 0.0, 0.0, 0.0, 0.0, 0.0, 0.0, 0.0, 0.0, 0.0, 0.0, 0.0, 0.0, 0.0, 0.0, 0.0, 0.0, 0.0, 0.0, 0.0, 0.0, 0.0, 0.0, 0.0, 0.0, 0.0, 0.0, 0.0, 0.0, 0.0, 0.0, 0.0, 1.4196557714565814, 0.0, 0.0, 0.0, 0.0, 0.0, 0.0, 0.0, 0.0, 0.0, 0.0, 0.0, 0.0, 0.0, 0.0, 0.0, 0.0, 0.0, 0.0, 0.0, 0.0, 0.0, 0.0, 0.0, 0.0, 0.0, 0.0, 0.0, 0.0, 0.0, 0.0, 0.0, 0.0, 0.0, 0.0, 0.0, 0.0, 0.0, 0.0, 0.0, 0.0, 0.0, 0.0, 0.0, 0.0, 0.0, 0.0, 0.0, 0.0, 0.0, 0.0, 0.0, 0.0, 0.0, 0.0, 0.0, 0.0, 0.0, 0.0, 0.0, 0.0, 0.0, 0.0, 0.0, 0.0, 0.0, 0.0, 0.0, 0.0, 0.0, 0.0, 0.0, 0.0, 0.0, 0.0, 0.0, 0.0, 0.0, 0.0, 0.0, 0.0, 0.0, 0.0, 0.0, 0.0, 0.0, 0.0, 0.0, 0.0, 0.0, 0.0, 0.0, 0.0, 0.0, 0.0, 0.0, 0.0, 0.0, 0.0, 0.0, 0.0, 0.0, 0.0, 0.0, 0.0, 0.0, 0.0, 0.0, 0.0, 0.0, 0.0, 0.0, 0.0, 0.0, 0.0, 0.0, 0.0, 0.0, 0.0, 0.0, 0.0, 0.0, 0.0, 0.0, 0.0, 0.0, 0.0, 0.0, 0.0, 0.0, 0.0, 0.0, 0.0, 0.0, 0.0, 0.0, 0.0, 0.0, 0.0, 0.0, 0.0, 0.0, 0.0, 0.0, 0.0, 0.0, 0.0, 0.0, 0.0, 0.0, 0.0, 0.0, 0.0, 0.0, 0.0, 0.0, 0.0, 0.0, 0.0, 0.0, 0.0, 0.0, 0.0, 0.0, 0.0, 0.0, 0.0, 0.0, 0.0, 0.0, 0.0, 0.0, 0.0, 0.0, 0.0, 0.0, 0.0, 0.0, 0.0, 0.0, 0.0, 0.0, 0.0, 0.0, 0.0, 0.0, 0.0, 0.0, 0.0, 0.0, 0.0, 0.0, 0.0, 0.0, 0.0, 0.0, 0.0, 0.0, 0.0, 0.0, 0.0, 0.0, 0.0, 0.0, 0.0, 0.0, 0.0, 0.0, 0.0, 0.0, 0.0, 0.0, 0.0, 0.0, 0.0, 0.0, 0.0, 0.0, 0.0, 0.0, 0.0, 0.0, 0.0, 0.0, 0.0, 0.0, 0.0, 0.0, 0.0, 0.0, 0.0, 0.0, 0.0, 4.4955766096125078, 0.0, 0.0, 0.0, 0.0, 0.0, 0.0, 0.0, 0.0, 0.0, 0.0, 0.0, 0.0, 0.0, 0.0, 0.0, 0.0, 0.0, 0.0, 0.0, 0.0, 0.0, 0.0, 0.0, 0.0, 0.0, 0.0, 0.0, 0.0, 1.4196557714565814, 0.0, 0.0, 0.0, 0.0, 0.0, 0.0, 0.0, 0.0, 0.0, 0.0, 0.0, 0.0, 0.0, 0.0, 0.0, 0.0, 3.2502490172036, 0.0, 0.0, 0.0, 0.0, 0.0, 0.0, 0.0, 0.0, 0.0, 0.0, 0.0, 0.0, 0.0, 0.0, 0.0, 0.0, 0.0, 0.0, 0.0, 0.0, 0.0, 0.0, 0.0, 0.0, 0.0, 0.0, 0.0, 0.0, 0.0, 0.0, 0.0, 0.0, 0.0, 0.0, 0.0, 0.0, 0.0, 0.0, 0.0, 0.0, 0.0, 0.0, 0.0, 0.0, 0.0, 0.0, 0.0, 0.0, 0.0, 0.0, 0.0, 0.0, 0.0, 0.0, 0.0, 0.0, 0.0, 0.0, 0.0, 0.0, 0.0, 0.0, 0.0, 0.0, 0.0, 0.0, 0.0, 0.0, 0.0, 0.0, 0.0, 0.0, 0.0, 0.0, 0.0, 0.0, 0.0, 0.0, 0.0, 0.0, 0.0, 0.0, 0.0, 0.0, 0.0, 0.0, 0.0, 0.0, 0.0, 0.0, 0.0, 0.0, 0.0, 0.0, 0.0, 0.0, 0.0, 0.0, 0.0, 0.0, 0.0, 0.0, 0.0, 2.8393115429131628, 0.0, 0.0, 0.0, 0.0, 0.0, 0.0, 0.0, 0.0, 0.0, 0.0, 0.0, 0.0, 0.0, 0.0, 0.0, 0.0, 0.0, 0.0, 0.0, 0.0, 0.0, 0.0, 0.0, 0.0, 0.0, 0.0, 0.0, 0.0, 0.0, 0.0, 0.0, 0.0, 0.0, 0.0, 0.0, 0.0, 0.0, 0.0, 0.0, 0.0, 0.0, 0.0, 0.0, 0.0, 0.0, 0.0, 0.0, 0.0, 0.0, 0.0, 0.0, 0.0, 0.0, 0.0, 0.0, 0.0, 0.0, 0.0, 0.0, 0.0, 0.0, 0.0, 0.0, 0.0, 0.0, 0.0, 0.0, 0.0, 0.0, 0.0, 0.0, 0.0, 0.0, 0.0, 0.0, 0.0, 0.0, 0.0, 0.0, 0.0, 0.0, 0.0, 0.0, 0.0, 0.0, 0.0, 0.0, 0.0, 0.0, 0.0, 0.0, 0.0, 0.0, 0.0, 0.0, 0.0, 0.0, 0.0, 0.0, 0.0, 0.0, 0.0, 0.0, 0.0, 0.0, 0.0, 0.0, 0.0, 0.0, 0.0, 0.0, 0.0, 0.0, 0.0, 0.0, 0.0, 0.0, 0.0, 0.0, 0.0, 0.0, 0.0, 0.0, 0.0, 0.0, 0.0, 0.0, 0.0, 0.0, 0.0, 0.0, 0.0, 3.1238912139605364, 0.0, 0.0, 0.0, 0.0, 0.0, 0.0, 0.0, 0.0, 0.0, 0.0, 0.0, 0.0, 0.0, 0.0, 0.0, 0.0, 0.0, 0.0, 0.0, 0.0, 0.0, 0.0, 0.0, 0.0, 0.0, 0.0, 0.0, 0.0, 0.0, 0.0, 0.0, 0.0, 0.0, 0.0, 0.0, 0.0, 0.0, 0.0, 0.0, 0.0, 0.0, 0.0, 0.0, 0.0, 0.0, 0.0, 0.0, 0.0, 0.0, 0.0, 0.0, 0.0, 0.0, 0.0, 0.0, 0.0, 0.0, 0.0, 0.0, 0.0, 0.0, 0.0, 0.0, 0.0, 0.0, 0.0, 0.0, 0.0, 0.0, 0.0, 0.0, 0.0, 0.0, 0.0, 0.0, 0.0, 0.0, 0.0, 0.0, 0.0, 0.0, 0.0, 0.0, 0.0, 0.0, 0.0, 0.0, 0.0, 0.0, 0.0, 0.0, 0.0, 0.0, 0.0, 0.0, 0.0, 0.0, 0.0, 0.0, 0.0, 0.0, 0.0, 0.0, 2.6027022476703996, 0.0, 0.0, 0.0, 0.0, 0.0, 0.0, 0.0, 0.0, 0.0, 0.0, 0.0, 0.0, 0.0, 0.0, 0.0, 0.0, 0.0, 0.0, 0.0, 0.0, 0.0, 0.0, 0.0, 0.0, 0.0, 0.0, 0.0, 0.0, 0.0, 0.0, 0.0, 0.0, 0.0, 0.0, 0.0, 0.0, 0.0, 0.0, 0.0, 0.0, 0.0, 0.0, 0.0, 0.0, 0.0, 0.0, 0.0, 0.0, 0.0, 0.0, 0.0, 0.0, 0.0, 0.0, 0.0, 0.0, 0.0, 0.0, 0.0, 0.0, 0.0, 0.0, 0.0, 0.0, 0.0, 0.0, 0.0, 0.0, 0.0, 0.0, 0.0, 0.0, 0.0, 0.0, 0.0, 0.0, 0.0, 0.0, 0.0, 0.0, 0.0, 0.0, 0.0, 0.0, 0.0, 0.0, 0.0, 0.0, 0.0, 0.0, 0.0, 0.0, 0.0, 0.0, 0.0, 0.0, 0.0, 0.0, 0.0, 0.0, 0.0, 0.0, 0.0, 0.0, 0.0, 0.0, 0.0, 0.0, 0.0, 0.0, 0.0, 0.0, 0.0, 0.0, 0.0, 0.0, 0.0, 0.0, 0.0, 0.0, 0.0, 0.0, 0.0, 0.0, 0.0, 0.0, 0.0, 0.0, 0.0, 0.0, 0.0, 0.0, 0.0, 0.0, 0.0, 0.0, 0.0, 0.0, 0.0, 0.0, 0.0, 0.0, 0.0, 0.0, 0.0, 0.0, 0.0, 0.0, 0.0, 0.0, 0.0, 0.0, 0.0, 0.0, 0.0, 0.0, 0.0, 0.0, 0.0, 0.0, 0.0, 0.0, 0.0, 0.0, 0.0, 0.0, 0.0, 0.0, 0.0, 0.0, 0.0, 0.0, 0.0, 0.0, 0.0, 0.0, 0.0, 0.0, 0.0, 0.0, 0.0, 0.0, 0.0, 0.0, 0.0, 0.0, 0.0, 0.0, 0.0, 0.0, 0.0, 0.0, 0.0, 0.0, 0.0, 0.0, 0.0, 0.0, 0.0, 0.0, 0.0, 0.0, 0.0, 0.0, 0.0, 0.0, 0.0, 0.0, 0.0, 0.0, 0.0, 0.0, 0.0, 0.0, 0.0, 0.0, 0.0, 0.0, 0.0, 0.0, 0.0, 0.0, 0.0, 0.0, 0.0, 0.0, 0.0, 0.0, 0.0, 0.0, 0.0, 0.0, 0.0, 0.0, 0.0, 0.0, 0.0, 0.0, 0.0, 0.0, 0.0, 0.0, 0.0, 0.0, 0.0, 0.0, 0.0, 0.0, 0.0, 0.0, 0.0, 0.0, 0.0, 0.0, 0.0, 0.0, 0.0, 0.0, 0.0, 0.0, 0.0, 0.0, 0.0, 0.0, 0.0, 0.0, 0.0, 0.0, 0.0, 0.0, 0.0, 0.0, 0.0, 0.0, 0.0, 0.0, 0.0, 0.0, 1.4614205108239158, 0.0, 0.0, 0.0, 0.0, 0.0, 0.0, 0.0, 0.0, 0.0, 0.0, 0.0, 0.0, 0.0, 0.0, 0.0, 0.0, 0.0, 0.0, 0.0, 0.0, 0.0, 0.0, 0.0, 0.0, 0.0, 0.0, 0.0, 0.0, 0.0, 0.0, 0.0, 0.0, 0.0, 0.0, 0.0, 0.0, 0.0, 0.0, 0.0, 0.0, 0.0, 0.0, 0.0, 0.0, 0.0, 0.0, 0.0, 0.0, 0.0, 0.0, 0.0, 0.0, 0.0, 0.0, 0.0, 0.0, 0.0, 0.0, 0.0, 0.0, 0.0, 0.0, 0.0, 0.0, 0.0, 0.0, 0.0, 0.0, 0.0, 0.0, 0.0, 0.0, 0.0, 0.0, 0.0, 0.0, 0.0, 0.0, 0.0, 0.0, 0.0, 0.0, 0.0, 0.0, 0.0, 0.0, 0.0, 0.0, 0.0, 0.0, 0.0, 0.0, 0.0, 0.0, 0.0, 0.0, 0.0, 0.0, 0.0, 0.0, 0.0, 0.0, 0.0, 1.183046476213818, 0.0, 0.0, 0.0, 0.0, 0.0, 0.0, 0.0, 0.0, 0.0, 0.0, 0.0, 0.0, 0.0, 0.0, 0.0, 0.0, 0.0, 0.0, 0.0, 0.0, 0.0, 0.0, 0.0, 0.0, 0.0, 0.0, 0.0, 0.0, 2.1917845118100203, 0.0, 0.0, 0.0, 0.0, 0.0, 0.0, 0.0, 0.0, 0.0, 0.0, 0.0, 0.0, 0.0, 0.0, 0.0, 0.0, 0.0, 0.0, 0.0, 0.0, 0.0, 0.0, 0.0, 0.0, 0.0, 0.0, 0.0, 0.0, 0.0, 0.0, 0.0, 0.0, 0.0, 0.0, 0.0, 0.0, 0.0, 0.0, 0.0, 0.0, 0.0, 0.0, 0.0, 0.0, 0.0, 0.0, 0.0, 0.0, 0.0, 0.0, 0.0, 0.0, 0.0, 0.0, 0.0, 0.0, 0.0, 0.0, 0.0, 0.0, 0.0, 0.0, 0.0, 0.0, 0.0, 0.0, 0.0, 0.0, 0.0, 0.0, 0.0, 0.0, 0.0, 0.0, 0.0, 0.0, 0.0, 0.0, 0.0, 0.0, 0.0, 0.0, 0.0, 0.0, 0.0, 0.0, 0.0, 0.0, 0.0, 0.0, 0.0, 0.0, 0.0, 0.0, 0.0, 0.0, 0.0, 0.0, 0.0, 0.0, 0.0, 0.0, 0.0, 0.0, 0.0, 0.0, 0.0, 0.0, 0.0, 0.0, 0.0, 0.0, 0.0, 0.0, 0.0, 0.0, 0.0, 0.0, 0.0, 0.0, 0.94643718097105434, 0.0, 0.0, 0.0, 0.0, 0.0, 0.0, 0.0, 0.0, 0.0, 0.0, 0.0, 0.0, 0.0, 0.0, 0.0, 0.0, 0.0, 0.0, 0.0, 0.0, 0.0, 0.0, 0.0, 0.0, 0.0, 0.0, 0.0, 0.0, 0.0, 0.0, 0.0, 0.0, 0.0, 0.0, 0.0, 0.0, 0.0, 0.0, 0.0, 0.0, 0.0, 0.0, 0.0, 0.0, 0.0, 0.0, 0.0, 0.0, 0.0, 0.0, 0.0, 0.0, 0.0, 0.0, 0.0, 0.0, 0.0, 0.0, 0.0, 0.0, 0.0, 0.0, 0.0, 0.0, 0.0, 0.0, 0.0, 0.0, 0.0, 0.0, 0.0, 0.0, 0.0, 0.0, 0.0, 0.0, 0.0, 0.0, 0.0, 0.0, 0.0, 0.0, 0.0, 0.0, 0.0, 0.0, 0.0, 0.0, 0.0, 0.0, 0.0, 0.0, 0.0, 0.0, 0.0, 0.0, 0.0, 0.0, 0.0, 0.0, 0.0, 0.0, 0.0, 0.0, 0.0, 0.0, 0.0, 0.0, 0.0, 0.0, 0.0, 0.0, 0.0, 0.0, 0.0, 0.0, 0.0, 0.0, 0.0, 0.0, 0.0, 0.0, 0.0, 0.0, 0.0, 0.0, 0.0, 0.0, 0.0, 0.0, 0.0, 0.0, 0.0, 0.0, 0.0, 0.0, 0.0, 0.0, 0.0, 0.0, 0.0, 0.0, 0.0, 0.0, 0.0, 0.0, 0.0, 0.0, 0.0, 5.4420137905835624, 0.0, 0.0, 0.0, 0.0, 0.0, 0.0, 0.0, 0.0, 0.0, 0.0, 0.0, 0.0, 0.0, 0.0, 0.0, 0.0, 0.0, 0.0, 0.0, 0.0, 0.0, 0.0, 0.0, 0.0, 0.0, 0.0, 0.0, 0.0, 0.0, 0.0, 0.0, 0.0, 0.0, 0.0, 0.0, 0.0, 0.0, 0.0, 0.0, 0.0, 0.0, 0.0, 0.0, 0.0, 0.0, 0.0, 0.0, 0.0, 0.0, 0.0, 0.0, 0.0, 0.0, 0.0, 0.0, 0.0, 0.0, 0.0, 0.0, 0.0, 0.0, 0.0, 0.0, 0.0, 0.0, 0.0, 0.0, 0.0, 0.0, 0.0, 0.0, 0.0, 0.0, 0.0, 0.0, 0.0, 0.0, 0.0, 0.0, 0.0, 0.0, 0.0, 0.0, 0.0, 0.0, 0.0, 0.0, 0.0, 0.0, 0.0, 0.0, 0.0, 0.0, 0.0, 0.0, 0.0, 0.0, 0.0, 0.0, 0.0, 0.0, 0.0, 0.0, 0.0, 0.0, 0.0, 0.0, 0.0, 0.0, 0.0, 0.0, 0.0, 0.0, 0.0, 0.0, 0.0, 0.0, 0.0, 0.0, 0.0, 0.0, 0.0, 0.0, 0.0, 0.0, 0.0, 0.0, 0.0, 0.0, 0.0, 0.0, 0.0, 2.6415671003267605, 0.0, 0.0, 0.0, 0.0, 0.0, 0.0, 0.0, 0.0, 0.0, 0.0, 0.0, 0.0, 0.0, 0.0, 0.0, 0.0, 0.0, 0.0, 0.0, 0.0, 0.0, 0.0, 0.0, 0.0, 0.0, 0.0, 0.0, 0.0, 0.0, 0.0, 0.0, 0.0, 0.0, 0.0, 0.0, 0.0, 0.0, 0.0, 0.0, 0.0, 0.0, 0.0, 0.0, 0.0, 0.0, 0.0, 0.0, 0.0, 0.0, 0.0, 0.0, 0.0, 0.0, 0.0, 0.0, 0.0, 0.0, 0.0, 0.0, 0.0, 0.0, 0.0, 0.0, 0.0, 0.0, 0.0, 0.0, 0.0, 0.0, 0.0, 0.0, 0.0, 0.0, 0.0, 0.0, 0.0, 0.0, 0.0, 0.0, 0.0, 0.0, 0.0, 0.0, 0.0, 0.0, 0.0, 0.0, 0.0, 0.0, 0.0, 0.0, 0.0, 0.0, 0.0, 0.0, 0.0, 0.0, 0.0, 0.0, 0.0, 0.0, 0.0, 0.0, 4.0223580191269805, 0.0, 0.0, 0.0, 0.0, 0.0, 0.0, 0.0, 0.0, 0.0, 0.0, 0.0, 0.0, 0.0, 0.0, 0.0, 0.0, 0.0, 0.0, 0.0, 0.0, 0.0, 0.0, 0.0, 0.0, 0.0, 0.0, 0.0, 0.0, 0.0, 0.0, 0.0, 0.0, 0.0, 0.0, 0.0, 0.0, 0.0, 0.0, 0.0, 0.0, 0.0, 0.0, 0.0, 0.0, 0.0, 0.47321859048552717, 0.0, 0.0, 0.0, 0.0, 0.0, 0.0, 0.0, 0.0, 0.0, 0.0, 0.0, 0.0, 0.0, 0.0, 0.0, 0.0, 0.0, 0.0, 0.0, 0.0, 0.0, 0.0, 0.0, 0.0, 0.0, 0.0, 0.0, 0.0, 0.0, 0.0, 0.0, 0.0, 0.0, 0.0, 0.0, 0.0, 0.0, 0.0, 0.0, 0.0, 0.0, 0.0, 0.0, 0.0, 0.0, 0.0, 0.0, 0.0, 0.0, 0.0, 0.0, 0.0, 0.0, 0.0, 0.0, 0.0, 0.0, 0.0, 0.0, 0.0, 0.0, 0.0, 0.0, 0.0, 0.0, 0.0, 0.0, 0.0, 0.0, 0.0, 0.0, 0.0, 0.0, 0.0, 0.0, 0.0, 0.0, 0.0, 0.0, 0.0, 0.0, 0.0, 0.0, 0.0, 0.0, 0.0, 0.0, 0.0, 0.0, 0.0, 0.0, 0.0, 0.0, 0.0, 0.0, 0.0, 0.0, 0.0, 0.0, 0.0, 0.0, 0.0, 0.0, 1.8928743619421087, 0.0, 0.0, 0.0, 0.0, 0.0, 0.0, 0.0, 0.0, 0.0, 0.0, 0.0, 0.0, 0.0, 0.0, 0.0, 0.0, 0.0, 0.0, 0.0, 0.0, 0.0, 0.0, 0.0, 0.0, 0.0, 0.0, 0.0, 0.0, 0.0, 0.0, 0.0, 0.0, 0.0, 0.0, 0.0, 0.0, 0.0, 0.0, 0.0, 0.0, 0.0, 0.0, 0.0, 0.0, 0.0, 0.0, 0.0, 0.0, 0.0, 0.0, 0.0, 0.0, 0.0, 0.0, 0.0, 0.0, 0.0, 0.0, 0.0, 0.0, 0.0, 0.0, 0.0, 0.0, 0.0, 0.0, 0.0, 0.0, 0.0, 0.0, 0.0, 0.0, 0.0, 0.0, 0.0, 0.0, 0.0, 0.0, 0.0, 0.0, 0.0, 0.0, 0.0, 0.0, 0.0, 0.0, 0.0, 0.0, 0.0, 0.0, 0.0, 0.0, 0.0, 0.0, 0.0, 0.0, 0.0, 0.0, 0.0, 0.0, 0.0, 0.0, 0.0, 0.0, 0.0, 0.0, 0.0, 0.0, 0.0, 0.0, 0.0, 2.0974220265465093, 0.0, 0.0, 0.0, 0.0, 0.0, 0.0, 0.0, 0.0, 0.0, 0.0, 0.0, 0.0, 0.0, 0.0, 0.0, 0.0, 0.0, 0.0, 0.0, 0.0, 0.0, 0.0, 0.0, 0.0, 0.0, 0.0, 0.0, 0.0, 0.0, 0.0, 0.0, 0.0, 0.0, 0.0, 0.0, 0.0, 0.0, 0.0, 0.0, 0.0, 0.0, 0.0, 0.0, 0.0)]\n"
     ]
    }
   ],
   "source": [
    "dt = SparkTrainDataTransformer('./spark')\n",
    "dt._create_commits_df()\n",
    "dt._create_issues_df()\n",
    "c_df = dt._commits_df\n",
    "print c_df\n",
    "print c_df.show(3)\n",
    "i_df = dt._issues_df\n",
    "print i_df\n",
    "print i_df.show(3)\n",
    "dt._create_commits_rdd()\n",
    "dt._create_issues_rdd()\n",
    "c_rdd = dt.commits_rdd\n",
    "i_rdd = dt.issues_rdd\n",
    "dt._bug_grouping_and_joining()\n",
    "print 'after grouping and joining'\n",
    "print dt.bug_grouped_rdd.take(3)\n",
    "\n",
    "print 'author coding'\n",
    "dt._author_coding()\n",
    "print dt.bug_grouped_rdd.take(3)\n",
    "\n",
    "print 'date coding'\n",
    "dt._date_coding()\n",
    "print dt.bug_grouped_rdd.take(3)\n",
    "\n",
    "print 'revNo coding'\n",
    "dt._revNo_coding()\n",
    "print dt.bug_grouped_rdd.take(3)\n",
    "\n",
    "print 'labels coding'\n",
    "dt._label_coding()\n",
    "print dt.bug_grouped_rdd.take(3)\n",
    " \n",
    "print 'path coding'\n",
    "dt._path_coding()\n",
    "print dt.coded_rdd.take(3)"
   ]
  },
  {
   "cell_type": "code",
   "execution_count": 31,
   "metadata": {
    "collapsed": true,
    "deletable": true,
    "editable": true
   },
   "outputs": [],
   "source": [
    "def get_all_keys(dataset):\n",
    "    keys = []\n",
    "    for i in dataset:\n",
    "        if isinstance(i, list): i = i[0]\n",
    "        for k in i.keys():\n",
    "            if k not in keys:\n",
    "                keys.append(k)\n",
    "    return keys\n",
    "\n",
    "def read_json_0(path, coding='utf8'):\n",
    "    files = [os.path.join(path, f) for f in os.listdir(path) if os.path.isfile(os.path.join(path, f)) \\\n",
    "                                                                 and f.split('.')[-1] == 'json']\n",
    "    return [json.loads(line, coding) for f in files for line in open(f, 'r')]\n",
    "\n",
    "def read_json(path, coding=\"ISO-8859-1\"):\n",
    "    files = [os.path.join(path, f) for f in os.listdir(path) if os.path.isfile(os.path.join(path, f)) \\\n",
    "                                                                 and f.split('.')[-1] == 'json']\n",
    "    x = [json.loads(line, coding) for f in files for line in open(f, 'r')]\n",
    "    x = [i[0] if isinstance(i, list) else i for i in x[0]] \n",
    "    if 'job' in get_all_keys(x):\n",
    "        new_x = []\n",
    "        counter = 0\n",
    "        for i in x:\n",
    "            if 'job' not in i.keys():\n",
    "                new_x.append(i)\n",
    "                new_x[counter].update({'job': ''})\n",
    "                counter += 1\n",
    "                continue\n",
    "            if isinstance(i['job'], list) and len(i['job']) > 1:\n",
    "                for j in i['job']:\n",
    "                    new_x.append(i)\n",
    "                    new_x[counter].update({'job': j})\n",
    "                    counter += 1\n",
    "            else:\n",
    "                new_x.append(i)\n",
    "                if isinstance(i['job'], list):\n",
    "                    new_x[counter].update({'job': i['job'][0]})\n",
    "                counter += 1\n",
    "        return new_x\n",
    "    else:\n",
    "        return x"
   ]
  },
  {
   "cell_type": "code",
   "execution_count": 85,
   "metadata": {
    "collapsed": false,
    "deletable": true,
    "editable": true,
    "scrolled": true
   },
   "outputs": [
    {
     "data": {
      "text/plain": [
       "[{u'attachments': [{u'Author': u'Andrey Gura',\n",
       "    u'Date': u'16/Apr/15 20:26',\n",
       "    u'Delete': u'',\n",
       "    u'Size': u'28 kB',\n",
       "    u'Title': u'ignite-485.patch',\n",
       "    u'titleURL': u'https://issues.apache.org/jira/secure/attachment/12725968/ignite-485.patch'},\n",
       "   {u'Author': u'Andrey Gura',\n",
       "    u'Date': u'25/Mar/15 10:22',\n",
       "    u'Delete': u'',\n",
       "    u'Size': u'26 kB',\n",
       "    u'Title': u'ignite-485.patch',\n",
       "    u'titleURL': u'https://issues.apache.org/jira/secure/attachment/12707184/ignite-485.patch'}],\n",
       "  u'bugNo': u'IGNITE-485',\n",
       "  u'dates': [{u'Created': u'16/Mar/15 08:54',\n",
       "    u'Resolved': u'20/Apr/15 16:56',\n",
       "    u'Updated': u'23/Jul/15 10:02'}],\n",
       "  u'metadata': [{u'Component': u'streaming',\n",
       "    u'Fix Versions': u'sprint-4',\n",
       "    u'Priority': u'Critical',\n",
       "    u'Resolution': u'Fixed',\n",
       "    u'Status': u'Closed',\n",
       "    u'Type': u'Sub-task'}],\n",
       "  u'people': [{u'Asignee': u'Andrey Gura',\n",
       "    u'Reporter': u'Dmitriy Setrakyan'}]},\n",
       " {u'attachments': [{u'Author': u'Vasiliy Sisko',\n",
       "    u'Date': u'10/Mar/15 10:35',\n",
       "    u'Delete': u'',\n",
       "    u'Size': u'4 kB',\n",
       "    u'Title': u'#_IGNITE-368_Collect_node_s_error_counts.patch',\n",
       "    u'titleURL': u'https://issues.apache.org/jira/secure/attachment/12703637/%23_IGNITE-368_Collect_node_s_error_counts.patch'},\n",
       "   {u'Author': u'Vasiliy Sisko',\n",
       "    u'Date': u'12/Mar/15 11:33',\n",
       "    u'Delete': u'',\n",
       "    u'Size': u'2 kB',\n",
       "    u'Title': u'#_IGNITE-368_optimized_classnames.patch',\n",
       "    u'titleURL': u'https://issues.apache.org/jira/secure/attachment/12704139/%23_IGNITE-368_optimized_classnames.patch'}],\n",
       "  u'bugNo': u'IGNITE-368',\n",
       "  u'dates': [{u'Created': u'27/Feb/15 03:14',\n",
       "    u'Resolved': u'12/Mar/15 14:46',\n",
       "    u'Updated': u'15/Oct/15 14:05'}],\n",
       "  u'metadata': [{u'Affects Versions': u'sprint-2',\n",
       "    u'Component': u'UI',\n",
       "    u'Fix Versions': u'1.6',\n",
       "    u'Priority': u'Major',\n",
       "    u'Resolution': u'Fixed',\n",
       "    u'Status': u'Reopened',\n",
       "    u'Type': u'Bug'}],\n",
       "  u'people': [{u'Asignee': u'Vasiliy Sisko',\n",
       "    u'Reporter': u'Alexey Kuznetsov'}]},\n",
       " {u'attachments': [],\n",
       "  u'bugNo': u'IGNITE-499',\n",
       "  u'dates': [{u'Created': u'17/Mar/15 17:30', u'Updated': u'29/Sep/15 13:04'}],\n",
       "  u'metadata': [{u'Component': u'None',\n",
       "    u'Fix Versions': u'1.5',\n",
       "    u'Priority': u'Blocker',\n",
       "    u'Resolution': u'Unresolved',\n",
       "    u'Status': u'Open',\n",
       "    u'Type': u'Task'}],\n",
       "  u'people': [{u'Asignee': u'Nikolay Tikhonov',\n",
       "    u'Reporter': u'Yakov Zhdanov'}]}]"
      ]
     },
     "execution_count": 85,
     "metadata": {},
     "output_type": "execute_result"
    }
   ],
   "source": [
    "read_json_0('./ignite/issues')[:3]"
   ]
  },
  {
   "cell_type": "code",
   "execution_count": 87,
   "metadata": {
    "collapsed": false,
    "deletable": true,
    "editable": true
   },
   "outputs": [
    {
     "name": "stdout",
     "output_type": "stream",
     "text": [
      "[u'committer', u'revNo', u'author', u'bugNo', u'committed', u'authored', u'modifiedFiles']\n"
     ]
    },
    {
     "data": {
      "text/plain": [
       "[{u'author': u'Valentin Kulichenko <vkulichenko@gridgain.com>',\n",
       "  u'authored': u'Sun Mar 1 00:18:52 2015 -0800',\n",
       "  u'bugNo': u'IGNITE-141',\n",
       "  u'committed': u'Sun Mar 1 00:18:52 2015 -0800',\n",
       "  u'committer': u'Valentin Kulichenko <vkulichenko@gridgain.com>',\n",
       "  u'modifiedFiles': [u'http://git-wip-us.apache.org/repos/asf/incubator-ignite/blob/3a5aa387/modules/core/src/main/java/org/apache/ignite/marshaller/optimized/OptimizedMarshallerUtils.java',\n",
       "   u'http://git-wip-us.apache.org/repos/asf/incubator-ignite/blob/3a5aa387/modules/core/src/main/java/org/apache/ignite/internal/IgniteKernal.java',\n",
       "   u'http://git-wip-us.apache.org/repos/asf/incubator-ignite/blob/3a5aa387/modules/core/src/test/java/org/apache/ignite/internal/processors/igfs/IgfsFileInfoSelfTest.java'],\n",
       "  u'revNo': u'3a5aa3871aff5d10c60b4ce16541e9e3160bfb43'},\n",
       " {u'author': u'Valentin Kulichenko <vkulichenko@gridgain.com>',\n",
       "  u'authored': u'Sun Mar 1 07:23:58 2015 -0800',\n",
       "  u'bugNo': u'IGNITE-141',\n",
       "  u'committed': u'Sun Mar 1 07:23:58 2015 -0800',\n",
       "  u'committer': u'Valentin Kulichenko <vkulichenko@gridgain.com>',\n",
       "  u'modifiedFiles': [u'http://git-wip-us.apache.org/repos/asf/incubator-ignite/blob/095f31d3/modules/core/src/main/java/org/apache/ignite/internal/IgniteKernal.java'],\n",
       "  u'revNo': u'095f31d328ad0bed93f7baceb6b21b86ffaadf20'},\n",
       " {u'author': u'Valentin Kulichenko <vkulichenko@gridgain.com>',\n",
       "  u'authored': u'Mon Mar 2 17:28:12 2015 -0800',\n",
       "  u'bugNo': u'IGNITE-141',\n",
       "  u'committed': u'Mon Mar 2 17:28:12 2015 -0800',\n",
       "  u'committer': u'Valentin Kulichenko <vkulichenko@gridgain.com>',\n",
       "  u'modifiedFiles': [u'http://git-wip-us.apache.org/repos/asf/incubator-ignite/blob/35df737e/modules/core/src/main/java/org/apache/ignite/internal/MarshallerContextImpl.java',\n",
       "   u'http://git-wip-us.apache.org/repos/asf/incubator-ignite/blob/35df737e/modules/core/src/main/java/org/apache/ignite/internal/GridKernalContextImpl.java'],\n",
       "  u'revNo': u'35df737ec84587b2e3e68967def2e622f9298cb0'}]"
      ]
     },
     "execution_count": 87,
     "metadata": {},
     "output_type": "execute_result"
    }
   ],
   "source": [
    "print read_json_0('./ignite/commits')[:1][0].keys()\n",
    "read_json_0('./ignite/commits')[5:8]"
   ]
  },
  {
   "cell_type": "code",
   "execution_count": 13,
   "metadata": {
    "collapsed": false,
    "deletable": true,
    "editable": true
   },
   "outputs": [
    {
     "name": "stdout",
     "output_type": "stream",
     "text": [
      "[u'job079872', '', u'job079977', '', u'job075238', u'job077615', '', u'job079729', u'job079924', '']\n"
     ]
    },
    {
     "data": {
      "text/plain": [
       "[]"
      ]
     },
     "execution_count": 13,
     "metadata": {},
     "output_type": "execute_result"
    }
   ],
   "source": [
    "y = map(lambda x: x['job'] if 'job' in x.keys() else '', read_json('./depot/commits'))\n",
    "print y[:10]\n",
    "filter(lambda x: len(x) > 1 and isinstance(x, list), y)"
   ]
  },
  {
   "cell_type": "code",
   "execution_count": null,
   "metadata": {
    "collapsed": true,
    "deletable": true,
    "editable": true
   },
   "outputs": [],
   "source": []
  }
 ],
 "metadata": {
  "kernelspec": {
   "display_name": "Python 3",
   "language": "python",
   "name": "python3"
  },
  "language_info": {
   "codemirror_mode": {
    "name": "ipython",
    "version": 3
   },
   "file_extension": ".py",
   "mimetype": "text/x-python",
   "name": "python",
   "nbconvert_exporter": "python",
   "pygments_lexer": "ipython3",
   "version": "3.5.3"
  }
 },
 "nbformat": 4,
 "nbformat_minor": 0
}
